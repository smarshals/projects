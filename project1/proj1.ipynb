{
 "cells": [
  {
   "cell_type": "markdown",
   "id": "22767efc",
   "metadata": {},
   "source": [
    "Представьте, что вы работаете в компании, которая разрабатывает мобильные игры. К вам пришел менеджер с рядом задач по исследованию нескольких аспектов мобильного приложения:\n",
    "\n",
    "В первую очередь, его интересует показатель retention. Напишите функцию для его подсчета.\n",
    "Помимо этого, в компании провели A/B тестирование наборов акционных предложений. На основе имеющихся данных определите, какой набор можно считать лучшим и на основе каких метрик стоит принять правильное решение.\n",
    "Предложите метрики для оценки результатов последнего прошедшего тематического события в игре."
   ]
  },
  {
   "cell_type": "raw",
   "id": "8c1fe2d0",
   "metadata": {},
   "source": [
    "    Задание 1\n",
    "\n",
    "Retention – один из самых важных показателей в компании. Ваша задача – написать функцию, которая будет считать retention игроков (по дням от даты регистрации игрока). Данные лежат в папке shared и имеют следующую структуру:\n",
    "\n",
    "shared/problem1-reg_data.csv – данные о времени регистрации\n",
    "\n",
    "auth_ts\t | uid\n",
    "_________|_____         \n",
    "906166566|\t2\n",
    "906344325|\t2\n",
    "906686169|\t2\n",
    "906893386|\t2\n",
    "906980227|\t2\n",
    "\n",
    "shared/problem1-auth_data.csv – данные о времени захода пользователей в игру\n",
    "\n",
    "reg_ts\t |  uid\n",
    "_________|____\n",
    "906166566|\t2\n",
    "924422172|\t3\n",
    "937374732|\t4\n",
    "947425117|\t5\n",
    "955630339|\t6\n",
    "\n",
    "Функция должна быть написана на python. В ходе решения можно тестировать работу функции как на полном датасете, так и на части (сэмпле) данных."
   ]
  },
  {
   "cell_type": "raw",
   "id": "454a5736",
   "metadata": {},
   "source": [
    "   Задание 2\n",
    "    \n",
    "Имеются результаты A/B теста, в котором двум группам пользователей предлагались различные наборы акционных предложений. Известно, что ARPU в тестовой группе выше на 5%, чем в контрольной. При этом в контрольной группе 1928 игроков из 202103 оказались платящими, а в тестовой – 1805 из 202667.\n",
    "\n",
    "Какой набор предложений можно считать лучшим? Какие метрики стоит проанализировать для принятия правильного решения и как?\n",
    "\n",
    "Формат данных:\n",
    "\n",
    "user_id\trevenue\ttestgroup\n",
    "    1\t   0\t    b\n",
    "    2\t   0\t    a\n",
    "    3\t   0\t    a\n",
    "    4\t   0\t    b\n",
    "    5\t   0\t    b"
   ]
  },
  {
   "cell_type": "markdown",
   "id": "154264f6",
   "metadata": {},
   "source": [
    "    Задание 3\n",
    "    \n",
    "В игре Plants & Gardens каждый месяц проводятся тематические события, ограниченные по времени. В них игроки могут получить уникальные предметы для сада и персонажей, дополнительные монеты или бонусы. Для получения награды требуется пройти ряд уровней за определенное время. С помощью каких метрик можно оценить результаты последнего прошедшего события?\n",
    "\n",
    "Предположим, в другом событии мы усложнили механику событий так, что при каждой неудачной попытке выполнения уровня игрок будет откатываться на несколько уровней назад. Изменится ли набор метрик оценки результата? Если да, то как?    "
   ]
  },
  {
   "cell_type": "code",
   "execution_count": 3,
   "id": "9d951259",
   "metadata": {},
   "outputs": [],
   "source": [
    "import pandas as pd\n",
    "import datetime as dt\n",
    "import matplotlib.pyplot as plt\n",
    "import seaborn as sns\n",
    "import matplotlib.colors as mcolors\n",
    "from operator import attrgetter\n",
    "import requests\n",
    "import json\n",
    "from urllib.parse import urlencode\n",
    "import scipy.stats as ss\n",
    "import numpy as np\n",
    "from tqdm.auto import tqdm"
   ]
  },
  {
   "cell_type": "markdown",
   "id": "52026d73",
   "metadata": {},
   "source": [
    "##### Задание 1."
   ]
  },
  {
   "cell_type": "code",
   "execution_count": 4,
   "id": "51ccf6da",
   "metadata": {},
   "outputs": [
    {
     "ename": "FileNotFoundError",
     "evalue": "[Errno 2] No such file or directory: 'problem1-reg_data.csv'",
     "output_type": "error",
     "traceback": [
      "\u001b[1;31m---------------------------------------------------------------------------\u001b[0m",
      "\u001b[1;31mFileNotFoundError\u001b[0m                         Traceback (most recent call last)",
      "Input \u001b[1;32mIn [4]\u001b[0m, in \u001b[0;36m<cell line: 9>\u001b[1;34m()\u001b[0m\n\u001b[0;32m      1\u001b[0m \u001b[38;5;124;03m\"\"\"\u001b[39;00m\n\u001b[0;32m      2\u001b[0m \u001b[38;5;124;03mCчитаем данные, посмотрим датасеты, проверим значения, дубликаты\u001b[39;00m\n\u001b[0;32m      3\u001b[0m \u001b[38;5;124;03mproblem1-reg_data.csv  -- https://disk.yandex.ru/d/0shXKEQvF8pLrw\u001b[39;00m\n\u001b[0;32m      4\u001b[0m \u001b[38;5;124;03mproblem1-auth_data.csv  -- https://disk.yandex.ru/d/d1hoJDG0-TThbw\u001b[39;00m\n\u001b[0;32m      5\u001b[0m \n\u001b[0;32m      6\u001b[0m \u001b[38;5;124;03m\"\"\"\u001b[39;00m\n\u001b[1;32m----> 9\u001b[0m reg_data \u001b[38;5;241m=\u001b[39m \u001b[43mpd\u001b[49m\u001b[38;5;241;43m.\u001b[39;49m\u001b[43mread_csv\u001b[49m\u001b[43m(\u001b[49m\u001b[38;5;124;43m'\u001b[39;49m\u001b[38;5;124;43mproblem1-reg_data.csv\u001b[39;49m\u001b[38;5;124;43m'\u001b[39;49m\u001b[43m,\u001b[49m\u001b[43m \u001b[49m\u001b[43msep\u001b[49m\u001b[38;5;241;43m=\u001b[39;49m\u001b[38;5;124;43m'\u001b[39;49m\u001b[38;5;124;43m;\u001b[39;49m\u001b[38;5;124;43m'\u001b[39;49m\u001b[43m)\u001b[49m\n\u001b[0;32m     11\u001b[0m auth_data \u001b[38;5;241m=\u001b[39m pd\u001b[38;5;241m.\u001b[39mread_csv(\u001b[38;5;124m'\u001b[39m\u001b[38;5;124mproblem1-auth_data.csv\u001b[39m\u001b[38;5;124m'\u001b[39m, sep\u001b[38;5;241m=\u001b[39m\u001b[38;5;124m'\u001b[39m\u001b[38;5;124m;\u001b[39m\u001b[38;5;124m'\u001b[39m)\n\u001b[0;32m     13\u001b[0m \u001b[38;5;28mprint\u001b[39m(auth_data\u001b[38;5;241m.\u001b[39mshape, reg_data\u001b[38;5;241m.\u001b[39mshape)\n",
      "File \u001b[1;32m~\\AppData\\Roaming\\Python\\Python39\\site-packages\\pandas\\util\\_decorators.py:311\u001b[0m, in \u001b[0;36mdeprecate_nonkeyword_arguments.<locals>.decorate.<locals>.wrapper\u001b[1;34m(*args, **kwargs)\u001b[0m\n\u001b[0;32m    305\u001b[0m \u001b[38;5;28;01mif\u001b[39;00m \u001b[38;5;28mlen\u001b[39m(args) \u001b[38;5;241m>\u001b[39m num_allow_args:\n\u001b[0;32m    306\u001b[0m     warnings\u001b[38;5;241m.\u001b[39mwarn(\n\u001b[0;32m    307\u001b[0m         msg\u001b[38;5;241m.\u001b[39mformat(arguments\u001b[38;5;241m=\u001b[39marguments),\n\u001b[0;32m    308\u001b[0m         \u001b[38;5;167;01mFutureWarning\u001b[39;00m,\n\u001b[0;32m    309\u001b[0m         stacklevel\u001b[38;5;241m=\u001b[39mstacklevel,\n\u001b[0;32m    310\u001b[0m     )\n\u001b[1;32m--> 311\u001b[0m \u001b[38;5;28;01mreturn\u001b[39;00m func(\u001b[38;5;241m*\u001b[39margs, \u001b[38;5;241m*\u001b[39m\u001b[38;5;241m*\u001b[39mkwargs)\n",
      "File \u001b[1;32m~\\AppData\\Roaming\\Python\\Python39\\site-packages\\pandas\\io\\parsers\\readers.py:680\u001b[0m, in \u001b[0;36mread_csv\u001b[1;34m(filepath_or_buffer, sep, delimiter, header, names, index_col, usecols, squeeze, prefix, mangle_dupe_cols, dtype, engine, converters, true_values, false_values, skipinitialspace, skiprows, skipfooter, nrows, na_values, keep_default_na, na_filter, verbose, skip_blank_lines, parse_dates, infer_datetime_format, keep_date_col, date_parser, dayfirst, cache_dates, iterator, chunksize, compression, thousands, decimal, lineterminator, quotechar, quoting, doublequote, escapechar, comment, encoding, encoding_errors, dialect, error_bad_lines, warn_bad_lines, on_bad_lines, delim_whitespace, low_memory, memory_map, float_precision, storage_options)\u001b[0m\n\u001b[0;32m    665\u001b[0m kwds_defaults \u001b[38;5;241m=\u001b[39m _refine_defaults_read(\n\u001b[0;32m    666\u001b[0m     dialect,\n\u001b[0;32m    667\u001b[0m     delimiter,\n\u001b[1;32m   (...)\u001b[0m\n\u001b[0;32m    676\u001b[0m     defaults\u001b[38;5;241m=\u001b[39m{\u001b[38;5;124m\"\u001b[39m\u001b[38;5;124mdelimiter\u001b[39m\u001b[38;5;124m\"\u001b[39m: \u001b[38;5;124m\"\u001b[39m\u001b[38;5;124m,\u001b[39m\u001b[38;5;124m\"\u001b[39m},\n\u001b[0;32m    677\u001b[0m )\n\u001b[0;32m    678\u001b[0m kwds\u001b[38;5;241m.\u001b[39mupdate(kwds_defaults)\n\u001b[1;32m--> 680\u001b[0m \u001b[38;5;28;01mreturn\u001b[39;00m \u001b[43m_read\u001b[49m\u001b[43m(\u001b[49m\u001b[43mfilepath_or_buffer\u001b[49m\u001b[43m,\u001b[49m\u001b[43m \u001b[49m\u001b[43mkwds\u001b[49m\u001b[43m)\u001b[49m\n",
      "File \u001b[1;32m~\\AppData\\Roaming\\Python\\Python39\\site-packages\\pandas\\io\\parsers\\readers.py:575\u001b[0m, in \u001b[0;36m_read\u001b[1;34m(filepath_or_buffer, kwds)\u001b[0m\n\u001b[0;32m    572\u001b[0m _validate_names(kwds\u001b[38;5;241m.\u001b[39mget(\u001b[38;5;124m\"\u001b[39m\u001b[38;5;124mnames\u001b[39m\u001b[38;5;124m\"\u001b[39m, \u001b[38;5;28;01mNone\u001b[39;00m))\n\u001b[0;32m    574\u001b[0m \u001b[38;5;66;03m# Create the parser.\u001b[39;00m\n\u001b[1;32m--> 575\u001b[0m parser \u001b[38;5;241m=\u001b[39m TextFileReader(filepath_or_buffer, \u001b[38;5;241m*\u001b[39m\u001b[38;5;241m*\u001b[39mkwds)\n\u001b[0;32m    577\u001b[0m \u001b[38;5;28;01mif\u001b[39;00m chunksize \u001b[38;5;129;01mor\u001b[39;00m iterator:\n\u001b[0;32m    578\u001b[0m     \u001b[38;5;28;01mreturn\u001b[39;00m parser\n",
      "File \u001b[1;32m~\\AppData\\Roaming\\Python\\Python39\\site-packages\\pandas\\io\\parsers\\readers.py:933\u001b[0m, in \u001b[0;36mTextFileReader.__init__\u001b[1;34m(self, f, engine, **kwds)\u001b[0m\n\u001b[0;32m    930\u001b[0m     \u001b[38;5;28mself\u001b[39m\u001b[38;5;241m.\u001b[39moptions[\u001b[38;5;124m\"\u001b[39m\u001b[38;5;124mhas_index_names\u001b[39m\u001b[38;5;124m\"\u001b[39m] \u001b[38;5;241m=\u001b[39m kwds[\u001b[38;5;124m\"\u001b[39m\u001b[38;5;124mhas_index_names\u001b[39m\u001b[38;5;124m\"\u001b[39m]\n\u001b[0;32m    932\u001b[0m \u001b[38;5;28mself\u001b[39m\u001b[38;5;241m.\u001b[39mhandles: IOHandles \u001b[38;5;241m|\u001b[39m \u001b[38;5;28;01mNone\u001b[39;00m \u001b[38;5;241m=\u001b[39m \u001b[38;5;28;01mNone\u001b[39;00m\n\u001b[1;32m--> 933\u001b[0m \u001b[38;5;28mself\u001b[39m\u001b[38;5;241m.\u001b[39m_engine \u001b[38;5;241m=\u001b[39m \u001b[38;5;28;43mself\u001b[39;49m\u001b[38;5;241;43m.\u001b[39;49m\u001b[43m_make_engine\u001b[49m\u001b[43m(\u001b[49m\u001b[43mf\u001b[49m\u001b[43m,\u001b[49m\u001b[43m \u001b[49m\u001b[38;5;28;43mself\u001b[39;49m\u001b[38;5;241;43m.\u001b[39;49m\u001b[43mengine\u001b[49m\u001b[43m)\u001b[49m\n",
      "File \u001b[1;32m~\\AppData\\Roaming\\Python\\Python39\\site-packages\\pandas\\io\\parsers\\readers.py:1217\u001b[0m, in \u001b[0;36mTextFileReader._make_engine\u001b[1;34m(self, f, engine)\u001b[0m\n\u001b[0;32m   1213\u001b[0m     mode \u001b[38;5;241m=\u001b[39m \u001b[38;5;124m\"\u001b[39m\u001b[38;5;124mrb\u001b[39m\u001b[38;5;124m\"\u001b[39m\n\u001b[0;32m   1214\u001b[0m \u001b[38;5;66;03m# error: No overload variant of \"get_handle\" matches argument types\u001b[39;00m\n\u001b[0;32m   1215\u001b[0m \u001b[38;5;66;03m# \"Union[str, PathLike[str], ReadCsvBuffer[bytes], ReadCsvBuffer[str]]\"\u001b[39;00m\n\u001b[0;32m   1216\u001b[0m \u001b[38;5;66;03m# , \"str\", \"bool\", \"Any\", \"Any\", \"Any\", \"Any\", \"Any\"\u001b[39;00m\n\u001b[1;32m-> 1217\u001b[0m \u001b[38;5;28mself\u001b[39m\u001b[38;5;241m.\u001b[39mhandles \u001b[38;5;241m=\u001b[39m \u001b[43mget_handle\u001b[49m\u001b[43m(\u001b[49m\u001b[43m  \u001b[49m\u001b[38;5;66;43;03m# type: ignore[call-overload]\u001b[39;49;00m\n\u001b[0;32m   1218\u001b[0m \u001b[43m    \u001b[49m\u001b[43mf\u001b[49m\u001b[43m,\u001b[49m\n\u001b[0;32m   1219\u001b[0m \u001b[43m    \u001b[49m\u001b[43mmode\u001b[49m\u001b[43m,\u001b[49m\n\u001b[0;32m   1220\u001b[0m \u001b[43m    \u001b[49m\u001b[43mencoding\u001b[49m\u001b[38;5;241;43m=\u001b[39;49m\u001b[38;5;28;43mself\u001b[39;49m\u001b[38;5;241;43m.\u001b[39;49m\u001b[43moptions\u001b[49m\u001b[38;5;241;43m.\u001b[39;49m\u001b[43mget\u001b[49m\u001b[43m(\u001b[49m\u001b[38;5;124;43m\"\u001b[39;49m\u001b[38;5;124;43mencoding\u001b[39;49m\u001b[38;5;124;43m\"\u001b[39;49m\u001b[43m,\u001b[49m\u001b[43m \u001b[49m\u001b[38;5;28;43;01mNone\u001b[39;49;00m\u001b[43m)\u001b[49m\u001b[43m,\u001b[49m\n\u001b[0;32m   1221\u001b[0m \u001b[43m    \u001b[49m\u001b[43mcompression\u001b[49m\u001b[38;5;241;43m=\u001b[39;49m\u001b[38;5;28;43mself\u001b[39;49m\u001b[38;5;241;43m.\u001b[39;49m\u001b[43moptions\u001b[49m\u001b[38;5;241;43m.\u001b[39;49m\u001b[43mget\u001b[49m\u001b[43m(\u001b[49m\u001b[38;5;124;43m\"\u001b[39;49m\u001b[38;5;124;43mcompression\u001b[39;49m\u001b[38;5;124;43m\"\u001b[39;49m\u001b[43m,\u001b[49m\u001b[43m \u001b[49m\u001b[38;5;28;43;01mNone\u001b[39;49;00m\u001b[43m)\u001b[49m\u001b[43m,\u001b[49m\n\u001b[0;32m   1222\u001b[0m \u001b[43m    \u001b[49m\u001b[43mmemory_map\u001b[49m\u001b[38;5;241;43m=\u001b[39;49m\u001b[38;5;28;43mself\u001b[39;49m\u001b[38;5;241;43m.\u001b[39;49m\u001b[43moptions\u001b[49m\u001b[38;5;241;43m.\u001b[39;49m\u001b[43mget\u001b[49m\u001b[43m(\u001b[49m\u001b[38;5;124;43m\"\u001b[39;49m\u001b[38;5;124;43mmemory_map\u001b[39;49m\u001b[38;5;124;43m\"\u001b[39;49m\u001b[43m,\u001b[49m\u001b[43m \u001b[49m\u001b[38;5;28;43;01mFalse\u001b[39;49;00m\u001b[43m)\u001b[49m\u001b[43m,\u001b[49m\n\u001b[0;32m   1223\u001b[0m \u001b[43m    \u001b[49m\u001b[43mis_text\u001b[49m\u001b[38;5;241;43m=\u001b[39;49m\u001b[43mis_text\u001b[49m\u001b[43m,\u001b[49m\n\u001b[0;32m   1224\u001b[0m \u001b[43m    \u001b[49m\u001b[43merrors\u001b[49m\u001b[38;5;241;43m=\u001b[39;49m\u001b[38;5;28;43mself\u001b[39;49m\u001b[38;5;241;43m.\u001b[39;49m\u001b[43moptions\u001b[49m\u001b[38;5;241;43m.\u001b[39;49m\u001b[43mget\u001b[49m\u001b[43m(\u001b[49m\u001b[38;5;124;43m\"\u001b[39;49m\u001b[38;5;124;43mencoding_errors\u001b[39;49m\u001b[38;5;124;43m\"\u001b[39;49m\u001b[43m,\u001b[49m\u001b[43m \u001b[49m\u001b[38;5;124;43m\"\u001b[39;49m\u001b[38;5;124;43mstrict\u001b[39;49m\u001b[38;5;124;43m\"\u001b[39;49m\u001b[43m)\u001b[49m\u001b[43m,\u001b[49m\n\u001b[0;32m   1225\u001b[0m \u001b[43m    \u001b[49m\u001b[43mstorage_options\u001b[49m\u001b[38;5;241;43m=\u001b[39;49m\u001b[38;5;28;43mself\u001b[39;49m\u001b[38;5;241;43m.\u001b[39;49m\u001b[43moptions\u001b[49m\u001b[38;5;241;43m.\u001b[39;49m\u001b[43mget\u001b[49m\u001b[43m(\u001b[49m\u001b[38;5;124;43m\"\u001b[39;49m\u001b[38;5;124;43mstorage_options\u001b[39;49m\u001b[38;5;124;43m\"\u001b[39;49m\u001b[43m,\u001b[49m\u001b[43m \u001b[49m\u001b[38;5;28;43;01mNone\u001b[39;49;00m\u001b[43m)\u001b[49m\u001b[43m,\u001b[49m\n\u001b[0;32m   1226\u001b[0m \u001b[43m\u001b[49m\u001b[43m)\u001b[49m\n\u001b[0;32m   1227\u001b[0m \u001b[38;5;28;01massert\u001b[39;00m \u001b[38;5;28mself\u001b[39m\u001b[38;5;241m.\u001b[39mhandles \u001b[38;5;129;01mis\u001b[39;00m \u001b[38;5;129;01mnot\u001b[39;00m \u001b[38;5;28;01mNone\u001b[39;00m\n\u001b[0;32m   1228\u001b[0m f \u001b[38;5;241m=\u001b[39m \u001b[38;5;28mself\u001b[39m\u001b[38;5;241m.\u001b[39mhandles\u001b[38;5;241m.\u001b[39mhandle\n",
      "File \u001b[1;32m~\\AppData\\Roaming\\Python\\Python39\\site-packages\\pandas\\io\\common.py:789\u001b[0m, in \u001b[0;36mget_handle\u001b[1;34m(path_or_buf, mode, encoding, compression, memory_map, is_text, errors, storage_options)\u001b[0m\n\u001b[0;32m    784\u001b[0m \u001b[38;5;28;01melif\u001b[39;00m \u001b[38;5;28misinstance\u001b[39m(handle, \u001b[38;5;28mstr\u001b[39m):\n\u001b[0;32m    785\u001b[0m     \u001b[38;5;66;03m# Check whether the filename is to be opened in binary mode.\u001b[39;00m\n\u001b[0;32m    786\u001b[0m     \u001b[38;5;66;03m# Binary mode does not support 'encoding' and 'newline'.\u001b[39;00m\n\u001b[0;32m    787\u001b[0m     \u001b[38;5;28;01mif\u001b[39;00m ioargs\u001b[38;5;241m.\u001b[39mencoding \u001b[38;5;129;01mand\u001b[39;00m \u001b[38;5;124m\"\u001b[39m\u001b[38;5;124mb\u001b[39m\u001b[38;5;124m\"\u001b[39m \u001b[38;5;129;01mnot\u001b[39;00m \u001b[38;5;129;01min\u001b[39;00m ioargs\u001b[38;5;241m.\u001b[39mmode:\n\u001b[0;32m    788\u001b[0m         \u001b[38;5;66;03m# Encoding\u001b[39;00m\n\u001b[1;32m--> 789\u001b[0m         handle \u001b[38;5;241m=\u001b[39m \u001b[38;5;28;43mopen\u001b[39;49m\u001b[43m(\u001b[49m\n\u001b[0;32m    790\u001b[0m \u001b[43m            \u001b[49m\u001b[43mhandle\u001b[49m\u001b[43m,\u001b[49m\n\u001b[0;32m    791\u001b[0m \u001b[43m            \u001b[49m\u001b[43mioargs\u001b[49m\u001b[38;5;241;43m.\u001b[39;49m\u001b[43mmode\u001b[49m\u001b[43m,\u001b[49m\n\u001b[0;32m    792\u001b[0m \u001b[43m            \u001b[49m\u001b[43mencoding\u001b[49m\u001b[38;5;241;43m=\u001b[39;49m\u001b[43mioargs\u001b[49m\u001b[38;5;241;43m.\u001b[39;49m\u001b[43mencoding\u001b[49m\u001b[43m,\u001b[49m\n\u001b[0;32m    793\u001b[0m \u001b[43m            \u001b[49m\u001b[43merrors\u001b[49m\u001b[38;5;241;43m=\u001b[39;49m\u001b[43merrors\u001b[49m\u001b[43m,\u001b[49m\n\u001b[0;32m    794\u001b[0m \u001b[43m            \u001b[49m\u001b[43mnewline\u001b[49m\u001b[38;5;241;43m=\u001b[39;49m\u001b[38;5;124;43m\"\u001b[39;49m\u001b[38;5;124;43m\"\u001b[39;49m\u001b[43m,\u001b[49m\n\u001b[0;32m    795\u001b[0m \u001b[43m        \u001b[49m\u001b[43m)\u001b[49m\n\u001b[0;32m    796\u001b[0m     \u001b[38;5;28;01melse\u001b[39;00m:\n\u001b[0;32m    797\u001b[0m         \u001b[38;5;66;03m# Binary mode\u001b[39;00m\n\u001b[0;32m    798\u001b[0m         handle \u001b[38;5;241m=\u001b[39m \u001b[38;5;28mopen\u001b[39m(handle, ioargs\u001b[38;5;241m.\u001b[39mmode)\n",
      "\u001b[1;31mFileNotFoundError\u001b[0m: [Errno 2] No such file or directory: 'problem1-reg_data.csv'"
     ]
    }
   ],
   "source": [
    "\"\"\"\n",
    "Cчитаем данные, посмотрим датасеты, проверим значения, дубликаты\n",
    "problem1-reg_data.csv  -- https://disk.yandex.ru/d/0shXKEQvF8pLrw\n",
    "problem1-auth_data.csv  -- https://disk.yandex.ru/d/d1hoJDG0-TThbw\n",
    "\n",
    "\"\"\"\n",
    "\n",
    "\n",
    "reg_data = pd.read_csv('problem1-reg_data.csv', sep=';')\n",
    "\n",
    "auth_data = pd.read_csv('problem1-auth_data.csv', sep=';')\n",
    "\n",
    "print(auth_data.shape, reg_data.shape)"
   ]
  },
  {
   "cell_type": "code",
   "execution_count": null,
   "id": "1f07aa6a",
   "metadata": {},
   "outputs": [],
   "source": []
  },
  {
   "cell_type": "code",
   "execution_count": null,
   "id": "f0ac743a",
   "metadata": {},
   "outputs": [],
   "source": [
    "auth_data.head()"
   ]
  },
  {
   "cell_type": "code",
   "execution_count": null,
   "id": "644dc127",
   "metadata": {},
   "outputs": [],
   "source": [
    "reg_data.head()"
   ]
  },
  {
   "cell_type": "code",
   "execution_count": null,
   "id": "208bad2f",
   "metadata": {},
   "outputs": [],
   "source": [
    "reg_data.dtypes"
   ]
  },
  {
   "cell_type": "code",
   "execution_count": null,
   "id": "7b641554",
   "metadata": {},
   "outputs": [],
   "source": [
    "auth_data.dtypes"
   ]
  },
  {
   "cell_type": "code",
   "execution_count": null,
   "id": "dc201ca2",
   "metadata": {},
   "outputs": [],
   "source": [
    "reg_data.isna().sum()"
   ]
  },
  {
   "cell_type": "code",
   "execution_count": null,
   "id": "62e08cf4",
   "metadata": {},
   "outputs": [],
   "source": [
    "auth_data.isna().sum()"
   ]
  },
  {
   "cell_type": "code",
   "execution_count": null,
   "id": "6a46ddcc",
   "metadata": {},
   "outputs": [],
   "source": [
    "reg_data.uid.duplicated().sum()"
   ]
  },
  {
   "cell_type": "code",
   "execution_count": null,
   "id": "ff899f7b",
   "metadata": {},
   "outputs": [],
   "source": [
    "\"\"\"\n",
    "\n",
    "Немного изменил свою функцию из промежуточного проекта\n",
    "\n",
    "    \n",
    "\"\"\"\n",
    "\n",
    "def retention(df_reg, df_auth, start_date, end_date):\n",
    "    \n",
    "    \"\"\"\n",
    "    Функция на вход принимает датафреймы со структурой и типом данных что указаны в задании\n",
    "    Датафрейм с регистрацией, датафрейм с авторизациями, дата начала анализа('YYYY-MM-DD'), \n",
    "    и дата окончания анализа('YYYY-MM-DD')\n",
    "    \n",
    "    \"\"\"\n",
    "    start = dt.datetime.fromisoformat(start_date)\n",
    "    end   = dt.datetime.fromisoformat(end_date)\n",
    "    \n",
    "    df_reg['reg_ts']   = pd.to_datetime(df_reg['reg_ts'], unit='s')\n",
    "    df_auth['auth_ts'] = pd.to_datetime(df_auth['auth_ts'], unit='s')\n",
    "                                                                \n",
    "\n",
    "    df_reg  = df_reg.query('reg_ts >= @start and reg_ts <= @end')\n",
    "    df_auth = df_auth.query('auth_ts >= @start and auth_ts <= @end')\n",
    "                                                                \n",
    "          \n",
    "    df = df_auth.merge(df_reg, on='uid')\n",
    "                                                                \n",
    "    \n",
    "    df['auth_day'] = df['auth_ts'].dt.to_period('D')\n",
    "    df['cohort'] = (\n",
    "                    df.groupby('uid')['reg_ts'] \n",
    "                        .transform('min') \n",
    "                        .dt.to_period('D') \n",
    "    )\n",
    "\n",
    "    df_cohort = (\n",
    "                df.groupby(['cohort', 'auth_day'])\n",
    "                  .agg(n_uid=('uid', 'nunique')) \n",
    "                  .reset_index(drop=False)\n",
    "    )\n",
    "    \n",
    "    df_cohort['days'] = (df_cohort.auth_day - df_cohort.cohort).apply(attrgetter('n'))\n",
    "\n",
    "    cohort_pivot = df_cohort.pivot_table(index = 'cohort',\n",
    "                                         columns = 'days',\n",
    "                                         values = 'n_uid')\n",
    "\n",
    "    cohort_size = cohort_pivot.iloc[:,0]\n",
    "    \n",
    "    retention_matrix = (\n",
    "                        cohort_pivot\n",
    "                            .divide(cohort_size, axis = 0)\n",
    "                            .drop(columns={0})\n",
    "    )\n",
    "    \n",
    "    with sns.axes_style(\"white\"):\n",
    "        fig, ax = plt.subplots(1, 2, figsize=(16, 8), sharey=True, gridspec_kw={'width_ratios': [1, 11]})\n",
    "\n",
    "        # retention matrix\n",
    "        sns.heatmap(retention_matrix, \n",
    "                    mask=retention_matrix.isnull(), \n",
    "                    annot=True, \n",
    "                    fmt='.2%', \n",
    "                    cmap='Greens', \n",
    "                    ax=ax[1])\n",
    "        ax[1].set_title('Monthly Cohorts: User Retention', fontsize=16)\n",
    "        ax[1].set(xlabel='number of periods',\n",
    "                  ylabel='')\n",
    "\n",
    "        # cohort size\n",
    "        cohort_size_df = pd.DataFrame(cohort_size).rename(columns={0: 'cohort_size'})\n",
    "        white_cmap = mcolors.ListedColormap(['white'])\n",
    "        img = sns.heatmap(cohort_size_df, \n",
    "                    annot=True, \n",
    "                    cbar=False, \n",
    "                    fmt='g', \n",
    "                    cmap=white_cmap, \n",
    "                    ax=ax[0])\n",
    "\n",
    "        fig.tight_layout()\n",
    "        \n",
    "        return img"
   ]
  },
  {
   "cell_type": "code",
   "execution_count": null,
   "id": "25b27ae0",
   "metadata": {
    "scrolled": false
   },
   "outputs": [],
   "source": [
    "retention(reg_data, auth_data, '2019-11-18', '2019-12-01')"
   ]
  },
  {
   "cell_type": "code",
   "execution_count": null,
   "id": "645b4fcb",
   "metadata": {},
   "outputs": [],
   "source": []
  },
  {
   "cell_type": "markdown",
   "id": "30bc5116",
   "metadata": {},
   "source": [
    "##### Задание 2.\n",
    "\n",
    "Имеются результаты A/B теста, в котором двум группам пользователей предлагались различные наборы акционных предложений. Известно, что ARPU в тестовой группе выше на 5%, чем в контрольной. При этом в контрольной группе 1928 игроков из 202103 оказались платящими, а в тестовой – 1805 из 202667.\n",
    "\n",
    "Какой набор предложений можно считать лучшим? Какие метрики стоит проанализировать для принятия правильного решения и как?"
   ]
  },
  {
   "cell_type": "code",
   "execution_count": 7,
   "id": "deba9159",
   "metadata": {},
   "outputs": [
    {
     "data": {
      "text/html": [
       "<div>\n",
       "<style scoped>\n",
       "    .dataframe tbody tr th:only-of-type {\n",
       "        vertical-align: middle;\n",
       "    }\n",
       "\n",
       "    .dataframe tbody tr th {\n",
       "        vertical-align: top;\n",
       "    }\n",
       "\n",
       "    .dataframe thead th {\n",
       "        text-align: right;\n",
       "    }\n",
       "</style>\n",
       "<table border=\"1\" class=\"dataframe\">\n",
       "  <thead>\n",
       "    <tr style=\"text-align: right;\">\n",
       "      <th></th>\n",
       "      <th>user_id</th>\n",
       "      <th>revenue</th>\n",
       "      <th>testgroup</th>\n",
       "    </tr>\n",
       "  </thead>\n",
       "  <tbody>\n",
       "    <tr>\n",
       "      <th>0</th>\n",
       "      <td>1</td>\n",
       "      <td>0</td>\n",
       "      <td>b</td>\n",
       "    </tr>\n",
       "    <tr>\n",
       "      <th>1</th>\n",
       "      <td>2</td>\n",
       "      <td>0</td>\n",
       "      <td>a</td>\n",
       "    </tr>\n",
       "    <tr>\n",
       "      <th>2</th>\n",
       "      <td>3</td>\n",
       "      <td>0</td>\n",
       "      <td>a</td>\n",
       "    </tr>\n",
       "    <tr>\n",
       "      <th>3</th>\n",
       "      <td>4</td>\n",
       "      <td>0</td>\n",
       "      <td>b</td>\n",
       "    </tr>\n",
       "    <tr>\n",
       "      <th>4</th>\n",
       "      <td>5</td>\n",
       "      <td>0</td>\n",
       "      <td>b</td>\n",
       "    </tr>\n",
       "  </tbody>\n",
       "</table>\n",
       "</div>"
      ],
      "text/plain": [
       "   user_id  revenue testgroup\n",
       "0        1        0         b\n",
       "1        2        0         a\n",
       "2        3        0         a\n",
       "3        4        0         b\n",
       "4        5        0         b"
      ]
     },
     "execution_count": 7,
     "metadata": {},
     "output_type": "execute_result"
    }
   ],
   "source": [
    "# считаем данные\n",
    "base_url = 'https://cloud-api.yandex.net/v1/disk/public/resources/download?'\n",
    "\n",
    "\n",
    "groups_url      = 'https://disk.yandex.ru/d/12gk_ATEeBZm4A'  \n",
    "groups_all_url  = base_url + urlencode(dict(public_key=groups_url))\n",
    "response_groups = requests.get(groups_all_url)\n",
    "json_groups_url = json.loads(response_groups.text)['href']\n",
    "groups          = pd.read_csv(json_groups_url, sep=';') \n",
    "groups.head()"
   ]
  },
  {
   "cell_type": "code",
   "execution_count": 8,
   "id": "2bc112ec",
   "metadata": {},
   "outputs": [
    {
     "name": "stdout",
     "output_type": "stream",
     "text": [
      "(404770, 3)\n",
      "-------\n",
      "user_id       int64\n",
      "revenue       int64\n",
      "testgroup    object\n",
      "dtype: object\n",
      "-------\n",
      "уникальные пользователи - 404770\n",
      "-------\n",
      "размер группы а - 202103\n",
      "-------\n",
      "размер группы b - 202667\n",
      "-------\n",
      "сколько пользователей купили в группе а - 1928\n",
      "-------\n",
      "сколько пользователей купили в группе b - 1805\n",
      "-------\n",
      "ARPU групп \n",
      "  testgroup    revenue\n",
      "0         a  25.413720\n",
      "1         b  26.751287\n"
     ]
    }
   ],
   "source": [
    "\"\"\"\n",
    "\n",
    "Посмотрим пропущенные значения, типы, дубликаты.\n",
    "Посмотрим количество юзеров в тесте и контроле.\n",
    "Проверим утверждение в условии задачи.\n",
    "    \n",
    "\"\"\"\n",
    "\n",
    "print(\n",
    "    groups.shape, \n",
    "    \n",
    "    groups.dtypes, \n",
    "    \n",
    "    f'уникальные пользователи - {groups.user_id.nunique()}',\n",
    "    \n",
    "    f'''размер группы а - {groups.query('testgroup == \"a\"').shape[0]}''',\n",
    "    \n",
    "    f'''размер группы b - {groups.query('testgroup == \"b\"').shape[0]}''',\n",
    "    \n",
    "    f'''сколько пользователей купили в группе а - {groups.query('testgroup == \"a\" and revenue >0').shape[0]}''',\n",
    "    \n",
    "    f'''сколько пользователей купили в группе b - {groups.query('testgroup == \"b\" and revenue >0').shape[0]}''',\n",
    "    \n",
    "    f'''ARPU групп \\n{groups.groupby('testgroup', as_index=False)\n",
    "                            .mean()[['testgroup','revenue']]}''',\n",
    "    \n",
    "    sep='\\n-------\\n'\n",
    ")\n",
    "\n"
   ]
  },
  {
   "cell_type": "code",
   "execution_count": 9,
   "id": "10b24f6b",
   "metadata": {},
   "outputs": [
    {
     "data": {
      "text/plain": [
       "105.2631683600699"
      ]
     },
     "execution_count": 9,
     "metadata": {},
     "output_type": "execute_result"
    }
   ],
   "source": [
    "\"\"\"\n",
    "\n",
    "Видно что утверждение про различия в 5 процентов верное\n",
    "    \n",
    "\"\"\"\n",
    "\n",
    "(\n",
    "    groups.groupby('testgroup', as_index=False).mean().revenue[1]\n",
    "    /\n",
    "    groups.groupby('testgroup', as_index=False).mean().revenue[0]\n",
    "    * 100\n",
    ")"
   ]
  },
  {
   "cell_type": "code",
   "execution_count": 10,
   "id": "4e253e10",
   "metadata": {},
   "outputs": [
    {
     "name": "stdout",
     "output_type": "stream",
     "text": [
      "0.9539690157988748\n",
      "0.8906235351586593\n"
     ]
    }
   ],
   "source": [
    "print(1928/202103 * 100)\n",
    "print(1805/202667 * 100)"
   ]
  },
  {
   "cell_type": "code",
   "execution_count": 11,
   "id": "caa68263",
   "metadata": {},
   "outputs": [
    {
     "data": {
      "text/plain": [
       "<AxesSubplot:xlabel='revenue', ylabel='Count'>"
      ]
     },
     "execution_count": 11,
     "metadata": {},
     "output_type": "execute_result"
    },
    {
     "data": {
      "image/png": "[encoded data removed]",
      "text/plain": [
       "<Figure size 1440x720 with 1 Axes>"
      ]
     },
     "metadata": {},
     "output_type": "display_data"
    }
   ],
   "source": [
    "\"\"\"\n",
    "\n",
    "Посмотрим на распределения в группах\n",
    "    \n",
    "\"\"\"\n",
    "sns.set(\n",
    "    font_scale=2,\n",
    "    style=\"whitegrid\",\n",
    "    rc={'figure.figsize':(20,10)}\n",
    "        )\n",
    "\n",
    "sns.histplot(\n",
    "    data=groups.query('revenue > 0'), \n",
    "    x=\"revenue\",\n",
    "    hue='testgroup',\n",
    "    bins=200\n",
    "            )"
   ]
  },
  {
   "cell_type": "code",
   "execution_count": 12,
   "id": "176cd09c",
   "metadata": {
    "scrolled": true
   },
   "outputs": [
    {
     "data": {
      "text/html": [
       "<div>\n",
       "<style scoped>\n",
       "    .dataframe tbody tr th:only-of-type {\n",
       "        vertical-align: middle;\n",
       "    }\n",
       "\n",
       "    .dataframe tbody tr th {\n",
       "        vertical-align: top;\n",
       "    }\n",
       "\n",
       "    .dataframe thead th {\n",
       "        text-align: right;\n",
       "    }\n",
       "</style>\n",
       "<table border=\"1\" class=\"dataframe\">\n",
       "  <thead>\n",
       "    <tr style=\"text-align: right;\">\n",
       "      <th>testgroup</th>\n",
       "      <th>a</th>\n",
       "      <th>b</th>\n",
       "    </tr>\n",
       "  </thead>\n",
       "  <tbody>\n",
       "    <tr>\n",
       "      <th>count</th>\n",
       "      <td>1928.000000</td>\n",
       "      <td>1805.000000</td>\n",
       "    </tr>\n",
       "    <tr>\n",
       "      <th>mean</th>\n",
       "      <td>2663.998444</td>\n",
       "      <td>3003.658172</td>\n",
       "    </tr>\n",
       "    <tr>\n",
       "      <th>std</th>\n",
       "      <td>9049.039763</td>\n",
       "      <td>572.619709</td>\n",
       "    </tr>\n",
       "    <tr>\n",
       "      <th>min</th>\n",
       "      <td>200.000000</td>\n",
       "      <td>2000.000000</td>\n",
       "    </tr>\n",
       "    <tr>\n",
       "      <th>25%</th>\n",
       "      <td>257.000000</td>\n",
       "      <td>2513.000000</td>\n",
       "    </tr>\n",
       "    <tr>\n",
       "      <th>50%</th>\n",
       "      <td>311.000000</td>\n",
       "      <td>3022.000000</td>\n",
       "    </tr>\n",
       "    <tr>\n",
       "      <th>75%</th>\n",
       "      <td>361.000000</td>\n",
       "      <td>3478.000000</td>\n",
       "    </tr>\n",
       "    <tr>\n",
       "      <th>max</th>\n",
       "      <td>37433.000000</td>\n",
       "      <td>4000.000000</td>\n",
       "    </tr>\n",
       "  </tbody>\n",
       "</table>\n",
       "</div>"
      ],
      "text/plain": [
       "testgroup             a            b\n",
       "count       1928.000000  1805.000000\n",
       "mean        2663.998444  3003.658172\n",
       "std         9049.039763   572.619709\n",
       "min          200.000000  2000.000000\n",
       "25%          257.000000  2513.000000\n",
       "50%          311.000000  3022.000000\n",
       "75%          361.000000  3478.000000\n",
       "max        37433.000000  4000.000000"
      ]
     },
     "execution_count": 12,
     "metadata": {},
     "output_type": "execute_result"
    }
   ],
   "source": [
    "\"\"\"\n",
    "\n",
    "в тестовой группе суммы распределены более равномерно в небольшом диапазоне,\n",
    "в контрольной группе напротив, разброс большой и большенство значений лежат ближе к нулю, однако есть и достаточно большие суммы\n",
    "\n",
    "\n",
    "\"\"\"\n",
    "\n",
    "groups.query('revenue > 0') \\\n",
    "      .groupby('testgroup') \\\n",
    "      .revenue \\\n",
    "      .describe() \\\n",
    "      .transpose()"
   ]
  },
  {
   "cell_type": "code",
   "execution_count": 13,
   "id": "f10c65f9",
   "metadata": {},
   "outputs": [
    {
     "data": {
      "text/plain": [
       "6.379668049792531"
      ]
     },
     "execution_count": 13,
     "metadata": {},
     "output_type": "execute_result"
    }
   ],
   "source": [
    "\"\"\"\n",
    "\n",
    "Можно посмотреть соотношение мелких покупателей и крупных, \n",
    "какой процент они составляют от числа купивших пользователей в группе \"a\"\n",
    "\n",
    "\n",
    "\"\"\"\n",
    "\n",
    "(\n",
    "    groups.query('testgroup == \"a\" and revenue > 30000').user_id.nunique() \n",
    "    / \n",
    "    groups.query('testgroup == \"a\" and revenue > 0').user_id.nunique() \n",
    "    * 100\n",
    ")"
   ]
  },
  {
   "cell_type": "code",
   "execution_count": 14,
   "id": "97c555a7",
   "metadata": {},
   "outputs": [
    {
     "data": {
      "text/plain": [
       "89.37077665950378"
      ]
     },
     "execution_count": 14,
     "metadata": {},
     "output_type": "execute_result"
    }
   ],
   "source": [
    "\"\"\"\n",
    "\n",
    "Всего 6 процентов пользователей купили на крупнную сумму.\n",
    "Посмотрим соотношения сумм покупок этих же типов покупателей\n",
    "\n",
    "\n",
    "\"\"\"\n",
    "\n",
    "(\n",
    "    groups.query('testgroup == \"a\" and revenue > 30000').revenue.sum() \n",
    "    / \n",
    "    groups.query('testgroup == \"a\" and revenue > 0').revenue.sum()\n",
    "    * 100\n",
    ")"
   ]
  },
  {
   "cell_type": "code",
   "execution_count": 15,
   "id": "3b3fd6ca",
   "metadata": {},
   "outputs": [
    {
     "data": {
      "text/plain": [
       "count    1805.000000\n",
       "mean      302.458172\n",
       "std        57.914246\n",
       "min       200.000000\n",
       "25%       254.000000\n",
       "50%       305.000000\n",
       "75%       352.000000\n",
       "max       400.000000\n",
       "Name: revenue, dtype: float64"
      ]
     },
     "execution_count": 15,
     "metadata": {},
     "output_type": "execute_result"
    }
   ],
   "source": [
    "groups.query('testgroup == \"a\" and revenue > 0 and revenue < 30000').revenue.describe()"
   ]
  },
  {
   "cell_type": "code",
   "execution_count": 16,
   "id": "dcc69e51",
   "metadata": {},
   "outputs": [],
   "source": [
    "\"\"\"\n",
    "\n",
    "Получается что в контрольной группе у нас около 6% пользователей совершали крупные покупки \n",
    "на суммы более 30000, составляющие 89% процентов от всей выручки.\n",
    "\n",
    "В то время как в тестовой группе все покупатели делали покупки в относительно узком диапазоне на суммы от 2000 до 4000.\n",
    "\n",
    "Давайте выберем стат метод, и сформируем гипотезы.\n",
    "\n",
    "Для проверки гипотез т тест нам не пойдойдет из за больших выбросов в группе \"а\" \n",
    "и совсем не нормальном распределении в этой группе.\n",
    "\n",
    "Критерий Манна Уитни сложен в интерпретации и, для сравнения arpu групп не подойдет,\n",
    "так как у нас очень много нулевых значений\n",
    "\n",
    "Будем использовать bootstrap.\n",
    "Определим порог p-value в 0.05.\n",
    "Мы устанавливаем порог уровня значимости таким, потому что, \n",
    "в данном случае результат отклонения нулевой гипотезы нас будет устраивать, \n",
    "если вероятность допустить ошибку первого рода будет меньше 5%\n",
    "\n",
    "\n",
    "\"\"\"\n",
    "\n",
    "def get_bootstrap(\n",
    "    data_column_1, # числовые значения первой выборки\n",
    "    data_column_2, # числовые значения второй выборки\n",
    "    boot_it, # количество бутстрэп-подвыборок\n",
    "    statistic = np.mean, # интересующая нас статистика\n",
    "    bootstrap_conf_level = 0.95 # уровень значимости\n",
    "):\n",
    "    boot_len = max([len(data_column_1), len(data_column_2)])\n",
    "    boot_data = []\n",
    "    for i in tqdm(range(boot_it)): # извлекаем подвыборки\n",
    "        samples_1 = data_column_1.sample(\n",
    "            boot_len, \n",
    "            replace = True # параметр возвращения\n",
    "        ).values\n",
    "        \n",
    "        samples_2 = data_column_2.sample(\n",
    "            boot_len, # чтобы сохранить дисперсию, берем такой же размер выборки\n",
    "            replace = True\n",
    "        ).values\n",
    "        \n",
    "        boot_data.append(statistic(samples_1) - statistic(samples_2)) \n",
    "           \n",
    "    pd_boot_data = pd.DataFrame(boot_data)\n",
    "        \n",
    "    left_quant = (1 - bootstrap_conf_level)/2\n",
    "    right_quant = 1 - (1 - bootstrap_conf_level) / 2\n",
    "    ci = pd_boot_data.quantile([left_quant, right_quant])\n",
    "        \n",
    "    p_1 = ss.norm.cdf(\n",
    "        x = 0, \n",
    "        loc = np.mean(boot_data), \n",
    "        scale = np.std(boot_data)\n",
    "    )\n",
    "    p_2 = ss.norm.cdf(\n",
    "        x = 0, \n",
    "        loc = -np.mean(boot_data), \n",
    "        scale = np.std(boot_data)\n",
    "    )\n",
    "    p_value = min(p_1, p_2) * 2\n",
    "        \n",
    "    # Визуализация\n",
    "    _, _, bars = plt.hist(pd_boot_data[0], bins = 50)\n",
    "    for bar in bars:\n",
    "        if abs(bar.get_x()) <= ci.iloc[0][0] or abs(bar.get_x()) >= ci.iloc[1][0]:\n",
    "            bar.set_facecolor('red')\n",
    "        else: \n",
    "            bar.set_facecolor('grey')\n",
    "            bar.set_edgecolor('black')\n",
    "    \n",
    "    plt.style.use('ggplot')\n",
    "    plt.vlines(ci,ymin=0,ymax=100,linestyle='--')\n",
    "    plt.xlabel('boot_data')\n",
    "    plt.ylabel('frequency')\n",
    "    plt.title(\"Histogram of boot_data\")\n",
    "    plt.show()\n",
    "       \n",
    "    return {\"boot_data\": boot_data, \n",
    "            \"ci\": ci, \n",
    "            \"p_value\": p_value}"
   ]
  },
  {
   "cell_type": "code",
   "execution_count": 17,
   "id": "f2546f8e",
   "metadata": {},
   "outputs": [
    {
     "data": {
      "application/vnd.jupyter.widget-view+json": {
       "model_id": "6409161f9ce0411bb8519c503fff3cfa",
       "version_major": 2,
       "version_minor": 0
      },
      "text/plain": [
       "  0%|          | 0/10000 [00:00<?, ?it/s]"
      ]
     },
     "metadata": {},
     "output_type": "display_data"
    },
    {
     "data": {
      "image/png": "[encoded data removed]",
      "text/plain": [
       "<Figure size 1440x720 with 1 Axes>"
      ]
     },
     "metadata": {},
     "output_type": "display_data"
    },
    {
     "name": "stdout",
     "output_type": "stream",
     "text": [
      " Доверительный интервал \n",
      "              0\n",
      "0.025 -5.451403\n",
      "0.975  2.818568\n",
      "p-value = 0.5320909611763676\n"
     ]
    }
   ],
   "source": [
    "\"\"\"\n",
    "\n",
    "Для сравнения групп метрика ARPU нам подойдет.\n",
    "\n",
    "Проведем сравнение групп по ARPU\n",
    "\n",
    "Определим гипотезы:\n",
    "H0 - Различий в ARPU в группах нет\n",
    "H1 - Различия в ARPU наших групп есть\n",
    "\n",
    "Порог значимости p-value - 0.05\n",
    "\n",
    "\"\"\"\n",
    "\n",
    "\n",
    "bootstraped_data = get_bootstrap(\n",
    "    groups.query('testgroup == \"a\"').revenue, \n",
    "    groups.query('testgroup == \"b\"').revenue, \n",
    "    boot_it = 10000, \n",
    "    statistic = np.mean\n",
    ")\n",
    "\n",
    "print(f\" Доверительный интервал \\n{bootstraped_data['ci']}\")\n",
    "print(f\"p-value = {bootstraped_data['p_value']}\")"
   ]
  },
  {
   "cell_type": "code",
   "execution_count": 178,
   "id": "8acb1063",
   "metadata": {},
   "outputs": [
    {
     "data": {
      "application/vnd.jupyter.widget-view+json": {
       "model_id": "41f1465604d945688aa73b3a2417dae2",
       "version_major": 2,
       "version_minor": 0
      },
      "text/plain": [
       "  0%|          | 0/10000 [00:00<?, ?it/s]"
      ]
     },
     "metadata": {},
     "output_type": "display_data"
    },
    {
     "data": {
      "image/png": "[encoded data removed]",
      "text/plain": [
       "<Figure size 1440x720 with 1 Axes>"
      ]
     },
     "metadata": {},
     "output_type": "display_data"
    },
    {
     "name": "stdout",
     "output_type": "stream",
     "text": [
      " Доверительный интервал \n",
      "                0\n",
      "0.025 -738.094619\n",
      "0.975   74.147484\n",
      "p-value = 0.10097675041127974\n"
     ]
    }
   ],
   "source": [
    "\"\"\"\n",
    "\n",
    "Вдими что 0 входит в доверительный интревал, пороговое значение p-value > 0.05, поэтому отклонить нулевую гипотезу \n",
    "о равенстве ARPU мы не можем.\n",
    "\n",
    "Давайте посмотрим тоже самое для платящих пользователей\n",
    "\n",
    "\"\"\"\n",
    "\n",
    "bootstraped_data = get_bootstrap(\n",
    "    groups.query('testgroup == \"a\" and revenue > 0').revenue, \n",
    "    groups.query('testgroup == \"b\" and revenue > 0').revenue, \n",
    "    boot_it = 10000, \n",
    "    statistic = np.mean\n",
    ")\n",
    "\n",
    "print(f\" Доверительный интервал \\n{bootstraped_data['ci']}\")\n",
    "print(f\"p-value = {bootstraped_data['p_value']}\")"
   ]
  },
  {
   "cell_type": "code",
   "execution_count": 200,
   "id": "b391b07d",
   "metadata": {
    "scrolled": true
   },
   "outputs": [
    {
     "data": {
      "application/vnd.jupyter.widget-view+json": {
       "model_id": "c7fe7c808eb6440b8a7f582bf59703c7",
       "version_major": 2,
       "version_minor": 0
      },
      "text/plain": [
       "  0%|          | 0/10000 [00:00<?, ?it/s]"
      ]
     },
     "metadata": {},
     "output_type": "display_data"
    },
    {
     "data": {
      "image/png": "[encoded data removed]",
      "text/plain": [
       "<Figure size 1440x720 with 1 Axes>"
      ]
     },
     "metadata": {},
     "output_type": "display_data"
    },
    {
     "name": "stdout",
     "output_type": "stream",
     "text": [
      " Доверительный интервал \n",
      "                 0\n",
      "0.025 -2655.531026\n",
      "0.975 -2606.248238\n",
      "p-value = 0.0\n"
     ]
    }
   ],
   "source": [
    "\"\"\"\n",
    "\n",
    "Вдими что 0 входит в доверительный интревал, пороговое значение p-value > 0.05, поэтому и тут мы не можем принять гипотезу\n",
    "о разности средних значений\n",
    "\n",
    "Как мы помним что около 6% наших пользователей в контрольной группе делали покупки на относительно большие суммы.\n",
    "Проверим гипотезу о том что 93% платящих пользователей контрольной группы, платят заметно меньше чем 93% платящих \n",
    "пользователей тестовой группы.\n",
    "\n",
    "H0 - ARPPU 93% пользователей контрольной и тестовой группы не имеет различий\n",
    "H1 - ARPPU 93% пользователей контрольной и тестовой группы имеет различия\n",
    "\n",
    "\"\"\"\n",
    "\n",
    "quantile_93_grp_a = groups.query('testgroup == \"a\" and revenue > 0').revenue.quantile(q=0.93)\n",
    "quantile_93_grp_b = groups.query('testgroup == \"b\" and revenue > 0').revenue.quantile(q=0.93)\n",
    "\n",
    "\n",
    "bootstraped_data = get_bootstrap(\n",
    "    groups.query('testgroup == \"a\" and revenue > 0 and revenue < @quantile_93_grp_a').revenue, \n",
    "    groups.query('testgroup == \"b\" and revenue > 0 and revenue < @quantile_93_grp_b').revenue, \n",
    "    boot_it = 10000, \n",
    "    statistic = np.mean\n",
    ")\n",
    "\n",
    "print(f\" Доверительный интервал \\n{bootstraped_data['ci']}\")\n",
    "print(f\"p-value = {bootstraped_data['p_value']}\")"
   ]
  },
  {
   "cell_type": "markdown",
   "id": "eab03363",
   "metadata": {},
   "source": [
    "Видим что 0 не входит в наш доверительный интервал, и мы можем сказать что 93% платящих пользователей контрольной группы платят сильно меньше чем 93% платящих пользователей тестовой группы"
   ]
  },
  {
   "cell_type": "markdown",
   "id": "4143e29d",
   "metadata": {},
   "source": [
    "Сравнивать конверсии я думаю не имеет смысла, так как мы не сможем оценить только по выручке, не зная показов акционных товаров, рекламных наборов, количество покупок каждым пользователем."
   ]
  },
  {
   "cell_type": "markdown",
   "id": "8b83f350",
   "metadata": {},
   "source": [
    "###### Вывод.\n",
    "\n",
    "Мы доказали что в ARPU наших групп мы не можем найти различий. Но структуры групп отличаются, в тестовой группе все пользователи делают покупки на средние суммы в узком диапазоне от 2 тысяч до 4 тысяч. А в контрольной группе мы имеем 93.63% платящих пользователей которые делают покупки на мелкие суммы от 200 до 400 и 6.37% платящих пользователей которые делают крупные покупки на суммы более 30 тысяч и выручка которых составляет основную часть 89.37%.\n",
    "\n",
    "И решение принимать тут в зависимости от бизнеса, задач и проблем которые мы хотим решать и т.д. какие покупатели для нас предпочтительнее или с кем легче работать. Вариант с тестовой группой имеет меньшие риски при потере пользователей, когда контрольный вариант нацелен на работу с крупными покупателями и при потере таких пользователей получим резкое снижение выручки и метрик."
   ]
  },
  {
   "cell_type": "code",
   "execution_count": null,
   "id": "d444c310",
   "metadata": {},
   "outputs": [],
   "source": []
  },
  {
   "cell_type": "markdown",
   "id": "0d184228",
   "metadata": {},
   "source": [
    "##### Задание 3.\n",
    "\n",
    "В игре Plants & Gardens каждый месяц проводятся тематические события, ограниченные по времени. В них игроки могут получить уникальные предметы для сада и персонажей, дополнительные монеты или бонусы. Для получения награды требуется пройти ряд уровней за определенное время. С помощью каких метрик можно оценить результаты последнего прошедшего события?\n",
    "\n",
    "Предположим, в другом событии мы усложнили механику событий так, что при каждой неудачной попытке выполнения уровня игрок будет откатываться на несколько уровней назад. Изменится ли набор метрик оценки результата? Если да, то как?"
   ]
  },
  {
   "cell_type": "markdown",
   "id": "06243f1f",
   "metadata": {},
   "source": [
    "Для оценки игрового дизайна события можно использовать:\n",
    "- все конверсии по воронке уровней ивента\n",
    "- количество игроков, которые начали и закончили эвент целиком и их процент от активной аудитории\n",
    "- среднее время прохождения каждого уровня\n",
    "- среднее количество попыток на прохождение каждого уровня\n",
    "\n",
    "Для общей оценки, метрики лояльности и денежные метрики\n",
    "- DAU, WAU, stickness\n",
    "- retention, churn\n",
    "- среднее время проведенное в игре\n",
    "- доход, ARPU, ARPPU, ARPAU\n",
    "- конверсия в покупку\n",
    "\n",
    "Для усложненной механики все перечисленные метрики выше нам подходят.\n"
   ]
  },
  {
   "cell_type": "code",
   "execution_count": null,
   "id": "c8e39150",
   "metadata": {},
   "outputs": [],
   "source": []
  }
 ],
 "metadata": {
  "kernelspec": {
   "display_name": "Python 3 (ipykernel)",
   "language": "python",
   "name": "python3"
  },
  "language_info": {
   "codemirror_mode": {
    "name": "ipython",
    "version": 3
   },
   "file_extension": ".py",
   "mimetype": "text/x-python",
   "name": "python",
   "nbconvert_exporter": "python",
   "pygments_lexer": "ipython3",
   "version": "3.9.7"
  }
 },
 "nbformat": 4,
 "nbformat_minor": 5
}
