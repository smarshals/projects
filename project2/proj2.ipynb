{
 "cells": [
  {
   "cell_type": "code",
   "execution_count": 1,
   "metadata": {},
   "outputs": [],
   "source": [
    "import pandas as pd\n",
    "import numpy as np\n",
    "import pingouin as pg\n",
    "import scipy.stats as ss\n",
    "from tqdm.auto import tqdm\n",
    "\n",
    "import requests\n",
    "import json\n",
    "from urllib.parse import urlencode\n",
    "\n",
    "import matplotlib.pyplot as plt\n",
    "import seaborn as sns"
   ]
  },
  {
   "cell_type": "code",
   "execution_count": 2,
   "metadata": {},
   "outputs": [
    {
     "name": "stderr",
     "output_type": "stream",
     "text": [
      "/opt/tljh/user/lib/python3.7/site-packages/outdated/utils.py:18: OutdatedCacheFailedWarning: Failed to use cache while checking for outdated package.\n",
      "Set the environment variable OUTDATED_RAISE_EXCEPTION=1 for a full traceback.\n",
      "Set the environment variable OUTDATED_IGNORE=1 to disable these warnings.\n",
      "  **kwargs\n",
      "/opt/tljh/user/lib/python3.7/site-packages/outdated/utils.py:18: OutdatedPackageWarning: The package pingouin is out of date. Your version is 0.4.0, the latest is 0.5.1.\n",
      "Set the environment variable OUTDATED_IGNORE=1 to disable these warnings.\n",
      "  **kwargs\n"
     ]
    }
   ],
   "source": [
    "# считаем данные\n",
    "base_url = 'https://cloud-api.yandex.net/v1/disk/public/resources/download?'\n",
    "\n",
    "\n",
    "groups_url       = 'https://disk.yandex.ru/d/58Us0DWOzuWAjg'  \n",
    "final_groups_url = base_url + urlencode(dict(public_key=groups_url))\n",
    "response_groups  = requests.get(final_groups_url)\n",
    "json_groups      = json.loads(response_groups.text)['href']\n",
    "groups           = pd.read_csv(json_groups, sep=';') # файл с информацией о принадлежности пользователя к контрольной или \n",
    "                                                     # экспериментальной группе (А – контроль, B – целевая группа) \n",
    "\n",
    "    \n",
    "groups_add_url       = 'https://disk.yandex.ru/d/3aARY-P9pfaksg'  \n",
    "final_groups_add_url = base_url + urlencode(dict(public_key=groups_add_url))\n",
    "response_groups_add  = requests.get(final_groups_add_url)\n",
    "json_groups_add      = json.loads(response_groups_add.text)['href']\n",
    "groups_add           = pd.read_csv(json_groups_add) # дополнительный файл с пользователями, \n",
    "                                                    # который вам прислали спустя 2 дня после передачи данных\n",
    "\n",
    "    \n",
    "active_studs_url       = 'https://disk.yandex.ru/d/prbgU-rZpiXVYg'  \n",
    "final_active_studs_url = base_url + urlencode(dict(public_key=active_studs_url))\n",
    "response_active_studs  = requests.get(final_active_studs_url)\n",
    "json_active_studs      = json.loads(response_active_studs.text)['href']\n",
    "active_studs           = pd.read_csv(json_active_studs) # файл с информацией о пользователях, \n",
    "                                                        # которые зашли на платформу в дни проведения эксперимента.\n",
    "\n",
    "    \n",
    "checks_url       = 'https://disk.yandex.ru/d/84hTmELphW2sqQ' \n",
    "final_checks_url = base_url + urlencode(dict(public_key=checks_url))\n",
    "response_checks  = requests.get(final_checks_url)\n",
    "json_checks      = json.loads(response_checks.text)['href']\n",
    "checks           = pd.read_csv(json_checks, sep=';') # файл с информацией об оплатах пользователей \n",
    "                                                     # в дни проведения эксперимента."
   ]
  },
  {
   "cell_type": "markdown",
   "metadata": {},
   "source": [
    "### Задание 1. A/B Тестировние\n",
    "##### Условие\n",
    "Одной из основных задач аналитика в нашей команде является корректное проведение экспериментов. Для этого мы применяем метод A/B–тестирования. В ходе тестирования одной гипотезы целевой группе была предложена новая механика оплаты услуг на сайте, у контрольной группы оставалась базовая механика. В качестве задания Вам необходимо проанализировать итоги эксперимента и сделать вывод, стоит ли запускать новую механику оплаты на всех пользователей.\n",
    "\n",
    "##### Входные данные\n",
    "В качестве входных данных Вы имеете 4 csv-файла:\n",
    "\n",
    "groups.csv - файл с информацией о принадлежности пользователя к контрольной или экспериментальной группе (А – контроль, B – целевая группа) \n",
    "groups_add.csv - дополнительный файл с пользователями, который вам прислали спустя 2 дня после передачи данных\n",
    "active_studs.csv - файл с информацией о пользователях, которые зашли на платформу в дни проведения эксперимента. \n",
    "checks.csv - файл с информацией об оплатах пользователей в дни проведения эксперимента. \n",
    "##### Вопросы\n",
    "Предлагаем Вам ответить на следующие вопросы:\n",
    "\n",
    "На какие метрики Вы смотрите в ходе анализа и почему?\n",
    "Имеются ли различия в показателях и с чем они могут быть связаны?\n",
    "Являются ли эти различия статистически значимыми?\n",
    "Стоит ли запускать новую механику на всех пользователей?\n",
    "Данный список вопросов не является обязательным, и Вы можете при своём ответе опираться на собственный план.\n",
    "\n",
    "##### Требования к ответу\n",
    "При выполнении тестового задания необходимо использовать язык программирования Python. \n",
    "В файле обязательно должны быть комментарии к тем действиям, которые Вы выполняете с данными. \n",
    "Файл должен представлять собой законченный отчёт с выводами, сделанными в ходе исследования.\n",
    "\n"
   ]
  },
  {
   "cell_type": "markdown",
   "metadata": {},
   "source": [
    "### 1.1 Посмотрим что есть в таблицах, изучим данные"
   ]
  },
  {
   "cell_type": "markdown",
   "metadata": {},
   "source": [
    "##### 1.1.1 Начнем с groups"
   ]
  },
  {
   "cell_type": "code",
   "execution_count": 3,
   "metadata": {},
   "outputs": [
    {
     "data": {
      "text/html": [
       "<div>\n",
       "<style scoped>\n",
       "    .dataframe tbody tr th:only-of-type {\n",
       "        vertical-align: middle;\n",
       "    }\n",
       "\n",
       "    .dataframe tbody tr th {\n",
       "        vertical-align: top;\n",
       "    }\n",
       "\n",
       "    .dataframe thead th {\n",
       "        text-align: right;\n",
       "    }\n",
       "</style>\n",
       "<table border=\"1\" class=\"dataframe\">\n",
       "  <thead>\n",
       "    <tr style=\"text-align: right;\">\n",
       "      <th></th>\n",
       "      <th>id</th>\n",
       "      <th>grp</th>\n",
       "    </tr>\n",
       "  </thead>\n",
       "  <tbody>\n",
       "    <tr>\n",
       "      <th>0</th>\n",
       "      <td>1489</td>\n",
       "      <td>B</td>\n",
       "    </tr>\n",
       "    <tr>\n",
       "      <th>1</th>\n",
       "      <td>1627</td>\n",
       "      <td>A</td>\n",
       "    </tr>\n",
       "    <tr>\n",
       "      <th>2</th>\n",
       "      <td>1768</td>\n",
       "      <td>B</td>\n",
       "    </tr>\n",
       "    <tr>\n",
       "      <th>3</th>\n",
       "      <td>1783</td>\n",
       "      <td>B</td>\n",
       "    </tr>\n",
       "    <tr>\n",
       "      <th>4</th>\n",
       "      <td>1794</td>\n",
       "      <td>A</td>\n",
       "    </tr>\n",
       "  </tbody>\n",
       "</table>\n",
       "</div>"
      ],
      "text/plain": [
       "     id grp\n",
       "0  1489   B\n",
       "1  1627   A\n",
       "2  1768   B\n",
       "3  1783   B\n",
       "4  1794   A"
      ]
     },
     "metadata": {},
     "output_type": "display_data"
    },
    {
     "name": "stdout",
     "output_type": "stream",
     "text": [
      "<class 'pandas.core.frame.DataFrame'>\n",
      "RangeIndex: 74484 entries, 0 to 74483\n",
      "Data columns (total 2 columns):\n",
      " #   Column  Non-Null Count  Dtype \n",
      "---  ------  --------------  ----- \n",
      " 0   id      74484 non-null  int64 \n",
      " 1   grp     74484 non-null  object\n",
      "dtypes: int64(1), object(1)\n",
      "memory usage: 1.1+ MB\n",
      "None\n",
      "\n",
      "-------\n",
      "\n",
      "74484 - groups unique id\n",
      "\n",
      "-------\n",
      "\n",
      "14671 - unique id grp A\n",
      "\n",
      "-------\n",
      "\n",
      "59813 - unique id grp B\n",
      "\n",
      "-------\n",
      "\n",
      "0 - duplicated id\n"
     ]
    }
   ],
   "source": [
    "display(groups.head())\n",
    "print(\n",
    "    groups.info(),\n",
    "    \n",
    "    f'{groups.id.nunique()} - groups unique id',\n",
    "    \n",
    "    f'''{groups.query('grp == \"A\"').id.nunique()} - unique id grp A''',\n",
    "    \n",
    "    f'''{groups.query('grp == \"B\"').id.nunique()} - unique id grp B''',\n",
    "    \n",
    "    f'{groups.id.duplicated().sum()} - duplicated id',\n",
    "    \n",
    "    sep='\\n\\n-------\\n\\n'\n",
    ")"
   ]
  },
  {
   "cell_type": "markdown",
   "metadata": {},
   "source": [
    "##### Вывод:\n",
    "    - Все данные в нужном формате, дубликатов, пропусков нету\n",
    "    - На первый взгляд группы поделены не совсем ровно, по количеству присутствующих в ней человек.\n",
    "      Тут зависит все от уверенности в том, что система сплитования работает корректно.\n",
    "      Мы же как хорошая команда предварительно позаботились о ее проверке, так что все ок."
   ]
  },
  {
   "cell_type": "markdown",
   "metadata": {},
   "source": [
    "##### 1.1.2 Таблица с пользователями"
   ]
  },
  {
   "cell_type": "code",
   "execution_count": 4,
   "metadata": {},
   "outputs": [
    {
     "data": {
      "text/html": [
       "<div>\n",
       "<style scoped>\n",
       "    .dataframe tbody tr th:only-of-type {\n",
       "        vertical-align: middle;\n",
       "    }\n",
       "\n",
       "    .dataframe tbody tr th {\n",
       "        vertical-align: top;\n",
       "    }\n",
       "\n",
       "    .dataframe thead th {\n",
       "        text-align: right;\n",
       "    }\n",
       "</style>\n",
       "<table border=\"1\" class=\"dataframe\">\n",
       "  <thead>\n",
       "    <tr style=\"text-align: right;\">\n",
       "      <th></th>\n",
       "      <th>student_id</th>\n",
       "    </tr>\n",
       "  </thead>\n",
       "  <tbody>\n",
       "    <tr>\n",
       "      <th>0</th>\n",
       "      <td>581585</td>\n",
       "    </tr>\n",
       "    <tr>\n",
       "      <th>1</th>\n",
       "      <td>5723133</td>\n",
       "    </tr>\n",
       "    <tr>\n",
       "      <th>2</th>\n",
       "      <td>3276743</td>\n",
       "    </tr>\n",
       "    <tr>\n",
       "      <th>3</th>\n",
       "      <td>4238589</td>\n",
       "    </tr>\n",
       "    <tr>\n",
       "      <th>4</th>\n",
       "      <td>4475369</td>\n",
       "    </tr>\n",
       "  </tbody>\n",
       "</table>\n",
       "</div>"
      ],
      "text/plain": [
       "   student_id\n",
       "0      581585\n",
       "1     5723133\n",
       "2     3276743\n",
       "3     4238589\n",
       "4     4475369"
      ]
     },
     "metadata": {},
     "output_type": "display_data"
    },
    {
     "name": "stdout",
     "output_type": "stream",
     "text": [
      "<class 'pandas.core.frame.DataFrame'>\n",
      "RangeIndex: 8341 entries, 0 to 8340\n",
      "Data columns (total 1 columns):\n",
      " #   Column      Non-Null Count  Dtype\n",
      "---  ------      --------------  -----\n",
      " 0   student_id  8341 non-null   int64\n",
      "dtypes: int64(1)\n",
      "memory usage: 65.3 KB\n",
      "None\n",
      "\n",
      "-------\n",
      "\n",
      "0 - duplicated student id\n"
     ]
    }
   ],
   "source": [
    "display(active_studs.head())\n",
    "print(    \n",
    "    active_studs.info(),\n",
    "    \n",
    "    f'{active_studs.student_id.duplicated().sum()} - duplicated student id',\n",
    "    \n",
    "    sep='\\n\\n-------\\n\\n'\n",
    ")"
   ]
  },
  {
   "cell_type": "markdown",
   "metadata": {},
   "source": [
    "##### Вывод:\n",
    "    - тут все ок"
   ]
  },
  {
   "cell_type": "code",
   "execution_count": null,
   "metadata": {},
   "outputs": [],
   "source": []
  },
  {
   "cell_type": "markdown",
   "metadata": {},
   "source": [
    "##### 1.1.3 Дополнительный файл с пользователями"
   ]
  },
  {
   "cell_type": "code",
   "execution_count": 5,
   "metadata": {},
   "outputs": [
    {
     "data": {
      "text/html": [
       "<div>\n",
       "<style scoped>\n",
       "    .dataframe tbody tr th:only-of-type {\n",
       "        vertical-align: middle;\n",
       "    }\n",
       "\n",
       "    .dataframe tbody tr th {\n",
       "        vertical-align: top;\n",
       "    }\n",
       "\n",
       "    .dataframe thead th {\n",
       "        text-align: right;\n",
       "    }\n",
       "</style>\n",
       "<table border=\"1\" class=\"dataframe\">\n",
       "  <thead>\n",
       "    <tr style=\"text-align: right;\">\n",
       "      <th></th>\n",
       "      <th>id</th>\n",
       "      <th>grp</th>\n",
       "    </tr>\n",
       "  </thead>\n",
       "  <tbody>\n",
       "    <tr>\n",
       "      <th>0</th>\n",
       "      <td>5694584</td>\n",
       "      <td>B</td>\n",
       "    </tr>\n",
       "    <tr>\n",
       "      <th>1</th>\n",
       "      <td>5694830</td>\n",
       "      <td>B</td>\n",
       "    </tr>\n",
       "    <tr>\n",
       "      <th>2</th>\n",
       "      <td>5695057</td>\n",
       "      <td>B</td>\n",
       "    </tr>\n",
       "    <tr>\n",
       "      <th>3</th>\n",
       "      <td>5698872</td>\n",
       "      <td>B</td>\n",
       "    </tr>\n",
       "    <tr>\n",
       "      <th>4</th>\n",
       "      <td>5699067</td>\n",
       "      <td>B</td>\n",
       "    </tr>\n",
       "  </tbody>\n",
       "</table>\n",
       "</div>"
      ],
      "text/plain": [
       "        id grp\n",
       "0  5694584   B\n",
       "1  5694830   B\n",
       "2  5695057   B\n",
       "3  5698872   B\n",
       "4  5699067   B"
      ]
     },
     "metadata": {},
     "output_type": "display_data"
    },
    {
     "name": "stdout",
     "output_type": "stream",
     "text": [
      "<class 'pandas.core.frame.DataFrame'>\n",
      "RangeIndex: 92 entries, 0 to 91\n",
      "Data columns (total 2 columns):\n",
      " #   Column  Non-Null Count  Dtype \n",
      "---  ------  --------------  ----- \n",
      " 0   id      92 non-null     int64 \n",
      " 1   grp     92 non-null     object\n",
      "dtypes: int64(1), object(1)\n",
      "memory usage: 1.6+ KB\n",
      "None\n",
      "\n",
      "-------\n",
      "\n",
      "22 - unique id grp A\n",
      "\n",
      "-------\n",
      "\n",
      "70 - unique id grp A\n",
      "\n",
      "-------\n",
      "\n",
      "0 - duplicated student id\n"
     ]
    }
   ],
   "source": [
    "display(groups_add.head())\n",
    "print(   \n",
    "    groups_add.info(),\n",
    "    \n",
    "    f'''{groups_add.query('grp == \"A\"').id.nunique()} - unique id grp A''',\n",
    "    \n",
    "    f'''{groups_add.query('grp == \"B\"').id.nunique()} - unique id grp A''',\n",
    "    \n",
    "    f'{groups_add.id.duplicated().sum()} - duplicated student id',\n",
    "    \n",
    "    sep='\\n\\n-------\\n\\n'\n",
    ")"
   ]
  },
  {
   "cell_type": "markdown",
   "metadata": {},
   "source": [
    "##### Вывод:\n",
    "    - тут все ок\n",
    "\n",
    "##### Рекомендации:\n",
    "    - выяснить, почему часть данных принесена только через два дня."
   ]
  },
  {
   "cell_type": "code",
   "execution_count": null,
   "metadata": {},
   "outputs": [],
   "source": []
  },
  {
   "cell_type": "markdown",
   "metadata": {},
   "source": [
    "##### 1.1.4 Файл с информацией об оплатах"
   ]
  },
  {
   "cell_type": "code",
   "execution_count": 6,
   "metadata": {
    "scrolled": false
   },
   "outputs": [
    {
     "data": {
      "text/html": [
       "<div>\n",
       "<style scoped>\n",
       "    .dataframe tbody tr th:only-of-type {\n",
       "        vertical-align: middle;\n",
       "    }\n",
       "\n",
       "    .dataframe tbody tr th {\n",
       "        vertical-align: top;\n",
       "    }\n",
       "\n",
       "    .dataframe thead th {\n",
       "        text-align: right;\n",
       "    }\n",
       "</style>\n",
       "<table border=\"1\" class=\"dataframe\">\n",
       "  <thead>\n",
       "    <tr style=\"text-align: right;\">\n",
       "      <th></th>\n",
       "      <th>student_id</th>\n",
       "      <th>rev</th>\n",
       "    </tr>\n",
       "  </thead>\n",
       "  <tbody>\n",
       "    <tr>\n",
       "      <th>0</th>\n",
       "      <td>1627</td>\n",
       "      <td>990.0</td>\n",
       "    </tr>\n",
       "    <tr>\n",
       "      <th>1</th>\n",
       "      <td>3185</td>\n",
       "      <td>690.0</td>\n",
       "    </tr>\n",
       "    <tr>\n",
       "      <th>2</th>\n",
       "      <td>25973</td>\n",
       "      <td>690.0</td>\n",
       "    </tr>\n",
       "    <tr>\n",
       "      <th>3</th>\n",
       "      <td>26280</td>\n",
       "      <td>690.0</td>\n",
       "    </tr>\n",
       "    <tr>\n",
       "      <th>4</th>\n",
       "      <td>100300</td>\n",
       "      <td>990.0</td>\n",
       "    </tr>\n",
       "  </tbody>\n",
       "</table>\n",
       "</div>"
      ],
      "text/plain": [
       "   student_id    rev\n",
       "0        1627  990.0\n",
       "1        3185  690.0\n",
       "2       25973  690.0\n",
       "3       26280  690.0\n",
       "4      100300  990.0"
      ]
     },
     "metadata": {},
     "output_type": "display_data"
    },
    {
     "name": "stdout",
     "output_type": "stream",
     "text": [
      "<class 'pandas.core.frame.DataFrame'>\n",
      "RangeIndex: 541 entries, 0 to 540\n",
      "Data columns (total 2 columns):\n",
      " #   Column      Non-Null Count  Dtype  \n",
      "---  ------      --------------  -----  \n",
      " 0   student_id  541 non-null    int64  \n",
      " 1   rev         541 non-null    float64\n",
      "dtypes: float64(1), int64(1)\n",
      "memory usage: 8.6 KB\n",
      "None\n",
      "\n",
      "-------\n",
      "\n",
      "0 - duplicated student id\n",
      "\n",
      "-------\n",
      "\n",
      "describe statistics \n",
      "count     541.000000\n",
      "mean     1059.752317\n",
      "std       762.712359\n",
      "min       199.000000\n",
      "25%       290.000000\n",
      "50%       840.000000\n",
      "75%      1900.000000\n",
      "max      4650.000000\n",
      "Name: rev, dtype: float64\n"
     ]
    }
   ],
   "source": [
    "display(checks.head())\n",
    "print(    \n",
    "    checks.info(),\n",
    "    \n",
    "    f'{checks.student_id.duplicated().sum()} - duplicated student id',\n",
    "    \n",
    "    f'describe statistics \\n{checks.rev.describe()}',\n",
    "    \n",
    "    sep='\\n\\n-------\\n\\n'\n",
    ")"
   ]
  },
  {
   "cell_type": "markdown",
   "metadata": {},
   "source": [
    "##### Вывод:\n",
    "    - тут нас тоже все устраивает"
   ]
  },
  {
   "cell_type": "code",
   "execution_count": null,
   "metadata": {},
   "outputs": [],
   "source": []
  },
  {
   "cell_type": "markdown",
   "metadata": {},
   "source": [
    "##### 1.1.5 Продолжим и подготовим данные для дальнейшего изучения"
   ]
  },
  {
   "cell_type": "code",
   "execution_count": 7,
   "metadata": {},
   "outputs": [],
   "source": [
    "# переименуем столбцы для удобного джоина\n",
    "\n",
    "groups.rename(columns={'id':'student_id'}, inplace=True)\n",
    "groups_add.rename(columns={'id':'student_id'}, inplace=True)"
   ]
  },
  {
   "cell_type": "code",
   "execution_count": 8,
   "metadata": {
    "scrolled": true
   },
   "outputs": [
    {
     "data": {
      "text/html": [
       "<div>\n",
       "<style scoped>\n",
       "    .dataframe tbody tr th:only-of-type {\n",
       "        vertical-align: middle;\n",
       "    }\n",
       "\n",
       "    .dataframe tbody tr th {\n",
       "        vertical-align: top;\n",
       "    }\n",
       "\n",
       "    .dataframe thead th {\n",
       "        text-align: right;\n",
       "    }\n",
       "</style>\n",
       "<table border=\"1\" class=\"dataframe\">\n",
       "  <thead>\n",
       "    <tr style=\"text-align: right;\">\n",
       "      <th></th>\n",
       "      <th>student_id</th>\n",
       "      <th>grp</th>\n",
       "    </tr>\n",
       "  </thead>\n",
       "  <tbody>\n",
       "    <tr>\n",
       "      <th>0</th>\n",
       "      <td>1489</td>\n",
       "      <td>B</td>\n",
       "    </tr>\n",
       "    <tr>\n",
       "      <th>1</th>\n",
       "      <td>1627</td>\n",
       "      <td>A</td>\n",
       "    </tr>\n",
       "    <tr>\n",
       "      <th>2</th>\n",
       "      <td>1768</td>\n",
       "      <td>B</td>\n",
       "    </tr>\n",
       "    <tr>\n",
       "      <th>3</th>\n",
       "      <td>1783</td>\n",
       "      <td>B</td>\n",
       "    </tr>\n",
       "    <tr>\n",
       "      <th>4</th>\n",
       "      <td>1794</td>\n",
       "      <td>A</td>\n",
       "    </tr>\n",
       "  </tbody>\n",
       "</table>\n",
       "</div>"
      ],
      "text/plain": [
       "   student_id grp\n",
       "0        1489   B\n",
       "1        1627   A\n",
       "2        1768   B\n",
       "3        1783   B\n",
       "4        1794   A"
      ]
     },
     "execution_count": 8,
     "metadata": {},
     "output_type": "execute_result"
    }
   ],
   "source": [
    "# объеденим таблицы с данными о группах\n",
    "\n",
    "groups_full = pd.concat([groups, groups_add], ignore_index=True, axis=0)\n",
    "groups_full.head()"
   ]
  },
  {
   "cell_type": "code",
   "execution_count": 9,
   "metadata": {},
   "outputs": [
    {
     "name": "stdout",
     "output_type": "stream",
     "text": [
      "74576 - shape groups + groups add\n",
      "\n",
      "-------\n",
      "\n",
      "(74576, 2) - groups full shape\n",
      "\n",
      "-------\n",
      "\n",
      "0 - duplicated id\n"
     ]
    }
   ],
   "source": [
    "print(\n",
    "    f'{groups.shape[0] + groups_add.shape[0]} - shape groups + groups add',\n",
    "    \n",
    "    f'{groups_full.shape} - groups full shape',\n",
    "    \n",
    "    f'{groups_full.student_id.duplicated().sum()} - duplicated id',\n",
    "    \n",
    "    sep='\\n\\n-------\\n\\n'\n",
    ")"
   ]
  },
  {
   "cell_type": "code",
   "execution_count": 10,
   "metadata": {},
   "outputs": [
    {
     "data": {
      "text/plain": [
       "(74576, 3)"
      ]
     },
     "execution_count": 10,
     "metadata": {},
     "output_type": "execute_result"
    }
   ],
   "source": [
    "# Добавим информацию о покупках\n",
    "\n",
    "groups_full = groups_full.merge(checks, how='left', on='student_id')\n",
    "groups_full.shape"
   ]
  },
  {
   "cell_type": "code",
   "execution_count": 11,
   "metadata": {
    "scrolled": true
   },
   "outputs": [
    {
     "data": {
      "text/html": [
       "<div>\n",
       "<style scoped>\n",
       "    .dataframe tbody tr th:only-of-type {\n",
       "        vertical-align: middle;\n",
       "    }\n",
       "\n",
       "    .dataframe tbody tr th {\n",
       "        vertical-align: top;\n",
       "    }\n",
       "\n",
       "    .dataframe thead th {\n",
       "        text-align: right;\n",
       "    }\n",
       "</style>\n",
       "<table border=\"1\" class=\"dataframe\">\n",
       "  <thead>\n",
       "    <tr style=\"text-align: right;\">\n",
       "      <th></th>\n",
       "      <th>student_id</th>\n",
       "      <th>grp</th>\n",
       "      <th>rev</th>\n",
       "    </tr>\n",
       "  </thead>\n",
       "  <tbody>\n",
       "    <tr>\n",
       "      <th>0</th>\n",
       "      <td>1489</td>\n",
       "      <td>B</td>\n",
       "      <td>NaN</td>\n",
       "    </tr>\n",
       "    <tr>\n",
       "      <th>1</th>\n",
       "      <td>1627</td>\n",
       "      <td>A</td>\n",
       "      <td>990.0</td>\n",
       "    </tr>\n",
       "    <tr>\n",
       "      <th>2</th>\n",
       "      <td>1768</td>\n",
       "      <td>B</td>\n",
       "      <td>NaN</td>\n",
       "    </tr>\n",
       "    <tr>\n",
       "      <th>3</th>\n",
       "      <td>1783</td>\n",
       "      <td>B</td>\n",
       "      <td>NaN</td>\n",
       "    </tr>\n",
       "    <tr>\n",
       "      <th>4</th>\n",
       "      <td>1794</td>\n",
       "      <td>A</td>\n",
       "      <td>NaN</td>\n",
       "    </tr>\n",
       "  </tbody>\n",
       "</table>\n",
       "</div>"
      ],
      "text/plain": [
       "   student_id grp    rev\n",
       "0        1489   B    NaN\n",
       "1        1627   A  990.0\n",
       "2        1768   B    NaN\n",
       "3        1783   B    NaN\n",
       "4        1794   A    NaN"
      ]
     },
     "execution_count": 11,
     "metadata": {},
     "output_type": "execute_result"
    }
   ],
   "source": [
    "groups_full.head()"
   ]
  },
  {
   "cell_type": "code",
   "execution_count": 12,
   "metadata": {},
   "outputs": [],
   "source": [
    "# делаем столбец с теми кто был активен\n",
    "\n",
    "active_studs['active'] = 1\n",
    "\n",
    "# Получаем таблицу со всеми данными что у нас есть\n",
    "\n",
    "groups_all = groups_full.merge(active_studs, how='left', on='student_id')"
   ]
  },
  {
   "cell_type": "code",
   "execution_count": 13,
   "metadata": {},
   "outputs": [
    {
     "data": {
      "text/html": [
       "<div>\n",
       "<style scoped>\n",
       "    .dataframe tbody tr th:only-of-type {\n",
       "        vertical-align: middle;\n",
       "    }\n",
       "\n",
       "    .dataframe tbody tr th {\n",
       "        vertical-align: top;\n",
       "    }\n",
       "\n",
       "    .dataframe thead th {\n",
       "        text-align: right;\n",
       "    }\n",
       "</style>\n",
       "<table border=\"1\" class=\"dataframe\">\n",
       "  <thead>\n",
       "    <tr style=\"text-align: right;\">\n",
       "      <th></th>\n",
       "      <th>student_id</th>\n",
       "      <th>grp</th>\n",
       "      <th>rev</th>\n",
       "      <th>active</th>\n",
       "    </tr>\n",
       "  </thead>\n",
       "  <tbody>\n",
       "    <tr>\n",
       "      <th>0</th>\n",
       "      <td>1489</td>\n",
       "      <td>B</td>\n",
       "      <td>NaN</td>\n",
       "      <td>NaN</td>\n",
       "    </tr>\n",
       "    <tr>\n",
       "      <th>1</th>\n",
       "      <td>1627</td>\n",
       "      <td>A</td>\n",
       "      <td>990.0</td>\n",
       "      <td>1.0</td>\n",
       "    </tr>\n",
       "    <tr>\n",
       "      <th>2</th>\n",
       "      <td>1768</td>\n",
       "      <td>B</td>\n",
       "      <td>NaN</td>\n",
       "      <td>NaN</td>\n",
       "    </tr>\n",
       "    <tr>\n",
       "      <th>3</th>\n",
       "      <td>1783</td>\n",
       "      <td>B</td>\n",
       "      <td>NaN</td>\n",
       "      <td>NaN</td>\n",
       "    </tr>\n",
       "    <tr>\n",
       "      <th>4</th>\n",
       "      <td>1794</td>\n",
       "      <td>A</td>\n",
       "      <td>NaN</td>\n",
       "      <td>NaN</td>\n",
       "    </tr>\n",
       "  </tbody>\n",
       "</table>\n",
       "</div>"
      ],
      "text/plain": [
       "   student_id grp    rev  active\n",
       "0        1489   B    NaN     NaN\n",
       "1        1627   A  990.0     1.0\n",
       "2        1768   B    NaN     NaN\n",
       "3        1783   B    NaN     NaN\n",
       "4        1794   A    NaN     NaN"
      ]
     },
     "execution_count": 13,
     "metadata": {},
     "output_type": "execute_result"
    }
   ],
   "source": [
    "groups_all.head()"
   ]
  },
  {
   "cell_type": "code",
   "execution_count": 14,
   "metadata": {},
   "outputs": [
    {
     "data": {
      "text/plain": [
       "student_id        0\n",
       "grp               0\n",
       "rev           74035\n",
       "active        66235\n",
       "dtype: int64"
      ]
     },
     "execution_count": 14,
     "metadata": {},
     "output_type": "execute_result"
    }
   ],
   "source": [
    "groups_all.isna().sum()"
   ]
  },
  {
   "cell_type": "code",
   "execution_count": 15,
   "metadata": {},
   "outputs": [
    {
     "data": {
      "text/plain": [
       "0"
      ]
     },
     "execution_count": 15,
     "metadata": {},
     "output_type": "execute_result"
    }
   ],
   "source": [
    "# проверка дубликатов\n",
    "\n",
    "groups_all.student_id.duplicated().sum()"
   ]
  },
  {
   "cell_type": "code",
   "execution_count": 16,
   "metadata": {},
   "outputs": [
    {
     "data": {
      "text/plain": [
       "array([1])"
      ]
     },
     "execution_count": 16,
     "metadata": {},
     "output_type": "execute_result"
    }
   ],
   "source": [
    "# Проверяем не пересекаются ли группы по студентам\n",
    "\n",
    "countGroups = groups_all.groupby('student_id')['grp'].nunique()\n",
    "countGroups.unique()"
   ]
  },
  {
   "cell_type": "code",
   "execution_count": 17,
   "metadata": {
    "scrolled": true
   },
   "outputs": [
    {
     "data": {
      "text/html": [
       "<div>\n",
       "<style scoped>\n",
       "    .dataframe tbody tr th:only-of-type {\n",
       "        vertical-align: middle;\n",
       "    }\n",
       "\n",
       "    .dataframe tbody tr th {\n",
       "        vertical-align: top;\n",
       "    }\n",
       "\n",
       "    .dataframe thead th {\n",
       "        text-align: right;\n",
       "    }\n",
       "</style>\n",
       "<table border=\"1\" class=\"dataframe\">\n",
       "  <thead>\n",
       "    <tr style=\"text-align: right;\">\n",
       "      <th></th>\n",
       "      <th>student_id</th>\n",
       "      <th>grp</th>\n",
       "      <th>rev</th>\n",
       "      <th>active</th>\n",
       "    </tr>\n",
       "  </thead>\n",
       "  <tbody>\n",
       "    <tr>\n",
       "      <th>0</th>\n",
       "      <td>1489</td>\n",
       "      <td>B</td>\n",
       "      <td>0.0</td>\n",
       "      <td>0.0</td>\n",
       "    </tr>\n",
       "    <tr>\n",
       "      <th>1</th>\n",
       "      <td>1627</td>\n",
       "      <td>A</td>\n",
       "      <td>990.0</td>\n",
       "      <td>1.0</td>\n",
       "    </tr>\n",
       "    <tr>\n",
       "      <th>2</th>\n",
       "      <td>1768</td>\n",
       "      <td>B</td>\n",
       "      <td>0.0</td>\n",
       "      <td>0.0</td>\n",
       "    </tr>\n",
       "    <tr>\n",
       "      <th>3</th>\n",
       "      <td>1783</td>\n",
       "      <td>B</td>\n",
       "      <td>0.0</td>\n",
       "      <td>0.0</td>\n",
       "    </tr>\n",
       "    <tr>\n",
       "      <th>4</th>\n",
       "      <td>1794</td>\n",
       "      <td>A</td>\n",
       "      <td>0.0</td>\n",
       "      <td>0.0</td>\n",
       "    </tr>\n",
       "  </tbody>\n",
       "</table>\n",
       "</div>"
      ],
      "text/plain": [
       "   student_id grp    rev  active\n",
       "0        1489   B    0.0     0.0\n",
       "1        1627   A  990.0     1.0\n",
       "2        1768   B    0.0     0.0\n",
       "3        1783   B    0.0     0.0\n",
       "4        1794   A    0.0     0.0"
      ]
     },
     "execution_count": 17,
     "metadata": {},
     "output_type": "execute_result"
    }
   ],
   "source": [
    "# Заполняем ячейки со значениями нан нулями для удобства работы\n",
    "\n",
    "groups_all.fillna(0, inplace=True)\n",
    "groups_all.head()"
   ]
  },
  {
   "cell_type": "code",
   "execution_count": 18,
   "metadata": {},
   "outputs": [],
   "source": [
    "# посмотрим на группу пользователей, файл с которыми нам принесли спустя два дня"
   ]
  },
  {
   "cell_type": "code",
   "execution_count": 19,
   "metadata": {},
   "outputs": [],
   "source": [
    "added_id = groups_add.merge(checks, how='left')\n",
    "added_id = added_id.merge(active_studs, how='left')"
   ]
  },
  {
   "cell_type": "code",
   "execution_count": 20,
   "metadata": {},
   "outputs": [],
   "source": [
    "added_id.fillna(0, inplace=True)"
   ]
  },
  {
   "cell_type": "code",
   "execution_count": 21,
   "metadata": {},
   "outputs": [
    {
     "data": {
      "text/html": [
       "<div>\n",
       "<style scoped>\n",
       "    .dataframe tbody tr th:only-of-type {\n",
       "        vertical-align: middle;\n",
       "    }\n",
       "\n",
       "    .dataframe tbody tr th {\n",
       "        vertical-align: top;\n",
       "    }\n",
       "\n",
       "    .dataframe thead th {\n",
       "        text-align: right;\n",
       "    }\n",
       "</style>\n",
       "<table border=\"1\" class=\"dataframe\">\n",
       "  <thead>\n",
       "    <tr style=\"text-align: right;\">\n",
       "      <th></th>\n",
       "      <th>student_id</th>\n",
       "      <th>grp</th>\n",
       "      <th>rev</th>\n",
       "      <th>active</th>\n",
       "    </tr>\n",
       "  </thead>\n",
       "  <tbody>\n",
       "    <tr>\n",
       "      <th>55</th>\n",
       "      <td>5740903</td>\n",
       "      <td>B</td>\n",
       "      <td>1900.0</td>\n",
       "      <td>1.0</td>\n",
       "    </tr>\n",
       "  </tbody>\n",
       "</table>\n",
       "</div>"
      ],
      "text/plain": [
       "    student_id grp     rev  active\n",
       "55     5740903   B  1900.0     1.0"
      ]
     },
     "execution_count": 21,
     "metadata": {},
     "output_type": "execute_result"
    }
   ],
   "source": [
    "# пользователи которые покупали\n",
    "\n",
    "added_id.query('rev != 0')"
   ]
  },
  {
   "cell_type": "code",
   "execution_count": 22,
   "metadata": {
    "scrolled": false
   },
   "outputs": [
    {
     "data": {
      "text/html": [
       "<div>\n",
       "<style scoped>\n",
       "    .dataframe tbody tr th:only-of-type {\n",
       "        vertical-align: middle;\n",
       "    }\n",
       "\n",
       "    .dataframe tbody tr th {\n",
       "        vertical-align: top;\n",
       "    }\n",
       "\n",
       "    .dataframe thead th {\n",
       "        text-align: right;\n",
       "    }\n",
       "</style>\n",
       "<table border=\"1\" class=\"dataframe\">\n",
       "  <thead>\n",
       "    <tr style=\"text-align: right;\">\n",
       "      <th></th>\n",
       "      <th>student_id</th>\n",
       "      <th>grp</th>\n",
       "      <th>rev</th>\n",
       "      <th>active</th>\n",
       "    </tr>\n",
       "  </thead>\n",
       "  <tbody>\n",
       "    <tr>\n",
       "      <th>7</th>\n",
       "      <td>5700613</td>\n",
       "      <td>B</td>\n",
       "      <td>0.0</td>\n",
       "      <td>1.0</td>\n",
       "    </tr>\n",
       "    <tr>\n",
       "      <th>39</th>\n",
       "      <td>5723133</td>\n",
       "      <td>A</td>\n",
       "      <td>0.0</td>\n",
       "      <td>1.0</td>\n",
       "    </tr>\n",
       "    <tr>\n",
       "      <th>40</th>\n",
       "      <td>5723648</td>\n",
       "      <td>B</td>\n",
       "      <td>0.0</td>\n",
       "      <td>1.0</td>\n",
       "    </tr>\n",
       "    <tr>\n",
       "      <th>43</th>\n",
       "      <td>5728431</td>\n",
       "      <td>B</td>\n",
       "      <td>0.0</td>\n",
       "      <td>1.0</td>\n",
       "    </tr>\n",
       "    <tr>\n",
       "      <th>44</th>\n",
       "      <td>5729371</td>\n",
       "      <td>A</td>\n",
       "      <td>0.0</td>\n",
       "      <td>1.0</td>\n",
       "    </tr>\n",
       "    <tr>\n",
       "      <th>49</th>\n",
       "      <td>5730382</td>\n",
       "      <td>B</td>\n",
       "      <td>0.0</td>\n",
       "      <td>1.0</td>\n",
       "    </tr>\n",
       "    <tr>\n",
       "      <th>54</th>\n",
       "      <td>5739944</td>\n",
       "      <td>B</td>\n",
       "      <td>0.0</td>\n",
       "      <td>1.0</td>\n",
       "    </tr>\n",
       "    <tr>\n",
       "      <th>55</th>\n",
       "      <td>5740903</td>\n",
       "      <td>B</td>\n",
       "      <td>1900.0</td>\n",
       "      <td>1.0</td>\n",
       "    </tr>\n",
       "    <tr>\n",
       "      <th>59</th>\n",
       "      <td>5760471</td>\n",
       "      <td>B</td>\n",
       "      <td>0.0</td>\n",
       "      <td>1.0</td>\n",
       "    </tr>\n",
       "    <tr>\n",
       "      <th>61</th>\n",
       "      <td>5777081</td>\n",
       "      <td>B</td>\n",
       "      <td>0.0</td>\n",
       "      <td>1.0</td>\n",
       "    </tr>\n",
       "    <tr>\n",
       "      <th>74</th>\n",
       "      <td>5870856</td>\n",
       "      <td>A</td>\n",
       "      <td>0.0</td>\n",
       "      <td>1.0</td>\n",
       "    </tr>\n",
       "    <tr>\n",
       "      <th>77</th>\n",
       "      <td>5945085</td>\n",
       "      <td>B</td>\n",
       "      <td>0.0</td>\n",
       "      <td>1.0</td>\n",
       "    </tr>\n",
       "    <tr>\n",
       "      <th>78</th>\n",
       "      <td>5951797</td>\n",
       "      <td>B</td>\n",
       "      <td>0.0</td>\n",
       "      <td>1.0</td>\n",
       "    </tr>\n",
       "  </tbody>\n",
       "</table>\n",
       "</div>"
      ],
      "text/plain": [
       "    student_id grp     rev  active\n",
       "7      5700613   B     0.0     1.0\n",
       "39     5723133   A     0.0     1.0\n",
       "40     5723648   B     0.0     1.0\n",
       "43     5728431   B     0.0     1.0\n",
       "44     5729371   A     0.0     1.0\n",
       "49     5730382   B     0.0     1.0\n",
       "54     5739944   B     0.0     1.0\n",
       "55     5740903   B  1900.0     1.0\n",
       "59     5760471   B     0.0     1.0\n",
       "61     5777081   B     0.0     1.0\n",
       "74     5870856   A     0.0     1.0\n",
       "77     5945085   B     0.0     1.0\n",
       "78     5951797   B     0.0     1.0"
      ]
     },
     "execution_count": 22,
     "metadata": {},
     "output_type": "execute_result"
    }
   ],
   "source": [
    "# пользователи которые были активны\n",
    "added_id.query('active != 0')"
   ]
  },
  {
   "cell_type": "code",
   "execution_count": 23,
   "metadata": {},
   "outputs": [
    {
     "data": {
      "text/html": [
       "<div>\n",
       "<style scoped>\n",
       "    .dataframe tbody tr th:only-of-type {\n",
       "        vertical-align: middle;\n",
       "    }\n",
       "\n",
       "    .dataframe tbody tr th {\n",
       "        vertical-align: top;\n",
       "    }\n",
       "\n",
       "    .dataframe thead th {\n",
       "        text-align: right;\n",
       "    }\n",
       "</style>\n",
       "<table border=\"1\" class=\"dataframe\">\n",
       "  <thead>\n",
       "    <tr style=\"text-align: right;\">\n",
       "      <th></th>\n",
       "      <th>student_id</th>\n",
       "      <th>grp</th>\n",
       "    </tr>\n",
       "  </thead>\n",
       "  <tbody>\n",
       "    <tr>\n",
       "      <th>74483</th>\n",
       "      <td>5694419</td>\n",
       "      <td>B</td>\n",
       "    </tr>\n",
       "    <tr>\n",
       "      <th>74482</th>\n",
       "      <td>5693667</td>\n",
       "      <td>B</td>\n",
       "    </tr>\n",
       "    <tr>\n",
       "      <th>74481</th>\n",
       "      <td>5692865</td>\n",
       "      <td>B</td>\n",
       "    </tr>\n",
       "    <tr>\n",
       "      <th>74480</th>\n",
       "      <td>5692572</td>\n",
       "      <td>B</td>\n",
       "    </tr>\n",
       "    <tr>\n",
       "      <th>74479</th>\n",
       "      <td>5692459</td>\n",
       "      <td>B</td>\n",
       "    </tr>\n",
       "    <tr>\n",
       "      <th>74478</th>\n",
       "      <td>5692087</td>\n",
       "      <td>B</td>\n",
       "    </tr>\n",
       "    <tr>\n",
       "      <th>74477</th>\n",
       "      <td>5692065</td>\n",
       "      <td>A</td>\n",
       "    </tr>\n",
       "    <tr>\n",
       "      <th>74476</th>\n",
       "      <td>5691704</td>\n",
       "      <td>B</td>\n",
       "    </tr>\n",
       "    <tr>\n",
       "      <th>74475</th>\n",
       "      <td>5691549</td>\n",
       "      <td>B</td>\n",
       "    </tr>\n",
       "    <tr>\n",
       "      <th>74474</th>\n",
       "      <td>5691168</td>\n",
       "      <td>B</td>\n",
       "    </tr>\n",
       "  </tbody>\n",
       "</table>\n",
       "</div>"
      ],
      "text/plain": [
       "       student_id grp\n",
       "74483     5694419   B\n",
       "74482     5693667   B\n",
       "74481     5692865   B\n",
       "74480     5692572   B\n",
       "74479     5692459   B\n",
       "74478     5692087   B\n",
       "74477     5692065   A\n",
       "74476     5691704   B\n",
       "74475     5691549   B\n",
       "74474     5691168   B"
      ]
     },
     "execution_count": 23,
     "metadata": {},
     "output_type": "execute_result"
    }
   ],
   "source": [
    "# ну что еще, посмотрим идишники пользователей\n",
    "\n",
    "groups.sort_values('student_id', ascending=False).head(10)"
   ]
  },
  {
   "cell_type": "code",
   "execution_count": 24,
   "metadata": {
    "scrolled": true
   },
   "outputs": [
    {
     "data": {
      "text/html": [
       "<div>\n",
       "<style scoped>\n",
       "    .dataframe tbody tr th:only-of-type {\n",
       "        vertical-align: middle;\n",
       "    }\n",
       "\n",
       "    .dataframe tbody tr th {\n",
       "        vertical-align: top;\n",
       "    }\n",
       "\n",
       "    .dataframe thead th {\n",
       "        text-align: right;\n",
       "    }\n",
       "</style>\n",
       "<table border=\"1\" class=\"dataframe\">\n",
       "  <thead>\n",
       "    <tr style=\"text-align: right;\">\n",
       "      <th></th>\n",
       "      <th>student_id</th>\n",
       "      <th>grp</th>\n",
       "      <th>rev</th>\n",
       "      <th>active</th>\n",
       "    </tr>\n",
       "  </thead>\n",
       "  <tbody>\n",
       "    <tr>\n",
       "      <th>81</th>\n",
       "      <td>101067612</td>\n",
       "      <td>B</td>\n",
       "      <td>0.0</td>\n",
       "      <td>0.0</td>\n",
       "    </tr>\n",
       "    <tr>\n",
       "      <th>82</th>\n",
       "      <td>200247805</td>\n",
       "      <td>B</td>\n",
       "      <td>0.0</td>\n",
       "      <td>0.0</td>\n",
       "    </tr>\n",
       "    <tr>\n",
       "      <th>83</th>\n",
       "      <td>200247808</td>\n",
       "      <td>A</td>\n",
       "      <td>0.0</td>\n",
       "      <td>0.0</td>\n",
       "    </tr>\n",
       "    <tr>\n",
       "      <th>84</th>\n",
       "      <td>200247809</td>\n",
       "      <td>A</td>\n",
       "      <td>0.0</td>\n",
       "      <td>0.0</td>\n",
       "    </tr>\n",
       "    <tr>\n",
       "      <th>85</th>\n",
       "      <td>200247814</td>\n",
       "      <td>A</td>\n",
       "      <td>0.0</td>\n",
       "      <td>0.0</td>\n",
       "    </tr>\n",
       "    <tr>\n",
       "      <th>86</th>\n",
       "      <td>200247816</td>\n",
       "      <td>B</td>\n",
       "      <td>0.0</td>\n",
       "      <td>0.0</td>\n",
       "    </tr>\n",
       "    <tr>\n",
       "      <th>87</th>\n",
       "      <td>200247820</td>\n",
       "      <td>B</td>\n",
       "      <td>0.0</td>\n",
       "      <td>0.0</td>\n",
       "    </tr>\n",
       "    <tr>\n",
       "      <th>88</th>\n",
       "      <td>201032527</td>\n",
       "      <td>B</td>\n",
       "      <td>0.0</td>\n",
       "      <td>0.0</td>\n",
       "    </tr>\n",
       "    <tr>\n",
       "      <th>89</th>\n",
       "      <td>201067612</td>\n",
       "      <td>B</td>\n",
       "      <td>0.0</td>\n",
       "      <td>0.0</td>\n",
       "    </tr>\n",
       "    <tr>\n",
       "      <th>90</th>\n",
       "      <td>201067653</td>\n",
       "      <td>B</td>\n",
       "      <td>0.0</td>\n",
       "      <td>0.0</td>\n",
       "    </tr>\n",
       "    <tr>\n",
       "      <th>91</th>\n",
       "      <td>201067659</td>\n",
       "      <td>B</td>\n",
       "      <td>0.0</td>\n",
       "      <td>0.0</td>\n",
       "    </tr>\n",
       "  </tbody>\n",
       "</table>\n",
       "</div>"
      ],
      "text/plain": [
       "    student_id grp  rev  active\n",
       "81   101067612   B  0.0     0.0\n",
       "82   200247805   B  0.0     0.0\n",
       "83   200247808   A  0.0     0.0\n",
       "84   200247809   A  0.0     0.0\n",
       "85   200247814   A  0.0     0.0\n",
       "86   200247816   B  0.0     0.0\n",
       "87   200247820   B  0.0     0.0\n",
       "88   201032527   B  0.0     0.0\n",
       "89   201067612   B  0.0     0.0\n",
       "90   201067653   B  0.0     0.0\n",
       "91   201067659   B  0.0     0.0"
      ]
     },
     "execution_count": 24,
     "metadata": {},
     "output_type": "execute_result"
    }
   ],
   "source": [
    "# в добавленном файле, большинство id шли более менее по порядку, но присутствуют и такие вот номера\n",
    "\n",
    "added_id.query('student_id > 6000000')"
   ]
  },
  {
   "cell_type": "code",
   "execution_count": 25,
   "metadata": {},
   "outputs": [
    {
     "data": {
      "text/html": [
       "<div>\n",
       "<style scoped>\n",
       "    .dataframe tbody tr th:only-of-type {\n",
       "        vertical-align: middle;\n",
       "    }\n",
       "\n",
       "    .dataframe tbody tr th {\n",
       "        vertical-align: top;\n",
       "    }\n",
       "\n",
       "    .dataframe thead th {\n",
       "        text-align: right;\n",
       "    }\n",
       "</style>\n",
       "<table border=\"1\" class=\"dataframe\">\n",
       "  <thead>\n",
       "    <tr style=\"text-align: right;\">\n",
       "      <th></th>\n",
       "      <th>student_id</th>\n",
       "      <th>rev</th>\n",
       "    </tr>\n",
       "  </thead>\n",
       "  <tbody>\n",
       "    <tr>\n",
       "      <th>540</th>\n",
       "      <td>5740903</td>\n",
       "      <td>1900.0</td>\n",
       "    </tr>\n",
       "    <tr>\n",
       "      <th>539</th>\n",
       "      <td>5681918</td>\n",
       "      <td>1900.0</td>\n",
       "    </tr>\n",
       "    <tr>\n",
       "      <th>538</th>\n",
       "      <td>5662322</td>\n",
       "      <td>1900.0</td>\n",
       "    </tr>\n",
       "    <tr>\n",
       "      <th>537</th>\n",
       "      <td>5651566</td>\n",
       "      <td>1900.0</td>\n",
       "    </tr>\n",
       "    <tr>\n",
       "      <th>536</th>\n",
       "      <td>5645737</td>\n",
       "      <td>1900.0</td>\n",
       "    </tr>\n",
       "  </tbody>\n",
       "</table>\n",
       "</div>"
      ],
      "text/plain": [
       "     student_id     rev\n",
       "540     5740903  1900.0\n",
       "539     5681918  1900.0\n",
       "538     5662322  1900.0\n",
       "537     5651566  1900.0\n",
       "536     5645737  1900.0"
      ]
     },
     "execution_count": 25,
     "metadata": {},
     "output_type": "execute_result"
    }
   ],
   "source": [
    "# посмотрим на последние айдишники в таблице с покупками\n",
    "\n",
    "checks.sort_values('student_id', ascending=False).head()"
   ]
  },
  {
   "cell_type": "code",
   "execution_count": 26,
   "metadata": {},
   "outputs": [
    {
     "data": {
      "text/html": [
       "<div>\n",
       "<style scoped>\n",
       "    .dataframe tbody tr th:only-of-type {\n",
       "        vertical-align: middle;\n",
       "    }\n",
       "\n",
       "    .dataframe tbody tr th {\n",
       "        vertical-align: top;\n",
       "    }\n",
       "\n",
       "    .dataframe thead th {\n",
       "        text-align: right;\n",
       "    }\n",
       "</style>\n",
       "<table border=\"1\" class=\"dataframe\">\n",
       "  <thead>\n",
       "    <tr style=\"text-align: right;\">\n",
       "      <th></th>\n",
       "      <th>student_id</th>\n",
       "      <th>active</th>\n",
       "    </tr>\n",
       "  </thead>\n",
       "  <tbody>\n",
       "    <tr>\n",
       "      <th>111</th>\n",
       "      <td>5951797</td>\n",
       "      <td>1</td>\n",
       "    </tr>\n",
       "    <tr>\n",
       "      <th>3830</th>\n",
       "      <td>5945085</td>\n",
       "      <td>1</td>\n",
       "    </tr>\n",
       "    <tr>\n",
       "      <th>7668</th>\n",
       "      <td>5870856</td>\n",
       "      <td>1</td>\n",
       "    </tr>\n",
       "    <tr>\n",
       "      <th>5746</th>\n",
       "      <td>5777081</td>\n",
       "      <td>1</td>\n",
       "    </tr>\n",
       "    <tr>\n",
       "      <th>7505</th>\n",
       "      <td>5760471</td>\n",
       "      <td>1</td>\n",
       "    </tr>\n",
       "  </tbody>\n",
       "</table>\n",
       "</div>"
      ],
      "text/plain": [
       "      student_id  active\n",
       "111      5951797       1\n",
       "3830     5945085       1\n",
       "7668     5870856       1\n",
       "5746     5777081       1\n",
       "7505     5760471       1"
      ]
     },
     "execution_count": 26,
     "metadata": {},
     "output_type": "execute_result"
    }
   ],
   "source": [
    "# посмотрим на последние айдишники в таблице с активными студентами\n",
    "\n",
    "active_studs.sort_values('student_id', ascending=False).head()"
   ]
  },
  {
   "cell_type": "markdown",
   "metadata": {},
   "source": [
    "##### Вывод:\n",
    "    - дубликатов нет, группы не пересекаются, все ок\n",
    "    - вся информация по добавленым пользователям вполне адекватная. Только есть пользователи id которых, видно что идут с\n",
    "      номерами далеко отличающихся от основной группы.\n",
    "\n",
    "##### Рекомендации:\n",
    "    - Из данных которые принесли через 2 дня , можно вынести догадки, что часть данных которая должна быть, отсутствует. \n",
    "      Это обязательно надо проверить. Иначе весь эксперимент на смарку. И дальнейшие действия по эксперименту могут \n",
    "      привести к не хорошим последствиям."
   ]
  },
  {
   "cell_type": "code",
   "execution_count": null,
   "metadata": {},
   "outputs": [],
   "source": []
  },
  {
   "cell_type": "markdown",
   "metadata": {},
   "source": [
    "##### 1.1.6 Продолжаем изучать данные"
   ]
  },
  {
   "cell_type": "code",
   "execution_count": 27,
   "metadata": {},
   "outputs": [],
   "source": [
    "# Посмотрим что с пользователями, которые не были активны в дни эксперимента, зададимся вопросом\n",
    "# Нужны ли они вообще нам для оценки результатов эксперимента?\n",
    "\n",
    "non_active = groups_all[groups_all['active'] < 1]"
   ]
  },
  {
   "cell_type": "code",
   "execution_count": 28,
   "metadata": {},
   "outputs": [
    {
     "data": {
      "text/html": [
       "<div>\n",
       "<style scoped>\n",
       "    .dataframe tbody tr th:only-of-type {\n",
       "        vertical-align: middle;\n",
       "    }\n",
       "\n",
       "    .dataframe tbody tr th {\n",
       "        vertical-align: top;\n",
       "    }\n",
       "\n",
       "    .dataframe thead th {\n",
       "        text-align: right;\n",
       "    }\n",
       "</style>\n",
       "<table border=\"1\" class=\"dataframe\">\n",
       "  <thead>\n",
       "    <tr style=\"text-align: right;\">\n",
       "      <th></th>\n",
       "      <th>student_id</th>\n",
       "      <th>rev</th>\n",
       "      <th>active</th>\n",
       "    </tr>\n",
       "  </thead>\n",
       "  <tbody>\n",
       "    <tr>\n",
       "      <th>count</th>\n",
       "      <td>6.623500e+04</td>\n",
       "      <td>66235.000000</td>\n",
       "      <td>66235.0</td>\n",
       "    </tr>\n",
       "    <tr>\n",
       "      <th>mean</th>\n",
       "      <td>2.129987e+06</td>\n",
       "      <td>1.593297</td>\n",
       "      <td>0.0</td>\n",
       "    </tr>\n",
       "    <tr>\n",
       "      <th>std</th>\n",
       "      <td>2.902677e+06</td>\n",
       "      <td>38.031788</td>\n",
       "      <td>0.0</td>\n",
       "    </tr>\n",
       "    <tr>\n",
       "      <th>min</th>\n",
       "      <td>1.489000e+03</td>\n",
       "      <td>0.000000</td>\n",
       "      <td>0.0</td>\n",
       "    </tr>\n",
       "    <tr>\n",
       "      <th>25%</th>\n",
       "      <td>8.637525e+05</td>\n",
       "      <td>0.000000</td>\n",
       "      <td>0.0</td>\n",
       "    </tr>\n",
       "    <tr>\n",
       "      <th>50%</th>\n",
       "      <td>1.635302e+06</td>\n",
       "      <td>0.000000</td>\n",
       "      <td>0.0</td>\n",
       "    </tr>\n",
       "    <tr>\n",
       "      <th>75%</th>\n",
       "      <td>3.279154e+06</td>\n",
       "      <td>0.000000</td>\n",
       "      <td>0.0</td>\n",
       "    </tr>\n",
       "    <tr>\n",
       "      <th>max</th>\n",
       "      <td>2.010677e+08</td>\n",
       "      <td>1980.000000</td>\n",
       "      <td>0.0</td>\n",
       "    </tr>\n",
       "  </tbody>\n",
       "</table>\n",
       "</div>"
      ],
      "text/plain": [
       "         student_id           rev   active\n",
       "count  6.623500e+04  66235.000000  66235.0\n",
       "mean   2.129987e+06      1.593297      0.0\n",
       "std    2.902677e+06     38.031788      0.0\n",
       "min    1.489000e+03      0.000000      0.0\n",
       "25%    8.637525e+05      0.000000      0.0\n",
       "50%    1.635302e+06      0.000000      0.0\n",
       "75%    3.279154e+06      0.000000      0.0\n",
       "max    2.010677e+08   1980.000000      0.0"
      ]
     },
     "execution_count": 28,
     "metadata": {},
     "output_type": "execute_result"
    }
   ],
   "source": [
    "non_active.describe()"
   ]
  },
  {
   "cell_type": "code",
   "execution_count": 29,
   "metadata": {},
   "outputs": [
    {
     "data": {
      "text/html": [
       "<div>\n",
       "<style scoped>\n",
       "    .dataframe tbody tr th:only-of-type {\n",
       "        vertical-align: middle;\n",
       "    }\n",
       "\n",
       "    .dataframe tbody tr th {\n",
       "        vertical-align: top;\n",
       "    }\n",
       "\n",
       "    .dataframe thead th {\n",
       "        text-align: right;\n",
       "    }\n",
       "</style>\n",
       "<table border=\"1\" class=\"dataframe\">\n",
       "  <thead>\n",
       "    <tr style=\"text-align: right;\">\n",
       "      <th></th>\n",
       "      <th>student_id</th>\n",
       "      <th>grp</th>\n",
       "      <th>active</th>\n",
       "    </tr>\n",
       "    <tr>\n",
       "      <th>rev</th>\n",
       "      <th></th>\n",
       "      <th></th>\n",
       "      <th></th>\n",
       "    </tr>\n",
       "  </thead>\n",
       "  <tbody>\n",
       "    <tr>\n",
       "      <th>199.0000</th>\n",
       "      <td>14</td>\n",
       "      <td>2</td>\n",
       "      <td>1</td>\n",
       "    </tr>\n",
       "    <tr>\n",
       "      <th>290.0000</th>\n",
       "      <td>24</td>\n",
       "      <td>2</td>\n",
       "      <td>1</td>\n",
       "    </tr>\n",
       "    <tr>\n",
       "      <th>398.0000</th>\n",
       "      <td>2</td>\n",
       "      <td>2</td>\n",
       "      <td>1</td>\n",
       "    </tr>\n",
       "    <tr>\n",
       "      <th>580.0000</th>\n",
       "      <td>4</td>\n",
       "      <td>1</td>\n",
       "      <td>1</td>\n",
       "    </tr>\n",
       "    <tr>\n",
       "      <th>630.0000</th>\n",
       "      <td>1</td>\n",
       "      <td>1</td>\n",
       "      <td>1</td>\n",
       "    </tr>\n",
       "    <tr>\n",
       "      <th>690.0000</th>\n",
       "      <td>61</td>\n",
       "      <td>2</td>\n",
       "      <td>1</td>\n",
       "    </tr>\n",
       "    <tr>\n",
       "      <th>840.0000</th>\n",
       "      <td>3</td>\n",
       "      <td>1</td>\n",
       "      <td>1</td>\n",
       "    </tr>\n",
       "    <tr>\n",
       "      <th>990.0000</th>\n",
       "      <td>19</td>\n",
       "      <td>2</td>\n",
       "      <td>1</td>\n",
       "    </tr>\n",
       "    <tr>\n",
       "      <th>1140.0000</th>\n",
       "      <td>14</td>\n",
       "      <td>2</td>\n",
       "      <td>1</td>\n",
       "    </tr>\n",
       "    <tr>\n",
       "      <th>1180.0000</th>\n",
       "      <td>1</td>\n",
       "      <td>1</td>\n",
       "      <td>1</td>\n",
       "    </tr>\n",
       "    <tr>\n",
       "      <th>1900.0000</th>\n",
       "      <td>4</td>\n",
       "      <td>1</td>\n",
       "      <td>1</td>\n",
       "    </tr>\n",
       "    <tr>\n",
       "      <th>1900.0001</th>\n",
       "      <td>1</td>\n",
       "      <td>1</td>\n",
       "      <td>1</td>\n",
       "    </tr>\n",
       "    <tr>\n",
       "      <th>1980.0000</th>\n",
       "      <td>1</td>\n",
       "      <td>1</td>\n",
       "      <td>1</td>\n",
       "    </tr>\n",
       "  </tbody>\n",
       "</table>\n",
       "</div>"
      ],
      "text/plain": [
       "           student_id  grp  active\n",
       "rev                               \n",
       "199.0000           14    2       1\n",
       "290.0000           24    2       1\n",
       "398.0000            2    2       1\n",
       "580.0000            4    1       1\n",
       "630.0000            1    1       1\n",
       "690.0000           61    2       1\n",
       "840.0000            3    1       1\n",
       "990.0000           19    2       1\n",
       "1140.0000          14    2       1\n",
       "1180.0000           1    1       1\n",
       "1900.0000           4    1       1\n",
       "1900.0001           1    1       1\n",
       "1980.0000           1    1       1"
      ]
     },
     "execution_count": 29,
     "metadata": {},
     "output_type": "execute_result"
    }
   ],
   "source": [
    "# Похоже что это могли быть подписки с автоплатежами\n",
    "# Работая в компании, мы в принципе должны знать продукт и что у нас есть подписка и автоплатежи\n",
    "\n",
    "non_active[non_active['rev']>0].groupby('rev').nunique()"
   ]
  },
  {
   "cell_type": "code",
   "execution_count": 30,
   "metadata": {},
   "outputs": [
    {
     "data": {
      "text/plain": [
       "149"
      ]
     },
     "execution_count": 30,
     "metadata": {},
     "output_type": "execute_result"
    }
   ],
   "source": [
    "# таких 149 человек\n",
    "\n",
    "non_active[non_active['rev']>0].shape[0]"
   ]
  },
  {
   "cell_type": "code",
   "execution_count": 31,
   "metadata": {
    "scrolled": true
   },
   "outputs": [
    {
     "data": {
      "text/html": [
       "<div>\n",
       "<style scoped>\n",
       "    .dataframe tbody tr th:only-of-type {\n",
       "        vertical-align: middle;\n",
       "    }\n",
       "\n",
       "    .dataframe tbody tr th {\n",
       "        vertical-align: top;\n",
       "    }\n",
       "\n",
       "    .dataframe thead th {\n",
       "        text-align: right;\n",
       "    }\n",
       "</style>\n",
       "<table border=\"1\" class=\"dataframe\">\n",
       "  <thead>\n",
       "    <tr style=\"text-align: right;\">\n",
       "      <th></th>\n",
       "      <th>student_id</th>\n",
       "      <th>grp</th>\n",
       "      <th>rev</th>\n",
       "    </tr>\n",
       "  </thead>\n",
       "  <tbody>\n",
       "    <tr>\n",
       "      <th>1</th>\n",
       "      <td>1627</td>\n",
       "      <td>A</td>\n",
       "      <td>990.0</td>\n",
       "    </tr>\n",
       "    <tr>\n",
       "      <th>10</th>\n",
       "      <td>2085</td>\n",
       "      <td>B</td>\n",
       "      <td>0.0</td>\n",
       "    </tr>\n",
       "    <tr>\n",
       "      <th>12</th>\n",
       "      <td>2215</td>\n",
       "      <td>B</td>\n",
       "      <td>0.0</td>\n",
       "    </tr>\n",
       "    <tr>\n",
       "      <th>43</th>\n",
       "      <td>3391</td>\n",
       "      <td>A</td>\n",
       "      <td>0.0</td>\n",
       "    </tr>\n",
       "    <tr>\n",
       "      <th>45</th>\n",
       "      <td>3401</td>\n",
       "      <td>B</td>\n",
       "      <td>0.0</td>\n",
       "    </tr>\n",
       "  </tbody>\n",
       "</table>\n",
       "</div>"
      ],
      "text/plain": [
       "    student_id grp    rev\n",
       "1         1627   A  990.0\n",
       "10        2085   B    0.0\n",
       "12        2215   B    0.0\n",
       "43        3391   A    0.0\n",
       "45        3401   B    0.0"
      ]
     },
     "execution_count": 31,
     "metadata": {},
     "output_type": "execute_result"
    }
   ],
   "source": [
    "# для работы нам понадобятся пользователи которые были активны в дни эксперимента\n",
    "\n",
    "data = groups_all[groups_all['active']== 1]\n",
    "data = data[['student_id','grp','rev']]\n",
    "data.head()"
   ]
  },
  {
   "cell_type": "markdown",
   "metadata": {},
   "source": [
    "##### Вывод:\n",
    "    - 149 человек, которые не вошли в таблицу с активными пользователями, вероятнее всего это подписка с автоплатежами.\n",
    "      Эти данные нам не подходят для нашего эксперимента, так как мы тестируем новую механику оплаты на сайте, из расчетов\n",
    "      мы их исключаем. Этот вопрос решается на стадии дизайна эксперимента, и данные по автоплатежам не желательно включать\n",
    "      в данные по эксперименту.\n",
    "    - В принципе, это могли быть и сбои при сборе данных. К примеру мы точно знаем что у нас нету подписки с автоплатежами.\n",
    "      Придется в таком случае выяснять что произошло и почему так."
   ]
  },
  {
   "cell_type": "code",
   "execution_count": null,
   "metadata": {},
   "outputs": [],
   "source": []
  },
  {
   "cell_type": "markdown",
   "metadata": {},
   "source": [
    "##### 1.1.7 Давайте проведем предварительный анализ данных, распределения, описательные статистики"
   ]
  },
  {
   "cell_type": "code",
   "execution_count": 32,
   "metadata": {},
   "outputs": [
    {
     "name": "stdout",
     "output_type": "stream",
     "text": [
      "(78, 3) - grp a shape\n",
      "\n",
      "-------\n",
      "\n",
      "(314, 3) - grp b shape\n",
      "\n",
      "-------\n",
      "\n",
      "describe statistics \n",
      "count      78.000000\n",
      "mean      933.589744\n",
      "std       919.932711\n",
      "min       199.000000\n",
      "25%       290.000000\n",
      "50%       585.000000\n",
      "75%      1114.750000\n",
      "max      3660.000000\n",
      "Name: rev, dtype: float64\n",
      "\n",
      "-------\n",
      "\n",
      "describe statistics \n",
      "count     314.000000\n",
      "mean     1257.878992\n",
      "std       790.864254\n",
      "min       199.000000\n",
      "25%       511.750000\n",
      "50%      1140.000000\n",
      "75%      1900.000000\n",
      "max      4650.000000\n",
      "Name: rev, dtype: float64\n",
      "\n",
      "-------\n",
      "\n",
      "846276.1931401931 - var grp a\n",
      "\n",
      "-------\n",
      "\n",
      "625466.2680387263 - var grp b\n"
     ]
    }
   ],
   "source": [
    "# Посмотрим на размер групп\n",
    "# посмотрим на их описательные статитстики\n",
    "\n",
    "data_a = data[data['grp']=='A'].query('rev > 0')\n",
    "data_b = data[data['grp']=='B'].query('rev > 0')\n",
    "\n",
    "print(\n",
    "    f'{data_a.shape} - grp a shape',\n",
    "    \n",
    "    f'{data_b.shape} - grp b shape',\n",
    "    \n",
    "    f'describe statistics \\n{data_a.rev.describe()}', \n",
    "    \n",
    "    f'describe statistics \\n{data_b.rev.describe()}', \n",
    "    \n",
    "    f'{data_a.rev.var()} - var grp a',\n",
    "    \n",
    "    f'{data_b.rev.var()} - var grp b',\n",
    "    \n",
    "    sep='\\n\\n-------\\n\\n'\n",
    ")"
   ]
  },
  {
   "cell_type": "code",
   "execution_count": 33,
   "metadata": {},
   "outputs": [
    {
     "data": {
      "image/png": "[encoded data removed]",
      "text/plain": [
       "<Figure size 432x288 with 1 Axes>"
      ]
     },
     "metadata": {
      "needs_background": "light"
     },
     "output_type": "display_data"
    }
   ],
   "source": [
    "# посмотрим распределения\n",
    "\n",
    "plt.hist(data_a.rev);"
   ]
  },
  {
   "cell_type": "code",
   "execution_count": 34,
   "metadata": {},
   "outputs": [
    {
     "data": {
      "image/png": "[encoded data removed]",
      "text/plain": [
       "<Figure size 432x288 with 1 Axes>"
      ]
     },
     "metadata": {
      "needs_background": "light"
     },
     "output_type": "display_data"
    }
   ],
   "source": [
    "plt.hist(data_b.rev);"
   ]
  },
  {
   "cell_type": "code",
   "execution_count": 35,
   "metadata": {},
   "outputs": [
    {
     "data": {
      "image/png": "[encoded data removed]",
      "text/plain": [
       "<Figure size 360x288 with 1 Axes>"
      ]
     },
     "metadata": {
      "needs_background": "light"
     },
     "output_type": "display_data"
    },
    {
     "data": {
      "image/png": "[encoded data removed]",
      "text/plain": [
       "<Figure size 360x288 with 1 Axes>"
      ]
     },
     "metadata": {
      "needs_background": "light"
     },
     "output_type": "display_data"
    }
   ],
   "source": [
    "# посмотрим на графики qqplot наших выборок\n",
    "\n",
    "pg.qqplot(data_a.rev)\n",
    "pg.qqplot(data_b.rev);"
   ]
  },
  {
   "cell_type": "code",
   "execution_count": 36,
   "metadata": {},
   "outputs": [
    {
     "data": {
      "image/png": "[encoded data removed]",
      "text/plain": [
       "<Figure size 432x288 with 1 Axes>"
      ]
     },
     "metadata": {
      "needs_background": "light"
     },
     "output_type": "display_data"
    }
   ],
   "source": [
    "# посмотрим выбросы\n",
    "\n",
    "sns.boxplot(data=(data_a.rev, data_b.rev));"
   ]
  },
  {
   "cell_type": "code",
   "execution_count": 37,
   "metadata": {},
   "outputs": [
    {
     "data": {
      "text/html": [
       "<div>\n",
       "<style scoped>\n",
       "    .dataframe tbody tr th:only-of-type {\n",
       "        vertical-align: middle;\n",
       "    }\n",
       "\n",
       "    .dataframe tbody tr th {\n",
       "        vertical-align: top;\n",
       "    }\n",
       "\n",
       "    .dataframe thead th {\n",
       "        text-align: right;\n",
       "    }\n",
       "</style>\n",
       "<table border=\"1\" class=\"dataframe\">\n",
       "  <thead>\n",
       "    <tr style=\"text-align: right;\">\n",
       "      <th></th>\n",
       "      <th>student_id</th>\n",
       "      <th>grp</th>\n",
       "      <th>rev</th>\n",
       "    </tr>\n",
       "  </thead>\n",
       "  <tbody>\n",
       "    <tr>\n",
       "      <th>6328</th>\n",
       "      <td>332387</td>\n",
       "      <td>A</td>\n",
       "      <td>2910.0</td>\n",
       "    </tr>\n",
       "    <tr>\n",
       "      <th>7071</th>\n",
       "      <td>347455</td>\n",
       "      <td>A</td>\n",
       "      <td>2820.0</td>\n",
       "    </tr>\n",
       "    <tr>\n",
       "      <th>9916</th>\n",
       "      <td>445767</td>\n",
       "      <td>A</td>\n",
       "      <td>3660.0</td>\n",
       "    </tr>\n",
       "    <tr>\n",
       "      <th>13446</th>\n",
       "      <td>594228</td>\n",
       "      <td>A</td>\n",
       "      <td>2900.0</td>\n",
       "    </tr>\n",
       "    <tr>\n",
       "      <th>26284</th>\n",
       "      <td>1202202</td>\n",
       "      <td>A</td>\n",
       "      <td>2910.0</td>\n",
       "    </tr>\n",
       "    <tr>\n",
       "      <th>36243</th>\n",
       "      <td>1624158</td>\n",
       "      <td>A</td>\n",
       "      <td>3660.0</td>\n",
       "    </tr>\n",
       "    <tr>\n",
       "      <th>44395</th>\n",
       "      <td>2150601</td>\n",
       "      <td>A</td>\n",
       "      <td>3660.0</td>\n",
       "    </tr>\n",
       "    <tr>\n",
       "      <th>47154</th>\n",
       "      <td>2455897</td>\n",
       "      <td>A</td>\n",
       "      <td>2820.0</td>\n",
       "    </tr>\n",
       "    <tr>\n",
       "      <th>62234</th>\n",
       "      <td>4002619</td>\n",
       "      <td>A</td>\n",
       "      <td>2890.0</td>\n",
       "    </tr>\n",
       "  </tbody>\n",
       "</table>\n",
       "</div>"
      ],
      "text/plain": [
       "       student_id grp     rev\n",
       "6328       332387   A  2910.0\n",
       "7071       347455   A  2820.0\n",
       "9916       445767   A  3660.0\n",
       "13446      594228   A  2900.0\n",
       "26284     1202202   A  2910.0\n",
       "36243     1624158   A  3660.0\n",
       "44395     2150601   A  3660.0\n",
       "47154     2455897   A  2820.0\n",
       "62234     4002619   A  2890.0"
      ]
     },
     "execution_count": 37,
     "metadata": {},
     "output_type": "execute_result"
    }
   ],
   "source": [
    "data_a.query('rev > 2500')"
   ]
  },
  {
   "cell_type": "code",
   "execution_count": 38,
   "metadata": {
    "scrolled": true
   },
   "outputs": [
    {
     "data": {
      "text/html": [
       "<div>\n",
       "<style scoped>\n",
       "    .dataframe tbody tr th:only-of-type {\n",
       "        vertical-align: middle;\n",
       "    }\n",
       "\n",
       "    .dataframe tbody tr th {\n",
       "        vertical-align: top;\n",
       "    }\n",
       "\n",
       "    .dataframe thead th {\n",
       "        text-align: right;\n",
       "    }\n",
       "</style>\n",
       "<table border=\"1\" class=\"dataframe\">\n",
       "  <thead>\n",
       "    <tr style=\"text-align: right;\">\n",
       "      <th></th>\n",
       "      <th>student_id</th>\n",
       "      <th>grp</th>\n",
       "      <th>rev</th>\n",
       "    </tr>\n",
       "  </thead>\n",
       "  <tbody>\n",
       "    <tr>\n",
       "      <th>38102</th>\n",
       "      <td>1711305</td>\n",
       "      <td>B</td>\n",
       "      <td>4650.0</td>\n",
       "    </tr>\n",
       "  </tbody>\n",
       "</table>\n",
       "</div>"
      ],
      "text/plain": [
       "       student_id grp     rev\n",
       "38102     1711305   B  4650.0"
      ]
     },
     "execution_count": 38,
     "metadata": {},
     "output_type": "execute_result"
    }
   ],
   "source": [
    "data_b.query('rev > 4000')"
   ]
  },
  {
   "cell_type": "code",
   "execution_count": 39,
   "metadata": {},
   "outputs": [
    {
     "data": {
      "text/html": [
       "<div>\n",
       "<style scoped>\n",
       "    .dataframe tbody tr th:only-of-type {\n",
       "        vertical-align: middle;\n",
       "    }\n",
       "\n",
       "    .dataframe tbody tr th {\n",
       "        vertical-align: top;\n",
       "    }\n",
       "\n",
       "    .dataframe thead th {\n",
       "        text-align: right;\n",
       "    }\n",
       "</style>\n",
       "<table border=\"1\" class=\"dataframe\">\n",
       "  <thead>\n",
       "    <tr style=\"text-align: right;\">\n",
       "      <th></th>\n",
       "      <th>rev</th>\n",
       "      <th>student_id</th>\n",
       "      <th>grp</th>\n",
       "    </tr>\n",
       "  </thead>\n",
       "  <tbody>\n",
       "    <tr>\n",
       "      <th>0</th>\n",
       "      <td>199.0</td>\n",
       "      <td>5</td>\n",
       "      <td>1</td>\n",
       "    </tr>\n",
       "    <tr>\n",
       "      <th>1</th>\n",
       "      <td>290.0</td>\n",
       "      <td>25</td>\n",
       "      <td>1</td>\n",
       "    </tr>\n",
       "    <tr>\n",
       "      <th>2</th>\n",
       "      <td>398.0</td>\n",
       "      <td>1</td>\n",
       "      <td>1</td>\n",
       "    </tr>\n",
       "    <tr>\n",
       "      <th>3</th>\n",
       "      <td>489.0</td>\n",
       "      <td>2</td>\n",
       "      <td>1</td>\n",
       "    </tr>\n",
       "    <tr>\n",
       "      <th>4</th>\n",
       "      <td>580.0</td>\n",
       "      <td>6</td>\n",
       "      <td>1</td>\n",
       "    </tr>\n",
       "    <tr>\n",
       "      <th>5</th>\n",
       "      <td>590.0</td>\n",
       "      <td>5</td>\n",
       "      <td>1</td>\n",
       "    </tr>\n",
       "    <tr>\n",
       "      <th>6</th>\n",
       "      <td>690.0</td>\n",
       "      <td>4</td>\n",
       "      <td>1</td>\n",
       "    </tr>\n",
       "    <tr>\n",
       "      <th>7</th>\n",
       "      <td>840.0</td>\n",
       "      <td>3</td>\n",
       "      <td>1</td>\n",
       "    </tr>\n",
       "    <tr>\n",
       "      <th>8</th>\n",
       "      <td>870.0</td>\n",
       "      <td>1</td>\n",
       "      <td>1</td>\n",
       "    </tr>\n",
       "    <tr>\n",
       "      <th>9</th>\n",
       "      <td>990.0</td>\n",
       "      <td>5</td>\n",
       "      <td>1</td>\n",
       "    </tr>\n",
       "    <tr>\n",
       "      <th>10</th>\n",
       "      <td>1039.0</td>\n",
       "      <td>1</td>\n",
       "      <td>1</td>\n",
       "    </tr>\n",
       "    <tr>\n",
       "      <th>11</th>\n",
       "      <td>1140.0</td>\n",
       "      <td>2</td>\n",
       "      <td>1</td>\n",
       "    </tr>\n",
       "    <tr>\n",
       "      <th>12</th>\n",
       "      <td>1160.0</td>\n",
       "      <td>2</td>\n",
       "      <td>1</td>\n",
       "    </tr>\n",
       "    <tr>\n",
       "      <th>13</th>\n",
       "      <td>1180.0</td>\n",
       "      <td>1</td>\n",
       "      <td>1</td>\n",
       "    </tr>\n",
       "    <tr>\n",
       "      <th>14</th>\n",
       "      <td>1530.0</td>\n",
       "      <td>3</td>\n",
       "      <td>1</td>\n",
       "    </tr>\n",
       "    <tr>\n",
       "      <th>15</th>\n",
       "      <td>1830.0</td>\n",
       "      <td>1</td>\n",
       "      <td>1</td>\n",
       "    </tr>\n",
       "    <tr>\n",
       "      <th>16</th>\n",
       "      <td>1980.0</td>\n",
       "      <td>1</td>\n",
       "      <td>1</td>\n",
       "    </tr>\n",
       "    <tr>\n",
       "      <th>17</th>\n",
       "      <td>2220.0</td>\n",
       "      <td>1</td>\n",
       "      <td>1</td>\n",
       "    </tr>\n",
       "    <tr>\n",
       "      <th>18</th>\n",
       "      <td>2820.0</td>\n",
       "      <td>2</td>\n",
       "      <td>1</td>\n",
       "    </tr>\n",
       "    <tr>\n",
       "      <th>19</th>\n",
       "      <td>2890.0</td>\n",
       "      <td>1</td>\n",
       "      <td>1</td>\n",
       "    </tr>\n",
       "    <tr>\n",
       "      <th>20</th>\n",
       "      <td>2900.0</td>\n",
       "      <td>1</td>\n",
       "      <td>1</td>\n",
       "    </tr>\n",
       "    <tr>\n",
       "      <th>21</th>\n",
       "      <td>2910.0</td>\n",
       "      <td>2</td>\n",
       "      <td>1</td>\n",
       "    </tr>\n",
       "    <tr>\n",
       "      <th>22</th>\n",
       "      <td>3660.0</td>\n",
       "      <td>3</td>\n",
       "      <td>1</td>\n",
       "    </tr>\n",
       "  </tbody>\n",
       "</table>\n",
       "</div>"
      ],
      "text/plain": [
       "       rev  student_id  grp\n",
       "0    199.0           5    1\n",
       "1    290.0          25    1\n",
       "2    398.0           1    1\n",
       "3    489.0           2    1\n",
       "4    580.0           6    1\n",
       "5    590.0           5    1\n",
       "6    690.0           4    1\n",
       "7    840.0           3    1\n",
       "8    870.0           1    1\n",
       "9    990.0           5    1\n",
       "10  1039.0           1    1\n",
       "11  1140.0           2    1\n",
       "12  1160.0           2    1\n",
       "13  1180.0           1    1\n",
       "14  1530.0           3    1\n",
       "15  1830.0           1    1\n",
       "16  1980.0           1    1\n",
       "17  2220.0           1    1\n",
       "18  2820.0           2    1\n",
       "19  2890.0           1    1\n",
       "20  2900.0           1    1\n",
       "21  2910.0           2    1\n",
       "22  3660.0           3    1"
      ]
     },
     "execution_count": 39,
     "metadata": {},
     "output_type": "execute_result"
    }
   ],
   "source": [
    "# посмотрим суммы покупок и их количество в табличном виде\n",
    "# преобладают покупки суммой 290, вполне возможно что это какой то популярный продукт\n",
    "\n",
    "data_a.groupby('rev', as_index=False).nunique()"
   ]
  },
  {
   "cell_type": "code",
   "execution_count": 40,
   "metadata": {},
   "outputs": [
    {
     "data": {
      "text/html": [
       "<div>\n",
       "<style scoped>\n",
       "    .dataframe tbody tr th:only-of-type {\n",
       "        vertical-align: middle;\n",
       "    }\n",
       "\n",
       "    .dataframe tbody tr th {\n",
       "        vertical-align: top;\n",
       "    }\n",
       "\n",
       "    .dataframe thead th {\n",
       "        text-align: right;\n",
       "    }\n",
       "</style>\n",
       "<table border=\"1\" class=\"dataframe\">\n",
       "  <thead>\n",
       "    <tr style=\"text-align: right;\">\n",
       "      <th></th>\n",
       "      <th>rev</th>\n",
       "      <th>student_id</th>\n",
       "      <th>grp</th>\n",
       "    </tr>\n",
       "  </thead>\n",
       "  <tbody>\n",
       "    <tr>\n",
       "      <th>0</th>\n",
       "      <td>199.0000</td>\n",
       "      <td>27</td>\n",
       "      <td>1</td>\n",
       "    </tr>\n",
       "    <tr>\n",
       "      <th>1</th>\n",
       "      <td>290.0000</td>\n",
       "      <td>45</td>\n",
       "      <td>1</td>\n",
       "    </tr>\n",
       "    <tr>\n",
       "      <th>2</th>\n",
       "      <td>398.0000</td>\n",
       "      <td>6</td>\n",
       "      <td>1</td>\n",
       "    </tr>\n",
       "    <tr>\n",
       "      <th>3</th>\n",
       "      <td>489.0000</td>\n",
       "      <td>1</td>\n",
       "      <td>1</td>\n",
       "    </tr>\n",
       "    <tr>\n",
       "      <th>4</th>\n",
       "      <td>580.0000</td>\n",
       "      <td>5</td>\n",
       "      <td>1</td>\n",
       "    </tr>\n",
       "    <tr>\n",
       "      <th>5</th>\n",
       "      <td>590.0000</td>\n",
       "      <td>6</td>\n",
       "      <td>1</td>\n",
       "    </tr>\n",
       "    <tr>\n",
       "      <th>6</th>\n",
       "      <td>597.0000</td>\n",
       "      <td>1</td>\n",
       "      <td>1</td>\n",
       "    </tr>\n",
       "    <tr>\n",
       "      <th>7</th>\n",
       "      <td>690.0000</td>\n",
       "      <td>13</td>\n",
       "      <td>1</td>\n",
       "    </tr>\n",
       "    <tr>\n",
       "      <th>8</th>\n",
       "      <td>796.0000</td>\n",
       "      <td>1</td>\n",
       "      <td>1</td>\n",
       "    </tr>\n",
       "    <tr>\n",
       "      <th>9</th>\n",
       "      <td>840.0000</td>\n",
       "      <td>21</td>\n",
       "      <td>1</td>\n",
       "    </tr>\n",
       "    <tr>\n",
       "      <th>10</th>\n",
       "      <td>870.0000</td>\n",
       "      <td>5</td>\n",
       "      <td>1</td>\n",
       "    </tr>\n",
       "    <tr>\n",
       "      <th>11</th>\n",
       "      <td>880.0000</td>\n",
       "      <td>1</td>\n",
       "      <td>1</td>\n",
       "    </tr>\n",
       "    <tr>\n",
       "      <th>12</th>\n",
       "      <td>990.0000</td>\n",
       "      <td>17</td>\n",
       "      <td>1</td>\n",
       "    </tr>\n",
       "    <tr>\n",
       "      <th>13</th>\n",
       "      <td>1050.0000</td>\n",
       "      <td>1</td>\n",
       "      <td>1</td>\n",
       "    </tr>\n",
       "    <tr>\n",
       "      <th>14</th>\n",
       "      <td>1140.0000</td>\n",
       "      <td>9</td>\n",
       "      <td>1</td>\n",
       "    </tr>\n",
       "    <tr>\n",
       "      <th>15</th>\n",
       "      <td>1160.0000</td>\n",
       "      <td>1</td>\n",
       "      <td>1</td>\n",
       "    </tr>\n",
       "    <tr>\n",
       "      <th>16</th>\n",
       "      <td>1339.0000</td>\n",
       "      <td>1</td>\n",
       "      <td>1</td>\n",
       "    </tr>\n",
       "    <tr>\n",
       "      <th>17</th>\n",
       "      <td>1388.0000</td>\n",
       "      <td>1</td>\n",
       "      <td>1</td>\n",
       "    </tr>\n",
       "    <tr>\n",
       "      <th>18</th>\n",
       "      <td>1530.0000</td>\n",
       "      <td>5</td>\n",
       "      <td>1</td>\n",
       "    </tr>\n",
       "    <tr>\n",
       "      <th>19</th>\n",
       "      <td>1729.0000</td>\n",
       "      <td>1</td>\n",
       "      <td>1</td>\n",
       "    </tr>\n",
       "    <tr>\n",
       "      <th>20</th>\n",
       "      <td>1900.0000</td>\n",
       "      <td>93</td>\n",
       "      <td>1</td>\n",
       "    </tr>\n",
       "    <tr>\n",
       "      <th>21</th>\n",
       "      <td>1900.0001</td>\n",
       "      <td>35</td>\n",
       "      <td>1</td>\n",
       "    </tr>\n",
       "    <tr>\n",
       "      <th>22</th>\n",
       "      <td>1968.0000</td>\n",
       "      <td>1</td>\n",
       "      <td>1</td>\n",
       "    </tr>\n",
       "    <tr>\n",
       "      <th>23</th>\n",
       "      <td>1980.0000</td>\n",
       "      <td>2</td>\n",
       "      <td>1</td>\n",
       "    </tr>\n",
       "    <tr>\n",
       "      <th>24</th>\n",
       "      <td>2099.0000</td>\n",
       "      <td>3</td>\n",
       "      <td>1</td>\n",
       "    </tr>\n",
       "    <tr>\n",
       "      <th>25</th>\n",
       "      <td>2190.0000</td>\n",
       "      <td>1</td>\n",
       "      <td>1</td>\n",
       "    </tr>\n",
       "    <tr>\n",
       "      <th>26</th>\n",
       "      <td>2220.0000</td>\n",
       "      <td>1</td>\n",
       "      <td>1</td>\n",
       "    </tr>\n",
       "    <tr>\n",
       "      <th>27</th>\n",
       "      <td>2890.0000</td>\n",
       "      <td>3</td>\n",
       "      <td>1</td>\n",
       "    </tr>\n",
       "    <tr>\n",
       "      <th>28</th>\n",
       "      <td>2910.0000</td>\n",
       "      <td>2</td>\n",
       "      <td>1</td>\n",
       "    </tr>\n",
       "    <tr>\n",
       "      <th>29</th>\n",
       "      <td>3040.0000</td>\n",
       "      <td>1</td>\n",
       "      <td>1</td>\n",
       "    </tr>\n",
       "    <tr>\n",
       "      <th>30</th>\n",
       "      <td>3260.0000</td>\n",
       "      <td>1</td>\n",
       "      <td>1</td>\n",
       "    </tr>\n",
       "    <tr>\n",
       "      <th>31</th>\n",
       "      <td>3660.0000</td>\n",
       "      <td>2</td>\n",
       "      <td>1</td>\n",
       "    </tr>\n",
       "    <tr>\n",
       "      <th>32</th>\n",
       "      <td>4650.0000</td>\n",
       "      <td>1</td>\n",
       "      <td>1</td>\n",
       "    </tr>\n",
       "  </tbody>\n",
       "</table>\n",
       "</div>"
      ],
      "text/plain": [
       "          rev  student_id  grp\n",
       "0    199.0000          27    1\n",
       "1    290.0000          45    1\n",
       "2    398.0000           6    1\n",
       "3    489.0000           1    1\n",
       "4    580.0000           5    1\n",
       "5    590.0000           6    1\n",
       "6    597.0000           1    1\n",
       "7    690.0000          13    1\n",
       "8    796.0000           1    1\n",
       "9    840.0000          21    1\n",
       "10   870.0000           5    1\n",
       "11   880.0000           1    1\n",
       "12   990.0000          17    1\n",
       "13  1050.0000           1    1\n",
       "14  1140.0000           9    1\n",
       "15  1160.0000           1    1\n",
       "16  1339.0000           1    1\n",
       "17  1388.0000           1    1\n",
       "18  1530.0000           5    1\n",
       "19  1729.0000           1    1\n",
       "20  1900.0000          93    1\n",
       "21  1900.0001          35    1\n",
       "22  1968.0000           1    1\n",
       "23  1980.0000           2    1\n",
       "24  2099.0000           3    1\n",
       "25  2190.0000           1    1\n",
       "26  2220.0000           1    1\n",
       "27  2890.0000           3    1\n",
       "28  2910.0000           2    1\n",
       "29  3040.0000           1    1\n",
       "30  3260.0000           1    1\n",
       "31  3660.0000           2    1\n",
       "32  4650.0000           1    1"
      ]
     },
     "execution_count": 40,
     "metadata": {},
     "output_type": "execute_result"
    }
   ],
   "source": [
    "# тут не все так однозначно, очень большое количество покупок суммой 1900\n",
    "# обязательно нужно просмотреть этот вопрос детально, и выяснить природу этой ситуации\n",
    "\n",
    "data_b.groupby('rev', as_index=False).nunique()"
   ]
  },
  {
   "cell_type": "code",
   "execution_count": 41,
   "metadata": {},
   "outputs": [
    {
     "data": {
      "image/png": "[encoded data removed]",
      "text/plain": [
       "<Figure size 432x288 with 1 Axes>"
      ]
     },
     "metadata": {
      "needs_background": "light"
     },
     "output_type": "display_data"
    }
   ],
   "source": [
    "# нужно посмотреть на группы без аномалии со значениями 1900, которые занимают почти треть данных контрольной группы\n",
    "\n",
    "sns.boxplot(data=(data_a.rev, data_b.query('rev != 1900').rev));"
   ]
  },
  {
   "cell_type": "markdown",
   "metadata": {},
   "source": [
    "##### Вывод:\n",
    "    - На боксплоте видно что наши выборки различаются\n",
    "    - Выборки имеют не нормальное распределение. Имеются выбросы, и в группе \"A\" они имеют довольно существенное \n",
    "      количество наблюдений относительно всей группы. \n",
    "    - Т-тест чувствителен к выбросам, малое количество наблюдений, распределение не нормальное, дисбаланс выборок,\n",
    "      можно посмотреть гомоскедастичность выборок, но опять же желательно в таком случае избавится от выбросов.\n",
    "      Т-тест мы не будем использовать.\n",
    "    - Можно углубится в изучение выбросов, и понять что за услуги такие мы оказываем на такие большие суммы, и понять \n",
    "      природу этих выбросов. Потом только окончательно принимать решение убирать их или нет.\n",
    "      На боксплоте видно что выбросы группы А лежат у максимумов группы B и что для группы А является выбросами, \n",
    "      то для группы B такие значения лежат в полутораквантильном интервале.\n",
    "      Поэтому, мы не будем избавлятся от выбросов.\n",
    "    - Критерий Манна Уитни сложен в интерпритации результатов, а так же чувствителен к дисбалансу выборок, и думаю что как \n",
    "      универсальный инструмент, будем использовать бутстрап.\n",
    "    - В группе B есть значения покупок в 1900 и 1900.0001 и их большое количество, относительно всей группы. Этот вопрос\n",
    "      довольно важен, и может сильно повлиять на результат эксперимента.\n",
    "     \n",
    "      \n",
    "##### Рекомендации: \n",
    "    - Обязательно изучить аномалию с покупками 1900 и 1900.0001"
   ]
  },
  {
   "cell_type": "code",
   "execution_count": null,
   "metadata": {},
   "outputs": [],
   "source": []
  },
  {
   "cell_type": "markdown",
   "metadata": {},
   "source": [
    "### 1.2 Определение гипотез, расчет метрик, использование стат методов для проверки"
   ]
  },
  {
   "cell_type": "markdown",
   "metadata": {},
   "source": [
    "##### 1.2.1 Давайте подкрепим наши выводы применением стат метода"
   ]
  },
  {
   "cell_type": "markdown",
   "metadata": {},
   "source": [
    "У нас получается, что дубликатов по student_id не было, и скорее всего в таблицах доход пользователя. Само название колонки говорит нам об этом. \n",
    "Так что для сравнения берем средние значение покупок пользователей"
   ]
  },
  {
   "cell_type": "markdown",
   "metadata": {},
   "source": [
    "Будем использовать bootstrap.\\\n",
    "Определим порог p-value в 0.05. \\\n",
    "Мы устанавливаем порог уровня значимости таким, потому что, в данном случае результат отклонения нулевой гипотезы нас будет устраивать, если вероятность допустить ошибку первого рода будет меньше 5%"
   ]
  },
  {
   "cell_type": "code",
   "execution_count": 42,
   "metadata": {},
   "outputs": [],
   "source": [
    "def get_bootstrap(\n",
    "    data_column_1, # числовые значения первой выборки\n",
    "    data_column_2, # числовые значения второй выборки\n",
    "    boot_it, # количество бутстрэп-подвыборок\n",
    "    statistic = np.mean, # интересующая нас статистика\n",
    "    bootstrap_conf_level = 0.95 # уровень значимости\n",
    "):\n",
    "    boot_len = max([len(data_column_1), len(data_column_2)])\n",
    "    boot_data = []\n",
    "    for i in tqdm(range(boot_it)): # извлекаем подвыборки\n",
    "        samples_1 = data_column_1.sample(\n",
    "            boot_len, \n",
    "            replace = True # параметр возвращения\n",
    "        ).values\n",
    "        \n",
    "        samples_2 = data_column_2.sample(\n",
    "            boot_len, # чтобы сохранить дисперсию, берем такой же размер выборки\n",
    "            replace = True\n",
    "        ).values\n",
    "        \n",
    "        boot_data.append(statistic(samples_1)-statistic(samples_2)) \n",
    "           \n",
    "    pd_boot_data = pd.DataFrame(boot_data)\n",
    "        \n",
    "    left_quant = (1 - bootstrap_conf_level)/2\n",
    "    right_quant = 1 - (1 - bootstrap_conf_level) / 2\n",
    "    ci = pd_boot_data.quantile([left_quant, right_quant])\n",
    "        \n",
    "    p_1 = ss.norm.cdf(\n",
    "        x = 0, \n",
    "        loc = np.mean(boot_data), \n",
    "        scale = np.std(boot_data)\n",
    "    )\n",
    "    p_2 = ss.norm.cdf(\n",
    "        x = 0, \n",
    "        loc = -np.mean(boot_data), \n",
    "        scale = np.std(boot_data)\n",
    "    )\n",
    "    p_value = min(p_1, p_2) * 2\n",
    "        \n",
    "    # Визуализация\n",
    "    _, _, bars = plt.hist(pd_boot_data[0], bins = 50)\n",
    "    for bar in bars:\n",
    "        if abs(bar.get_x()) <= ci.iloc[0][0] or abs(bar.get_x()) >= ci.iloc[1][0]:\n",
    "            bar.set_facecolor('red')\n",
    "        else: \n",
    "            bar.set_facecolor('grey')\n",
    "            bar.set_edgecolor('black')\n",
    "    \n",
    "    plt.style.use('ggplot')\n",
    "    plt.vlines(ci,ymin=0,ymax=100,linestyle='--')\n",
    "    plt.xlabel('boot_data')\n",
    "    plt.ylabel('frequency')\n",
    "    plt.title(\"Histogram of boot_data\")\n",
    "    plt.show()\n",
    "       \n",
    "    return {\"boot_data\": boot_data, \n",
    "            \"ci\": ci, \n",
    "            \"p_value\": p_value}"
   ]
  },
  {
   "cell_type": "markdown",
   "metadata": {},
   "source": [
    "Определим гипотезы:\n",
    "\n",
    "    Н0 - отсутствие различий между средними значениями покупок пользователя\n",
    "    Н1 - различия между средними значениями покупок пользователей есть"
   ]
  },
  {
   "cell_type": "code",
   "execution_count": 43,
   "metadata": {
    "scrolled": false
   },
   "outputs": [
    {
     "data": {
      "application/vnd.jupyter.widget-view+json": {
       "model_id": "84120eb159d44c92a3fa7021b9b90419",
       "version_major": 2,
       "version_minor": 0
      },
      "text/plain": [
       "HBox(children=(FloatProgress(value=0.0, max=10000.0), HTML(value='')))"
      ]
     },
     "metadata": {},
     "output_type": "display_data"
    },
    {
     "name": "stdout",
     "output_type": "stream",
     "text": [
      "\n"
     ]
    },
    {
     "data": {
      "image/png": "[encoded data removed]",
      "text/plain": [
       "<Figure size 432x288 with 1 Axes>"
      ]
     },
     "metadata": {
      "needs_background": "light"
     },
     "output_type": "display_data"
    }
   ],
   "source": [
    "bootstraped_data = get_bootstrap(\n",
    "    data_a.rev, \n",
    "    data_b.rev, \n",
    "    boot_it = 10000, \n",
    "    statistic = np.mean\n",
    ");# в результате хранится массив разностей средних, ДИ и pvalue"
   ]
  },
  {
   "cell_type": "markdown",
   "metadata": {},
   "source": [
    "Как видим на графике, распределение наших выборок стремится к нормальному. Так же, в доверительный интервал не входит 0."
   ]
  },
  {
   "cell_type": "code",
   "execution_count": 44,
   "metadata": {},
   "outputs": [
    {
     "name": "stdout",
     "output_type": "stream",
     "text": [
      "                0\n",
      "0.025 -456.444199\n",
      "0.975 -185.346667\n",
      "\n",
      "p-value = 2.421759670945782e-06\n"
     ]
    }
   ],
   "source": [
    "# посмотрим ДИ\n",
    "\n",
    "print(bootstraped_data['ci'], end='\\n\\n')\n",
    "\n",
    "# p-value сильно меньше порогового значения в 0.05. \n",
    "# Вероятность допустить ошибку первого рода крайне мала\n",
    "\n",
    "print(f\"p-value = {bootstraped_data['p_value']}\")\n",
    "\n",
    "# что позволяет нам отклонить нулевую гипотезу об отсутствии различий средних значений"
   ]
  },
  {
   "cell_type": "code",
   "execution_count": 45,
   "metadata": {},
   "outputs": [
    {
     "data": {
      "application/vnd.jupyter.widget-view+json": {
       "model_id": "50d59f32f0a84b6c8c5540b60806bc0d",
       "version_major": 2,
       "version_minor": 0
      },
      "text/plain": [
       "HBox(children=(FloatProgress(value=0.0, max=10000.0), HTML(value='')))"
      ]
     },
     "metadata": {},
     "output_type": "display_data"
    },
    {
     "name": "stdout",
     "output_type": "stream",
     "text": [
      "\n"
     ]
    },
    {
     "data": {
      "image/png": "[encoded data removed]",
      "text/plain": [
       "<Figure size 432x288 with 1 Axes>"
      ]
     },
     "metadata": {},
     "output_type": "display_data"
    }
   ],
   "source": [
    "# проведем бутстреп без аномальных значений 1900\n",
    "\n",
    "bootstraped_data = get_bootstrap(\n",
    "    data_a.rev, \n",
    "    data_b.query('rev != 1900').rev, \n",
    "    boot_it = 10000, \n",
    "    statistic = np.mean\n",
    ")# в результате хранится массив разностей средних, ДИ и pvalue"
   ]
  },
  {
   "cell_type": "code",
   "execution_count": 46,
   "metadata": {},
   "outputs": [
    {
     "name": "stdout",
     "output_type": "stream",
     "text": [
      "p-value= 0.5103946527093943\n",
      "\n",
      "                0\n",
      "0.025 -214.392779\n",
      "0.975  107.610281\n"
     ]
    }
   ],
   "source": [
    "print(f\"p-value= {bootstraped_data['p_value']}\", end='\\n\\n')\n",
    "print(bootstraped_data['ci'])\n",
    "\n",
    "# без большого количества данных со значениями в 1900, как я и ожидал, мы не можем отклонить H0\n",
    "# потому что p_value > 0.05 и ноль входит в доверительный интервал"
   ]
  },
  {
   "cell_type": "code",
   "execution_count": 47,
   "metadata": {},
   "outputs": [
    {
     "name": "stdout",
     "output_type": "stream",
     "text": [
      "ARPPU контрольной группы за время проведения эксперимента составило     933.59\n",
      "ARPPU тестовой группы за время проведения эксперимента составило     1257.88\n",
      "Увеличение ARPPU на     324.29 или на     34.74%\n"
     ]
    }
   ],
   "source": [
    "# Теперь, посмотрим как изменилась метрика ARPPU в группах за время проведения эксперимента\n",
    "\n",
    "print(f'ARPPU контрольной группы за время проведения эксперимента составило \\\n",
    "    {round(data_a.rev.mean(), 2)}'\n",
    ")\n",
    "\n",
    "print(f'ARPPU тестовой группы за время проведения эксперимента составило \\\n",
    "    {round(data_b.rev.mean(), 2)}'\n",
    ")\n",
    "\n",
    "print(f'Увеличение ARPPU на \\\n",
    "    {round(data_b.rev.mean() - data_a.rev.mean(), 2)} или на \\\n",
    "    {round((data_b.rev.mean() - data_a.rev.mean())/data_a.rev.mean() * 100, 2)}%'\n",
    ")"
   ]
  },
  {
   "cell_type": "code",
   "execution_count": 48,
   "metadata": {},
   "outputs": [
    {
     "name": "stdout",
     "output_type": "stream",
     "text": [
      "ARPPU контрольной группы за время проведения эксперимента составило     933.59\n",
      "ARPPU тестовой группы за время проведения эксперимента составило     987.67\n",
      "Увеличение ARPPU на     54.08 или на     5.79%\n"
     ]
    }
   ],
   "source": [
    "# И тоже самое сделаем для выборки без аномалии\n",
    "\n",
    "print(f'ARPPU контрольной группы за время проведения эксперимента составило \\\n",
    "    {round(data_a.rev.mean(), 2)}'\n",
    ")\n",
    "\n",
    "print(f'ARPPU тестовой группы за время проведения эксперимента составило \\\n",
    "    {round(data_b.query(\"rev != 1900\").rev.mean(), 2)}'\n",
    ")\n",
    "\n",
    "print(f'Увеличение ARPPU на \\\n",
    "    {round(data_b.query(\"rev != 1900\").rev.mean() - data_a.rev.mean(), 2)} или на \\\n",
    "    {round((data_b.query(\"rev != 1900\").rev.mean() - data_a.rev.mean())/data_a.rev.mean() * 100, 2)}%'\n",
    ")"
   ]
  },
  {
   "cell_type": "markdown",
   "metadata": {},
   "source": [
    "##### Выводы:\n",
    "    - Мы не можем просто так выкинуть треть данных, поэтому без ясности вопроса об аномалии, останавливаемся на том, что мы\n",
    "      отклоняем нулевую гипотезу о равенстве средних.\n",
    "    - Мы статистически доказали, что средние покупки активных пользователей наших групп имеют различия.\n",
    "    - При введении новой механики оплаты, мы ожидаем рост среднего дохода на платящего пользователя\n",
    "    \n",
    "##### Размышления:\n",
    "    - Все таки мы тестируем новую механику оплаты, увеличение среднего дохода на платящего пользователя это конечно хорошо, \n",
    "      но нас скорее больше бы интересовало бы увеличение конверсии в покупку."
   ]
  },
  {
   "cell_type": "code",
   "execution_count": null,
   "metadata": {},
   "outputs": [],
   "source": []
  },
  {
   "cell_type": "markdown",
   "metadata": {},
   "source": [
    "##### 1.2.2 Посмотрим что у нас с конверсией в покупку"
   ]
  },
  {
   "cell_type": "code",
   "execution_count": 49,
   "metadata": {},
   "outputs": [
    {
     "data": {
      "text/html": [
       "<div>\n",
       "<style scoped>\n",
       "    .dataframe tbody tr th:only-of-type {\n",
       "        vertical-align: middle;\n",
       "    }\n",
       "\n",
       "    .dataframe tbody tr th {\n",
       "        vertical-align: top;\n",
       "    }\n",
       "\n",
       "    .dataframe thead th {\n",
       "        text-align: right;\n",
       "    }\n",
       "</style>\n",
       "<table border=\"1\" class=\"dataframe\">\n",
       "  <thead>\n",
       "    <tr style=\"text-align: right;\">\n",
       "      <th></th>\n",
       "      <th>student_id</th>\n",
       "      <th>grp</th>\n",
       "      <th>rev</th>\n",
       "      <th>active</th>\n",
       "    </tr>\n",
       "  </thead>\n",
       "  <tbody>\n",
       "    <tr>\n",
       "      <th>0</th>\n",
       "      <td>1489</td>\n",
       "      <td>B</td>\n",
       "      <td>0.0</td>\n",
       "      <td>0.0</td>\n",
       "    </tr>\n",
       "    <tr>\n",
       "      <th>1</th>\n",
       "      <td>1627</td>\n",
       "      <td>A</td>\n",
       "      <td>990.0</td>\n",
       "      <td>1.0</td>\n",
       "    </tr>\n",
       "    <tr>\n",
       "      <th>2</th>\n",
       "      <td>1768</td>\n",
       "      <td>B</td>\n",
       "      <td>0.0</td>\n",
       "      <td>0.0</td>\n",
       "    </tr>\n",
       "    <tr>\n",
       "      <th>3</th>\n",
       "      <td>1783</td>\n",
       "      <td>B</td>\n",
       "      <td>0.0</td>\n",
       "      <td>0.0</td>\n",
       "    </tr>\n",
       "    <tr>\n",
       "      <th>4</th>\n",
       "      <td>1794</td>\n",
       "      <td>A</td>\n",
       "      <td>0.0</td>\n",
       "      <td>0.0</td>\n",
       "    </tr>\n",
       "  </tbody>\n",
       "</table>\n",
       "</div>"
      ],
      "text/plain": [
       "   student_id grp    rev  active\n",
       "0        1489   B    0.0     0.0\n",
       "1        1627   A  990.0     1.0\n",
       "2        1768   B    0.0     0.0\n",
       "3        1783   B    0.0     0.0\n",
       "4        1794   A    0.0     0.0"
      ]
     },
     "execution_count": 49,
     "metadata": {},
     "output_type": "execute_result"
    }
   ],
   "source": [
    "groups_all.head()"
   ]
  },
  {
   "cell_type": "code",
   "execution_count": 50,
   "metadata": {},
   "outputs": [
    {
     "name": "stdout",
     "output_type": "stream",
     "text": [
      " Конверсия в покупку группы А 5.07%\n",
      " Конверсия в покупку группы В 4.62%\n"
     ]
    }
   ],
   "source": [
    "# посчитаем конверсию в покупку\n",
    "\n",
    "CR_A = round(\n",
    "        len(groups_all[groups_all['grp']==\"A\"].query('rev > 0 and active == 1').rev) / \n",
    "        len(groups_all[groups_all['grp']==\"A\"].query('active == 1')) * 100, \n",
    "        2\n",
    ")\n",
    "\n",
    "CR_B = round(\n",
    "        len(groups_all[groups_all['grp']==\"B\"].query('rev > 0 and active == 1').rev) / \n",
    "        len(groups_all[groups_all['grp']==\"B\"].query('active == 1')) * 100, \n",
    "        2\n",
    ")\n",
    "\n",
    "print(f' Конверсия в покупку группы А {CR_A}%\\n Конверсия в покупку группы В {CR_B}%')"
   ]
  },
  {
   "cell_type": "code",
   "execution_count": 51,
   "metadata": {},
   "outputs": [
    {
     "data": {
      "text/plain": [
       "4.423276983094929"
      ]
     },
     "execution_count": 51,
     "metadata": {},
     "output_type": "execute_result"
    }
   ],
   "source": [
    "# Контрольноая группа меньше тестовой примерно в 4 раза\n",
    "\n",
    "(\n",
    "    len(groups_all[groups_all['grp']==\"B\"].query('active == 1')) / \n",
    "    len(groups_all[groups_all['grp']==\"A\"].query('active == 1'))\n",
    ")"
   ]
  },
  {
   "cell_type": "markdown",
   "metadata": {},
   "source": [
    "Мы видим что конверсия снизилась. Нужно проверить вазимосвязи между группами и покупками"
   ]
  },
  {
   "cell_type": "code",
   "execution_count": 52,
   "metadata": {},
   "outputs": [
    {
     "data": {
      "text/html": [
       "<div>\n",
       "<style scoped>\n",
       "    .dataframe tbody tr th:only-of-type {\n",
       "        vertical-align: middle;\n",
       "    }\n",
       "\n",
       "    .dataframe tbody tr th {\n",
       "        vertical-align: top;\n",
       "    }\n",
       "\n",
       "    .dataframe thead th {\n",
       "        text-align: right;\n",
       "    }\n",
       "</style>\n",
       "<table border=\"1\" class=\"dataframe\">\n",
       "  <thead>\n",
       "    <tr style=\"text-align: right;\">\n",
       "      <th></th>\n",
       "      <th>student_id</th>\n",
       "      <th>grp</th>\n",
       "      <th>rev</th>\n",
       "      <th>active</th>\n",
       "    </tr>\n",
       "  </thead>\n",
       "  <tbody>\n",
       "    <tr>\n",
       "      <th>0</th>\n",
       "      <td>1489</td>\n",
       "      <td>B</td>\n",
       "      <td>0.0</td>\n",
       "      <td>0.0</td>\n",
       "    </tr>\n",
       "    <tr>\n",
       "      <th>1</th>\n",
       "      <td>1627</td>\n",
       "      <td>A</td>\n",
       "      <td>990.0</td>\n",
       "      <td>1.0</td>\n",
       "    </tr>\n",
       "    <tr>\n",
       "      <th>2</th>\n",
       "      <td>1768</td>\n",
       "      <td>B</td>\n",
       "      <td>0.0</td>\n",
       "      <td>0.0</td>\n",
       "    </tr>\n",
       "    <tr>\n",
       "      <th>3</th>\n",
       "      <td>1783</td>\n",
       "      <td>B</td>\n",
       "      <td>0.0</td>\n",
       "      <td>0.0</td>\n",
       "    </tr>\n",
       "    <tr>\n",
       "      <th>4</th>\n",
       "      <td>1794</td>\n",
       "      <td>A</td>\n",
       "      <td>0.0</td>\n",
       "      <td>0.0</td>\n",
       "    </tr>\n",
       "  </tbody>\n",
       "</table>\n",
       "</div>"
      ],
      "text/plain": [
       "   student_id grp    rev  active\n",
       "0        1489   B    0.0     0.0\n",
       "1        1627   A  990.0     1.0\n",
       "2        1768   B    0.0     0.0\n",
       "3        1783   B    0.0     0.0\n",
       "4        1794   A    0.0     0.0"
      ]
     },
     "execution_count": 52,
     "metadata": {},
     "output_type": "execute_result"
    }
   ],
   "source": [
    "groups_all.head()"
   ]
  },
  {
   "cell_type": "code",
   "execution_count": 53,
   "metadata": {},
   "outputs": [
    {
     "data": {
      "text/html": [
       "<div>\n",
       "<style scoped>\n",
       "    .dataframe tbody tr th:only-of-type {\n",
       "        vertical-align: middle;\n",
       "    }\n",
       "\n",
       "    .dataframe tbody tr th {\n",
       "        vertical-align: top;\n",
       "    }\n",
       "\n",
       "    .dataframe thead th {\n",
       "        text-align: right;\n",
       "    }\n",
       "</style>\n",
       "<table border=\"1\" class=\"dataframe\">\n",
       "  <thead>\n",
       "    <tr style=\"text-align: right;\">\n",
       "      <th></th>\n",
       "      <th>student_id</th>\n",
       "      <th>grp</th>\n",
       "      <th>rev</th>\n",
       "      <th>active</th>\n",
       "      <th>buy</th>\n",
       "    </tr>\n",
       "  </thead>\n",
       "  <tbody>\n",
       "    <tr>\n",
       "      <th>0</th>\n",
       "      <td>1489</td>\n",
       "      <td>B</td>\n",
       "      <td>0.0</td>\n",
       "      <td>0.0</td>\n",
       "      <td>False</td>\n",
       "    </tr>\n",
       "    <tr>\n",
       "      <th>1</th>\n",
       "      <td>1627</td>\n",
       "      <td>A</td>\n",
       "      <td>990.0</td>\n",
       "      <td>1.0</td>\n",
       "      <td>True</td>\n",
       "    </tr>\n",
       "    <tr>\n",
       "      <th>2</th>\n",
       "      <td>1768</td>\n",
       "      <td>B</td>\n",
       "      <td>0.0</td>\n",
       "      <td>0.0</td>\n",
       "      <td>False</td>\n",
       "    </tr>\n",
       "    <tr>\n",
       "      <th>3</th>\n",
       "      <td>1783</td>\n",
       "      <td>B</td>\n",
       "      <td>0.0</td>\n",
       "      <td>0.0</td>\n",
       "      <td>False</td>\n",
       "    </tr>\n",
       "    <tr>\n",
       "      <th>4</th>\n",
       "      <td>1794</td>\n",
       "      <td>A</td>\n",
       "      <td>0.0</td>\n",
       "      <td>0.0</td>\n",
       "      <td>False</td>\n",
       "    </tr>\n",
       "  </tbody>\n",
       "</table>\n",
       "</div>"
      ],
      "text/plain": [
       "   student_id grp    rev  active    buy\n",
       "0        1489   B    0.0     0.0  False\n",
       "1        1627   A  990.0     1.0   True\n",
       "2        1768   B    0.0     0.0  False\n",
       "3        1783   B    0.0     0.0  False\n",
       "4        1794   A    0.0     0.0  False"
      ]
     },
     "execution_count": 53,
     "metadata": {},
     "output_type": "execute_result"
    }
   ],
   "source": [
    "# добавим столбец, со значениями: купил, не купил\n",
    "\n",
    "groups_all['buy'] = groups_all.rev > 0\n",
    "groups_all.head()"
   ]
  },
  {
   "cell_type": "code",
   "execution_count": 54,
   "metadata": {},
   "outputs": [
    {
     "data": {
      "text/html": [
       "<div>\n",
       "<style scoped>\n",
       "    .dataframe tbody tr th:only-of-type {\n",
       "        vertical-align: middle;\n",
       "    }\n",
       "\n",
       "    .dataframe tbody tr th {\n",
       "        vertical-align: top;\n",
       "    }\n",
       "\n",
       "    .dataframe thead th {\n",
       "        text-align: right;\n",
       "    }\n",
       "</style>\n",
       "<table border=\"1\" class=\"dataframe\">\n",
       "  <thead>\n",
       "    <tr style=\"text-align: right;\">\n",
       "      <th></th>\n",
       "      <th>student_id</th>\n",
       "      <th>grp</th>\n",
       "      <th>rev</th>\n",
       "      <th>active</th>\n",
       "      <th>buy</th>\n",
       "    </tr>\n",
       "  </thead>\n",
       "  <tbody>\n",
       "    <tr>\n",
       "      <th>1</th>\n",
       "      <td>1627</td>\n",
       "      <td>A</td>\n",
       "      <td>990.0</td>\n",
       "      <td>1.0</td>\n",
       "      <td>True</td>\n",
       "    </tr>\n",
       "    <tr>\n",
       "      <th>10</th>\n",
       "      <td>2085</td>\n",
       "      <td>B</td>\n",
       "      <td>0.0</td>\n",
       "      <td>1.0</td>\n",
       "      <td>False</td>\n",
       "    </tr>\n",
       "    <tr>\n",
       "      <th>12</th>\n",
       "      <td>2215</td>\n",
       "      <td>B</td>\n",
       "      <td>0.0</td>\n",
       "      <td>1.0</td>\n",
       "      <td>False</td>\n",
       "    </tr>\n",
       "    <tr>\n",
       "      <th>43</th>\n",
       "      <td>3391</td>\n",
       "      <td>A</td>\n",
       "      <td>0.0</td>\n",
       "      <td>1.0</td>\n",
       "      <td>False</td>\n",
       "    </tr>\n",
       "    <tr>\n",
       "      <th>45</th>\n",
       "      <td>3401</td>\n",
       "      <td>B</td>\n",
       "      <td>0.0</td>\n",
       "      <td>1.0</td>\n",
       "      <td>False</td>\n",
       "    </tr>\n",
       "  </tbody>\n",
       "</table>\n",
       "</div>"
      ],
      "text/plain": [
       "    student_id grp    rev  active    buy\n",
       "1         1627   A  990.0     1.0   True\n",
       "10        2085   B    0.0     1.0  False\n",
       "12        2215   B    0.0     1.0  False\n",
       "43        3391   A    0.0     1.0  False\n",
       "45        3401   B    0.0     1.0  False"
      ]
     },
     "execution_count": 54,
     "metadata": {},
     "output_type": "execute_result"
    }
   ],
   "source": [
    "# подготовим данные для построения кросс таблицы\n",
    "\n",
    "df_chi2 = groups_all[groups_all['active'] == 1]\n",
    "df_chi2.head()"
   ]
  },
  {
   "cell_type": "code",
   "execution_count": 55,
   "metadata": {
    "scrolled": true
   },
   "outputs": [
    {
     "data": {
      "text/html": [
       "<div>\n",
       "<style scoped>\n",
       "    .dataframe tbody tr th:only-of-type {\n",
       "        vertical-align: middle;\n",
       "    }\n",
       "\n",
       "    .dataframe tbody tr th {\n",
       "        vertical-align: top;\n",
       "    }\n",
       "\n",
       "    .dataframe thead th {\n",
       "        text-align: right;\n",
       "    }\n",
       "</style>\n",
       "<table border=\"1\" class=\"dataframe\">\n",
       "  <thead>\n",
       "    <tr style=\"text-align: right;\">\n",
       "      <th>buy</th>\n",
       "      <th>False</th>\n",
       "      <th>True</th>\n",
       "    </tr>\n",
       "    <tr>\n",
       "      <th>grp</th>\n",
       "      <th></th>\n",
       "      <th></th>\n",
       "    </tr>\n",
       "  </thead>\n",
       "  <tbody>\n",
       "    <tr>\n",
       "      <th>A</th>\n",
       "      <td>1460</td>\n",
       "      <td>78</td>\n",
       "    </tr>\n",
       "    <tr>\n",
       "      <th>B</th>\n",
       "      <td>6489</td>\n",
       "      <td>314</td>\n",
       "    </tr>\n",
       "  </tbody>\n",
       "</table>\n",
       "</div>"
      ],
      "text/plain": [
       "buy  False  True \n",
       "grp              \n",
       "A     1460     78\n",
       "B     6489    314"
      ]
     },
     "execution_count": 55,
     "metadata": {},
     "output_type": "execute_result"
    }
   ],
   "source": [
    "# построем кросс таблицу\n",
    "\n",
    "crosstabUsers = pd.crosstab(df_chi2.grp, df_chi2.buy)\n",
    "crosstabUsers"
   ]
  },
  {
   "cell_type": "markdown",
   "metadata": {},
   "source": [
    "Определим гипотезы:\n",
    "H0 - Взаимосвязи между группами и совершенными покупками нет\n",
    "H1 - Взаимсвязь между группами и совершенными покупками есть"
   ]
  },
  {
   "cell_type": "code",
   "execution_count": 56,
   "metadata": {
    "scrolled": true
   },
   "outputs": [
    {
     "data": {
      "text/plain": [
       "(0.48480826522557896, 0.48625240457231045)"
      ]
     },
     "execution_count": 56,
     "metadata": {},
     "output_type": "execute_result"
    }
   ],
   "source": [
    "# используем хи квадрат для проверки гипотез\n",
    "\n",
    "stat, p, dof, expected = ss.chi2_contingency(crosstabUsers)\n",
    "stat, p"
   ]
  },
  {
   "cell_type": "markdown",
   "metadata": {},
   "source": [
    "p-value больше порогового значения 0.05, взаимосвязи между группами и совершенными покупками нет."
   ]
  },
  {
   "cell_type": "markdown",
   "metadata": {},
   "source": [
    "##### Вывод:\n",
    "    - Мы не можем отклонить нулевую гипотезу, значит мы не можем быть уверены что изменения произошли не случайно.\n",
    "      \n",
    "##### Размышления:\n",
    "    - Мы можем сравнить еще ARPU, что бы внести больше ясности в результат, для этого нам понадобятся выборки со \n",
    "      всеми активными пользователями"
   ]
  },
  {
   "cell_type": "code",
   "execution_count": null,
   "metadata": {},
   "outputs": [],
   "source": []
  },
  {
   "cell_type": "markdown",
   "metadata": {},
   "source": [
    "##### 1.2.3 Сравним ARPU"
   ]
  },
  {
   "cell_type": "code",
   "execution_count": 57,
   "metadata": {},
   "outputs": [
    {
     "data": {
      "text/html": [
       "<div>\n",
       "<style scoped>\n",
       "    .dataframe tbody tr th:only-of-type {\n",
       "        vertical-align: middle;\n",
       "    }\n",
       "\n",
       "    .dataframe tbody tr th {\n",
       "        vertical-align: top;\n",
       "    }\n",
       "\n",
       "    .dataframe thead th {\n",
       "        text-align: right;\n",
       "    }\n",
       "</style>\n",
       "<table border=\"1\" class=\"dataframe\">\n",
       "  <thead>\n",
       "    <tr style=\"text-align: right;\">\n",
       "      <th></th>\n",
       "      <th>student_id</th>\n",
       "      <th>grp</th>\n",
       "      <th>rev</th>\n",
       "    </tr>\n",
       "  </thead>\n",
       "  <tbody>\n",
       "    <tr>\n",
       "      <th>1</th>\n",
       "      <td>1627</td>\n",
       "      <td>A</td>\n",
       "      <td>990.0</td>\n",
       "    </tr>\n",
       "    <tr>\n",
       "      <th>10</th>\n",
       "      <td>2085</td>\n",
       "      <td>B</td>\n",
       "      <td>0.0</td>\n",
       "    </tr>\n",
       "    <tr>\n",
       "      <th>12</th>\n",
       "      <td>2215</td>\n",
       "      <td>B</td>\n",
       "      <td>0.0</td>\n",
       "    </tr>\n",
       "    <tr>\n",
       "      <th>43</th>\n",
       "      <td>3391</td>\n",
       "      <td>A</td>\n",
       "      <td>0.0</td>\n",
       "    </tr>\n",
       "    <tr>\n",
       "      <th>45</th>\n",
       "      <td>3401</td>\n",
       "      <td>B</td>\n",
       "      <td>0.0</td>\n",
       "    </tr>\n",
       "  </tbody>\n",
       "</table>\n",
       "</div>"
      ],
      "text/plain": [
       "    student_id grp    rev\n",
       "1         1627   A  990.0\n",
       "10        2085   B    0.0\n",
       "12        2215   B    0.0\n",
       "43        3391   A    0.0\n",
       "45        3401   B    0.0"
      ]
     },
     "execution_count": 57,
     "metadata": {},
     "output_type": "execute_result"
    }
   ],
   "source": [
    "df_arpu = groups_all.query('active == 1')\n",
    "df_arpu = df_arpu[['student_id', 'grp', 'rev']]\n",
    "df_arpu.head()"
   ]
  },
  {
   "cell_type": "code",
   "execution_count": 58,
   "metadata": {},
   "outputs": [
    {
     "data": {
      "image/png": "[encoded data removed]",
      "text/plain": [
       "<Figure size 432x288 with 1 Axes>"
      ]
     },
     "metadata": {},
     "output_type": "display_data"
    }
   ],
   "source": [
    "# Посмотрим гистограммы\n",
    "\n",
    "df_arpu[df_arpu['grp'] == \"A\"].rev.hist();"
   ]
  },
  {
   "cell_type": "code",
   "execution_count": 59,
   "metadata": {},
   "outputs": [
    {
     "data": {
      "image/png": "[encoded data removed]",
      "text/plain": [
       "<Figure size 432x288 with 1 Axes>"
      ]
     },
     "metadata": {},
     "output_type": "display_data"
    }
   ],
   "source": [
    "df_arpu[df_arpu['grp'] == \"B\"].rev.hist();"
   ]
  },
  {
   "cell_type": "code",
   "execution_count": 60,
   "metadata": {
    "scrolled": true
   },
   "outputs": [
    {
     "data": {
      "image/png": "[encoded data removed]",
      "text/plain": [
       "<Figure size 432x288 with 1 Axes>"
      ]
     },
     "metadata": {},
     "output_type": "display_data"
    }
   ],
   "source": [
    "# посмотрим бокс плот\n",
    "\n",
    "sns.boxplot(data=(df_arpu[df_arpu['grp'] == \"A\"].rev, df_arpu[df_arpu['grp'] == \"B\"].rev));"
   ]
  },
  {
   "cell_type": "markdown",
   "metadata": {},
   "source": [
    "Ну как и ожидалось преобладают нулевые значения и их много"
   ]
  },
  {
   "cell_type": "code",
   "execution_count": 61,
   "metadata": {},
   "outputs": [
    {
     "data": {
      "text/plain": [
       "count    1538.000000\n",
       "mean       47.347204\n",
       "std       290.490632\n",
       "min         0.000000\n",
       "25%         0.000000\n",
       "50%         0.000000\n",
       "75%         0.000000\n",
       "max      3660.000000\n",
       "Name: rev, dtype: float64"
      ]
     },
     "execution_count": 61,
     "metadata": {},
     "output_type": "execute_result"
    }
   ],
   "source": [
    "# посмотрим описательные статистики\n",
    "\n",
    "df_arpu[df_arpu['grp'] == \"A\"].rev.describe()"
   ]
  },
  {
   "cell_type": "code",
   "execution_count": 62,
   "metadata": {},
   "outputs": [
    {
     "data": {
      "text/plain": [
       "count    6803.000000\n",
       "mean       58.058798\n",
       "std       313.770201\n",
       "min         0.000000\n",
       "25%         0.000000\n",
       "50%         0.000000\n",
       "75%         0.000000\n",
       "max      4650.000000\n",
       "Name: rev, dtype: float64"
      ]
     },
     "execution_count": 62,
     "metadata": {},
     "output_type": "execute_result"
    }
   ],
   "source": [
    "df_arpu[df_arpu['grp'] == \"B\"].rev.describe()"
   ]
  },
  {
   "cell_type": "markdown",
   "metadata": {},
   "source": [
    "Видим что изменения есть, они не большие, применять будем бутстрап. Посмотрим сможем ли мы поймать тут различия средних значений в группах."
   ]
  },
  {
   "cell_type": "markdown",
   "metadata": {},
   "source": [
    "Сформулируем гипотезы:\\\n",
    "H0 - отсутствие различий в группах\\\n",
    "H1 - срадние наших групп имеют различия"
   ]
  },
  {
   "cell_type": "code",
   "execution_count": 63,
   "metadata": {},
   "outputs": [
    {
     "data": {
      "application/vnd.jupyter.widget-view+json": {
       "model_id": "f9a98b7ecc6a494d808106dec7bb8741",
       "version_major": 2,
       "version_minor": 0
      },
      "text/plain": [
       "HBox(children=(FloatProgress(value=0.0, max=20000.0), HTML(value='')))"
      ]
     },
     "metadata": {},
     "output_type": "display_data"
    },
    {
     "name": "stdout",
     "output_type": "stream",
     "text": [
      "\n"
     ]
    },
    {
     "data": {
      "image/png": "[encoded data removed]",
      "text/plain": [
       "<Figure size 432x288 with 1 Axes>"
      ]
     },
     "metadata": {},
     "output_type": "display_data"
    }
   ],
   "source": [
    "# Возьмем больше бутстрапированных подвыборок для более точной оценки\n",
    "\n",
    "bootstraped_data = get_bootstrap(\n",
    "    df_arpu[df_arpu['grp'] == \"A\"].rev, \n",
    "    df_arpu[df_arpu['grp'] == \"B\"].rev, \n",
    "    boot_it = 20000, \n",
    "    statistic = np.mean\n",
    ")# в результате хранится массив разности средних, ДИ и pvalue"
   ]
  },
  {
   "cell_type": "code",
   "execution_count": 64,
   "metadata": {},
   "outputs": [
    {
     "data": {
      "text/html": [
       "<div>\n",
       "<style scoped>\n",
       "    .dataframe tbody tr th:only-of-type {\n",
       "        vertical-align: middle;\n",
       "    }\n",
       "\n",
       "    .dataframe tbody tr th {\n",
       "        vertical-align: top;\n",
       "    }\n",
       "\n",
       "    .dataframe thead th {\n",
       "        text-align: right;\n",
       "    }\n",
       "</style>\n",
       "<table border=\"1\" class=\"dataframe\">\n",
       "  <thead>\n",
       "    <tr style=\"text-align: right;\">\n",
       "      <th></th>\n",
       "      <th>0</th>\n",
       "    </tr>\n",
       "  </thead>\n",
       "  <tbody>\n",
       "    <tr>\n",
       "      <th>0.025</th>\n",
       "      <td>-20.896495</td>\n",
       "    </tr>\n",
       "    <tr>\n",
       "      <th>0.975</th>\n",
       "      <td>-0.641056</td>\n",
       "    </tr>\n",
       "  </tbody>\n",
       "</table>\n",
       "</div>"
      ],
      "text/plain": [
       "               0\n",
       "0.025 -20.896495\n",
       "0.975  -0.641056"
      ]
     },
     "execution_count": 64,
     "metadata": {},
     "output_type": "execute_result"
    }
   ],
   "source": [
    "# ноль не входит в доверительный интервал\n",
    "\n",
    "bootstraped_data['ci']"
   ]
  },
  {
   "cell_type": "code",
   "execution_count": 65,
   "metadata": {
    "scrolled": true
   },
   "outputs": [
    {
     "data": {
      "text/plain": [
       "0.03789658653390519"
      ]
     },
     "execution_count": 65,
     "metadata": {},
     "output_type": "execute_result"
    }
   ],
   "source": [
    "# p_value меньше 0.05, мы отклоняем нашу нулевую гипотезу о равенстве средних\n",
    "\n",
    "bootstraped_data['p_value']"
   ]
  },
  {
   "cell_type": "code",
   "execution_count": 66,
   "metadata": {},
   "outputs": [],
   "source": [
    "a_mean = df_arpu[df_arpu['grp'] == \"A\"].rev.mean()\n",
    "b_mean = df_arpu[df_arpu['grp'] == \"B\"].rev.mean()"
   ]
  },
  {
   "cell_type": "code",
   "execution_count": 67,
   "metadata": {},
   "outputs": [
    {
     "name": "stdout",
     "output_type": "stream",
     "text": [
      "ARPU контрольной группы за время проведения эксперимента составило     47.35\n",
      "ARPU тестовой группы за время проведения эксперимента составило     58.06\n",
      "Увеличение ARPU на     10.71 или на 22.62%\n"
     ]
    }
   ],
   "source": [
    "# Давайте посмотрим, как изменилась сама метрика ARPU в группах за время проведения эксперимента\n",
    "\n",
    "print(f'ARPU контрольной группы за время проведения эксперимента составило \\\n",
    "    {round(a_mean, 2)}'\n",
    ")\n",
    "\n",
    "print(f'ARPU тестовой группы за время проведения эксперимента составило \\\n",
    "    {round(b_mean, 2)}'\n",
    ")\n",
    "\n",
    "print(f'Увеличение ARPU на \\\n",
    "    {round(b_mean - a_mean, 2)} или на {round((b_mean - a_mean)/a_mean * 100, 2)}%'\n",
    ")"
   ]
  },
  {
   "cell_type": "markdown",
   "metadata": {},
   "source": [
    "##### Вывод:\n",
    "    - Мы статистически доказали, что средняя выручка на одного пользователя наших групп имеет различия\n",
    "    - При введении новой механики оплаты, мы ожидаем рост выручки на одного пользователя"
   ]
  },
  {
   "cell_type": "markdown",
   "metadata": {},
   "source": [
    "### Подведем итоги A/B эксперимента\n",
    "\n",
    "1.Для нормального заключения по эксперименту, нам не хватает решения нескольких вопросов:\n",
    "\n",
    "- Нам желательно знать, хорошо ли справляется наша система сплитования и быть уверенным в ее работе. \n",
    "- Часть данных нам почему то принесли только через два дня(из трактовки 3 задания понимаем что это нормальный ход вещей, и постоянная процедура, для которой мы будем писать функцию). \n",
    "- Так же было замечено, что номера наших пользователей идут более менее рядом и по порядку, но в файле который нам принесли через 2 дня, присутствуют отдаленые значения id студентов. Это наводит на мысль, что часть данных могли отстутствовать и обязательно нужно выяснить в чем тут дело.\n",
    "- Наши 149 пользователей которые не были активны в дни эксперимента, но все равно имеют покупки, их происхождение тоже нужно выяснять (в нашем случае мы допустили что это автоплатежи)\n",
    "- В тестовой группе, есть аномальное количество значений на сумму 1900, и значения 1900.0001, этот вопрос тоже нуждается в изучении. Все таки нам нужно иметь максимально репрезентативные выборки для сравнения, и аномальные значения обусловленные чем то другим плохо вписываются в эксперимент.\n",
    "\n",
    "2.Если считать, что наши вопросы выше, решились благополучным исходом, и мы вполне можем использовать эти данные для проведения эксперимента, то:\n",
    "\n",
    "- В тестовой группе мы наблюдаем увеличение метрик ARPPU и ARPU.\n",
    "- Новая механика никак не повлияла на конверсии в покупку\n",
    "\n",
    "Итог: новую механику стоит запускать на всех пользователей."
   ]
  },
  {
   "cell_type": "code",
   "execution_count": null,
   "metadata": {},
   "outputs": [],
   "source": []
  },
  {
   "cell_type": "code",
   "execution_count": null,
   "metadata": {},
   "outputs": [],
   "source": []
  },
  {
   "cell_type": "markdown",
   "metadata": {},
   "source": [
    "### Задание 2. SQL"
   ]
  },
  {
   "cell_type": "markdown",
   "metadata": {},
   "source": [
    "Все запросы написаны на нашем сервере постгреса в редаше, их структура совпадает с той что в заданиях"
   ]
  },
  {
   "cell_type": "markdown",
   "metadata": {},
   "source": [
    "##### 2.1 Очень усердные ученики"
   ]
  },
  {
   "cell_type": "markdown",
   "metadata": {},
   "source": [
    "Образовательные курсы состоят из различных уроков, каждый из которых состоит из нескольких маленьких заданий. Каждое такое маленькое задание называется \"горошиной\".\n",
    "\n",
    "Назовём очень усердным учеником того пользователя, который хотя бы раз за текущий месяц правильно решил 20 горошин за час.\n",
    "\n",
    "Дана таблица peas:\n",
    "\n",
    "\n",
    "Атрибут(Тип) - Значение: \\\n",
    "st_id(Int) - ID ученика\\\n",
    "timest(timestamp) - Время решения карточки\\\n",
    "correct(bool) - Правильно ли решена горошина?\\\n",
    "subject(text) - Дисциплина, в которой находится горошина\n",
    "\n",
    "Необходимо написать оптимальный запрос, который даст информацию о количестве очень усердных студентов за март 2020 года.\n",
    "\n",
    "NB! Под усердным студентом мы понимаем студента, который правильно решил 20 задач за текущий месяц."
   ]
  },
  {
   "cell_type": "markdown",
   "metadata": {},
   "source": [
    "Запрос написан на PostgreSQL"
   ]
  },
  {
   "cell_type": "code",
   "execution_count": 68,
   "metadata": {},
   "outputs": [
    {
     "data": {
      "text/plain": [
       "\"\\n\\nSELECT COUNT(DISTINCT a.st_id)\\n\\nFROM (\\n     SELECT\\n         st_id, \\n         COUNT(correct) OVER (\\n                             PARTITION BY st_id                                      -- группируем по st_id\\n                             ORDER BY timest ASC                                     -- сортируем по времени\\n                             RANGE BETWEEN '0 hour' PRECEDING AND '1 hour' FOLLOWING -- делаем окно в 1 час\\n         ) AS peas_per_hour                 -- считаем для каждого окна в 1 час, решеные горошины\\n        \\n     FROM peas  \\n        \\n     WHERE\\n         correct = '1'                      -- отбираем только правильно выполненные горошины\\n         AND\\n         date_part('year', timest) = '2020' -- берем нужный год\\n         AND\\n         date_part('month', timest) = '3'   -- берем нужный месяц\\n) AS a\\n\\nWHERE a.peas_per_hour >= 20\\n\\n\""
      ]
     },
     "execution_count": 68,
     "metadata": {},
     "output_type": "execute_result"
    }
   ],
   "source": [
    "\"\"\"\n",
    "\n",
    "SELECT COUNT(DISTINCT a.st_id)\n",
    "\n",
    "FROM (\n",
    "     SELECT\n",
    "         st_id, \n",
    "         COUNT(correct) OVER (\n",
    "                             PARTITION BY st_id                                      -- группируем по st_id\n",
    "                             ORDER BY timest ASC                                     -- сортируем по времени\n",
    "                             RANGE BETWEEN '0 hour' PRECEDING AND '1 hour' FOLLOWING -- делаем окно в 1 час\n",
    "         ) AS peas_per_hour                 -- считаем для каждого окна в 1 час, решеные горошины\n",
    "        \n",
    "     FROM peas  \n",
    "        \n",
    "     WHERE\n",
    "         correct = '1'                      -- отбираем только правильно выполненные горошины\n",
    "         AND\n",
    "         date_part('year', timest) = '2020' -- берем нужный год\n",
    "         AND\n",
    "         date_part('month', timest) = '3'   -- берем нужный месяц\n",
    ") AS a\n",
    "\n",
    "WHERE a.peas_per_hour >= 20\n",
    "\n",
    "\"\"\""
   ]
  },
  {
   "cell_type": "markdown",
   "metadata": {},
   "source": [
    "##### 2.2 Оптимизация воронки"
   ]
  },
  {
   "cell_type": "markdown",
   "metadata": {},
   "source": [
    "Дана таблицы: peas (см. выше), studs:\n",
    "\n",
    "Атрибут(тип) - Смысловое значение\\\n",
    "st_id(int) - ID ученика\\\n",
    "test_grp(text) - Метка ученика в данном эксперименте\n",
    "\n",
    "и checks:\n",
    "\n",
    "Название атрибута(Тип атрибута) - Смысловое значение\\\n",
    "st_id(int) - ID ученика\\\n",
    "sale_time(timestamp) - Время покупки\\\n",
    "money(int) - Цена, по которой приобрели данный курс\\\n",
    "subject(text) - Дисциплина, на которую приобрели полный доступ\n",
    "\n",
    "Необходимо в одном запросе выгрузить следующую информацию о группах пользователей:\\\n",
    "ARPU\\ \n",
    "ARPAU \\\n",
    "CR в покупку \\\n",
    "СR активного пользователя в покупку \\\n",
    "CR пользователя из активности по математике (subject = ’math’) в покупку курса по математике"
   ]
  },
  {
   "cell_type": "markdown",
   "metadata": {},
   "source": [
    "Запрос написан на PostgreSQL"
   ]
  },
  {
   "cell_type": "code",
   "execution_count": 69,
   "metadata": {},
   "outputs": [
    {
     "data": {
      "text/plain": [
       "\"\\n\\nSELECT \\n    grp.test_grp as group,\\n    SUM(payment.money)/COUNT(DISTINCT(grp.st_id)) AS ARPU,\\n    SUM(payment.money)/COUNT(DISTINCT(lessons.st_id)) AS ARPAU,\\n    CAST(COUNT(DISTINCT payment.st_id) AS float)/COUNT(DISTINCT grp.st_id)*100 AS CR_to_purchase,\\n    CAST(COUNT(DISTINCT payment.st_id) AS float)/COUNT(DISTINCT lessons.st_id)*100 CR_active_users_to_purchase,\\n    CAST(SUM(CASE WHEN payment.subject = 'math' THEN 1 ELSE 0 END) as float) / SUM(CASE WHEN lessons.subject = 'math' THEN 1 ELSE 0 END)*100 AS CR_math\\n\\nFROM\\n    (\\n    SELECT \\n        DISTINCT(st_id),\\n        test_grp\\n    FROM studs\\n) AS grp\\n\\nLEFT JOIN\\n    (\\n    SELECT \\n        st_id,\\n        subject\\n    FROM peas\\n    GROUP BY \\n        st_id, \\n        subject\\n) AS lessons\\nON grp.st_id=lessons.st_id\\n\\nLEFT JOIN\\n    (\\n    SELECT\\n        st_id,\\n        sum(money) AS money,\\n        subject\\n    FROM checks\\n    GROUP BY \\n        st_id, \\n        subject\\n) AS payment\\nON grp.st_id=payment.st_id AND lessons.subject=payment.subject\\n    \\nGROUP BY grp.test_grp\\n\\n\""
      ]
     },
     "execution_count": 69,
     "metadata": {},
     "output_type": "execute_result"
    }
   ],
   "source": [
    "\"\"\"\n",
    "\n",
    "SELECT \n",
    "    grp.test_grp as group,\n",
    "    SUM(payment.money)/COUNT(DISTINCT(grp.st_id)) AS ARPU,\n",
    "    SUM(payment.money)/COUNT(DISTINCT(lessons.st_id)) AS ARPAU,\n",
    "    CAST(COUNT(DISTINCT payment.st_id) AS float)/COUNT(DISTINCT grp.st_id)*100 AS CR_to_purchase,\n",
    "    CAST(COUNT(DISTINCT payment.st_id) AS float)/COUNT(DISTINCT lessons.st_id)*100 CR_active_users_to_purchase,\n",
    "    CAST(SUM(CASE WHEN payment.subject = 'math' THEN 1 ELSE 0 END) as float) / SUM(CASE WHEN lessons.subject = 'math' THEN 1 ELSE 0 END)*100 AS CR_math\n",
    "\n",
    "FROM\n",
    "    (\n",
    "    SELECT \n",
    "        DISTINCT(st_id),\n",
    "        test_grp\n",
    "    FROM studs\n",
    ") AS grp\n",
    "\n",
    "LEFT JOIN\n",
    "    (\n",
    "    SELECT \n",
    "        st_id,\n",
    "        subject\n",
    "    FROM peas\n",
    "    GROUP BY \n",
    "        st_id, \n",
    "        subject\n",
    ") AS lessons\n",
    "ON grp.st_id=lessons.st_id\n",
    "\n",
    "LEFT JOIN\n",
    "    (\n",
    "    SELECT\n",
    "        st_id,\n",
    "        sum(money) AS money,\n",
    "        subject\n",
    "    FROM checks\n",
    "    GROUP BY \n",
    "        st_id, \n",
    "        subject\n",
    ") AS payment\n",
    "ON grp.st_id=payment.st_id AND lessons.subject=payment.subject\n",
    "    \n",
    "GROUP BY grp.test_grp\n",
    "\n",
    "\"\"\""
   ]
  },
  {
   "cell_type": "code",
   "execution_count": null,
   "metadata": {},
   "outputs": [],
   "source": []
  },
  {
   "cell_type": "code",
   "execution_count": null,
   "metadata": {},
   "outputs": [],
   "source": []
  },
  {
   "cell_type": "markdown",
   "metadata": {},
   "source": [
    "### Задание 3. Python"
   ]
  },
  {
   "cell_type": "markdown",
   "metadata": {},
   "source": [
    "##### Задача\n",
    "1. Реализуйте функцию, которая будет автоматически подгружать информацию из дополнительного файла groups_add.csv (заголовки могут отличаться) и на основании дополнительных параметров пересчитывать метрики.\n",
    "2. Реализуйте функцию, которая будет строить графики по получаемым метрикам."
   ]
  },
  {
   "cell_type": "markdown",
   "metadata": {},
   "source": [
    "Как я понял из задания, вот мы посчитали все метрики из тех данных что у нас есть, и нам приносят через 2 дня файл groups_add, и нужно включить его в расчет"
   ]
  },
  {
   "cell_type": "code",
   "execution_count": 68,
   "metadata": {
    "scrolled": true
   },
   "outputs": [],
   "source": [
    "# подготовим итоговый датафрейм к которому будем добавлять фаил groups_add\n",
    "active_studs.columns = ['id','is_active']\n",
    "\n",
    "checks.columns = ['id','rev']\n",
    "checks['paid'] = 1            # делаем тоже самое и тут\n",
    "\n",
    "groups.columns = ['id','grp']"
   ]
  },
  {
   "cell_type": "code",
   "execution_count": 69,
   "metadata": {
    "scrolled": true
   },
   "outputs": [
    {
     "data": {
      "text/html": [
       "<div>\n",
       "<style scoped>\n",
       "    .dataframe tbody tr th:only-of-type {\n",
       "        vertical-align: middle;\n",
       "    }\n",
       "\n",
       "    .dataframe tbody tr th {\n",
       "        vertical-align: top;\n",
       "    }\n",
       "\n",
       "    .dataframe thead th {\n",
       "        text-align: right;\n",
       "    }\n",
       "</style>\n",
       "<table border=\"1\" class=\"dataframe\">\n",
       "  <thead>\n",
       "    <tr style=\"text-align: right;\">\n",
       "      <th></th>\n",
       "      <th>id</th>\n",
       "      <th>grp</th>\n",
       "      <th>rev</th>\n",
       "      <th>paid</th>\n",
       "      <th>is_active</th>\n",
       "    </tr>\n",
       "  </thead>\n",
       "  <tbody>\n",
       "    <tr>\n",
       "      <th>0</th>\n",
       "      <td>1489</td>\n",
       "      <td>B</td>\n",
       "      <td>0.0</td>\n",
       "      <td>0.0</td>\n",
       "      <td>0.0</td>\n",
       "    </tr>\n",
       "    <tr>\n",
       "      <th>1</th>\n",
       "      <td>1627</td>\n",
       "      <td>A</td>\n",
       "      <td>990.0</td>\n",
       "      <td>1.0</td>\n",
       "      <td>1.0</td>\n",
       "    </tr>\n",
       "    <tr>\n",
       "      <th>2</th>\n",
       "      <td>1768</td>\n",
       "      <td>B</td>\n",
       "      <td>0.0</td>\n",
       "      <td>0.0</td>\n",
       "      <td>0.0</td>\n",
       "    </tr>\n",
       "    <tr>\n",
       "      <th>3</th>\n",
       "      <td>1783</td>\n",
       "      <td>B</td>\n",
       "      <td>0.0</td>\n",
       "      <td>0.0</td>\n",
       "      <td>0.0</td>\n",
       "    </tr>\n",
       "    <tr>\n",
       "      <th>4</th>\n",
       "      <td>1794</td>\n",
       "      <td>A</td>\n",
       "      <td>0.0</td>\n",
       "      <td>0.0</td>\n",
       "      <td>0.0</td>\n",
       "    </tr>\n",
       "  </tbody>\n",
       "</table>\n",
       "</div>"
      ],
      "text/plain": [
       "     id grp    rev  paid  is_active\n",
       "0  1489   B    0.0   0.0        0.0\n",
       "1  1627   A  990.0   1.0        1.0\n",
       "2  1768   B    0.0   0.0        0.0\n",
       "3  1783   B    0.0   0.0        0.0\n",
       "4  1794   A    0.0   0.0        0.0"
      ]
     },
     "execution_count": 69,
     "metadata": {},
     "output_type": "execute_result"
    }
   ],
   "source": [
    "full_df = (\n",
    "    groups\n",
    "        .merge(\n",
    "            checks,\n",
    "            on='id',\n",
    "            how='left'\n",
    "        )\n",
    "        .merge(\n",
    "            active_studs,\n",
    "            on='id',\n",
    "            how='left'\n",
    "        )\n",
    "        .fillna(0)\n",
    ")          \n",
    "full_df.head() \n",
    "                    # Соединяем все и получаем готовый датафрейм, к которому будем добавлять файл groups_add"
   ]
  },
  {
   "cell_type": "markdown",
   "metadata": {},
   "source": [
    "##### 3.1 Функция которая добавляет файл groups_add и пересчитывает метрики"
   ]
  },
  {
   "cell_type": "markdown",
   "metadata": {},
   "source": [
    "Функция fileAdd() будет на вход принимать два параметра, ссылку на яндекс диске с файлом groups_add и итоговый датафрейм(с id, группой(grp), доход(rev), заплатил или нет(paid), был активен или нет(is_active)) к которому нужно добавить информацию. На выходе получаем датафрейм с метриками которые мы считали в первом задании"
   ]
  },
  {
   "cell_type": "code",
   "execution_count": 70,
   "metadata": {},
   "outputs": [],
   "source": [
    "def fileAdd(groups_add_url, df):\n",
    "    \n",
    "    groups_add_url       = groups_add_url\n",
    "    base_url             = 'https://cloud-api.yandex.net/v1/disk/public/resources/download?'\n",
    "    final_groups_add_url = base_url + urlencode(dict(public_key=groups_add_url))\n",
    "    response_groups_add  = requests.get(final_groups_add_url)\n",
    "    json_groups_add      = json.loads(response_groups_add.text)['href']\n",
    "    groups_add           = pd.read_csv(json_groups_add)\n",
    "    groups_add.columns   = ['id', 'grp']\n",
    "                                            # Подгрузили датафрейм, привели заголовки в нужный вид\n",
    "    all_df = (\n",
    "        groups_add\n",
    "            .merge(\n",
    "                checks,\n",
    "                on='id',\n",
    "                how='left'\n",
    "            )\n",
    "            .merge(\n",
    "                active_studs,\n",
    "                on='id',\n",
    "                how='left'\n",
    "            )\n",
    "            .fillna(0)\n",
    "    )                                      # Соединили все таблички с информацией об активности и покупки                   \n",
    "    \n",
    "    \n",
    "    all_df = (\n",
    "        pd.concat(\n",
    "            [df, all_df], \n",
    "            ignore_index=True, \n",
    "            axis=0\n",
    "        )                                  \n",
    "    )                                      # Соединили датафреймы старый и новый\n",
    "    \n",
    "    \n",
    "    all_df.id.drop_duplicates(inplace=True)\n",
    "                                           # Удалим дубликаты, что бы исключить пересечение групп\n",
    "    \n",
    "    \n",
    "    # Так как мы сравнивали 3 метрики ARPPU, CR в покупку и ARPU то будем считать только их\n",
    "    \n",
    "    ARPPU = (\n",
    "        all_df[all_df['is_active']== 1]\n",
    "            .query('paid == 1')\n",
    "            .groupby('grp', as_index=False)\n",
    "            .rev\n",
    "            .mean()\n",
    "            .rev\n",
    "    ).round(2)\n",
    "    \n",
    "    \n",
    "    CR = (\n",
    "        all_df\n",
    "            .query('is_active == 1 and paid == 1')\n",
    "            .groupby('grp', as_index=False)\n",
    "            .agg({'id':'nunique'})\n",
    "            .id\n",
    "        /\n",
    "        all_df\n",
    "            .query('is_active == 1')\n",
    "            .groupby('grp', as_index=False)\n",
    "            .agg({'id':'nunique'})\n",
    "            .id\n",
    "    ).mul(100).round(2)\n",
    "\n",
    "    \n",
    "    ARPU = (\n",
    "        all_df[all_df['is_active']== 1]\n",
    "            .groupby('grp', as_index=False)\n",
    "            .agg({'rev':'mean'})\n",
    "            .rev\n",
    "    ).round(2)\n",
    "                                            # Посчитали метрики в группах\n",
    "    \n",
    "    metrics         = pd.DataFrame([ARPPU,CR,ARPU])\n",
    "    metrics.columns = ['A','B']\n",
    "    metrics         = metrics.transpose()\n",
    "    metrics.columns = ['ARPPU','CR_%','ARPU']\n",
    "                                            # Делаем аккуратный датафрейм и переименуем колонки\n",
    "    \n",
    "    return pd.DataFrame(metrics)"
   ]
  },
  {
   "cell_type": "markdown",
   "metadata": {},
   "source": [
    "Посмотрим как изменилась таблица с метриками, посмотрим что было с метриками до появления файла groups_add и что после добавления информации из файла"
   ]
  },
  {
   "cell_type": "code",
   "execution_count": 71,
   "metadata": {},
   "outputs": [
    {
     "data": {
      "text/html": [
       "<div>\n",
       "<style scoped>\n",
       "    .dataframe tbody tr th:only-of-type {\n",
       "        vertical-align: middle;\n",
       "    }\n",
       "\n",
       "    .dataframe tbody tr th {\n",
       "        vertical-align: top;\n",
       "    }\n",
       "\n",
       "    .dataframe thead th {\n",
       "        text-align: right;\n",
       "    }\n",
       "</style>\n",
       "<table border=\"1\" class=\"dataframe\">\n",
       "  <thead>\n",
       "    <tr style=\"text-align: right;\">\n",
       "      <th></th>\n",
       "      <th>ARPPU</th>\n",
       "      <th>CR_%</th>\n",
       "      <th>ARPU</th>\n",
       "    </tr>\n",
       "  </thead>\n",
       "  <tbody>\n",
       "    <tr>\n",
       "      <th>A</th>\n",
       "      <td>933.59</td>\n",
       "      <td>5.08</td>\n",
       "      <td>47.44</td>\n",
       "    </tr>\n",
       "    <tr>\n",
       "      <th>B</th>\n",
       "      <td>1255.83</td>\n",
       "      <td>4.61</td>\n",
       "      <td>57.86</td>\n",
       "    </tr>\n",
       "  </tbody>\n",
       "</table>\n",
       "</div>"
      ],
      "text/plain": [
       "     ARPPU  CR_%   ARPU\n",
       "A   933.59  5.08  47.44\n",
       "B  1255.83  4.61  57.86"
      ]
     },
     "execution_count": 71,
     "metadata": {},
     "output_type": "execute_result"
    }
   ],
   "source": [
    "ARPPU = (\n",
    "    full_df[full_df['is_active']== 1]\n",
    "        .query('paid == 1')\n",
    "        .groupby('grp', as_index=False)\n",
    "        .rev\n",
    "        .mean()\n",
    "        .rev\n",
    ").round(2)\n",
    "\n",
    "CR = (\n",
    "        (\n",
    "        full_df\n",
    "            .query('is_active == 1 and paid == 1')\n",
    "            .groupby('grp', as_index=False)\n",
    "            .agg({'id':'nunique'})\n",
    "            .id\n",
    "        /\n",
    "        full_df\n",
    "            .query('is_active == 1')\n",
    "            .groupby('grp', as_index=False)\n",
    "            .agg({'id':'nunique'})\n",
    "            .id\n",
    "    )\n",
    "    .mul(100)\n",
    "    .round(2)\n",
    ")\n",
    "\n",
    "ARPU = (\n",
    "    full_df[full_df['is_active']== 1]\n",
    "        .groupby('grp', as_index=False)\n",
    "        .agg({'rev':'mean'})\n",
    "        .rev\n",
    ").round(2)\n",
    "\n",
    "metrics = pd.DataFrame([ARPPU,CR,ARPU])\n",
    "metrics.columns = ['A','B']\n",
    "metrics = metrics.transpose()\n",
    "metrics.columns = ['ARPPU','CR_%','ARPU']\n",
    "metrics\n",
    "\n",
    "# это до"
   ]
  },
  {
   "cell_type": "code",
   "execution_count": 72,
   "metadata": {},
   "outputs": [
    {
     "data": {
      "text/html": [
       "<div>\n",
       "<style scoped>\n",
       "    .dataframe tbody tr th:only-of-type {\n",
       "        vertical-align: middle;\n",
       "    }\n",
       "\n",
       "    .dataframe tbody tr th {\n",
       "        vertical-align: top;\n",
       "    }\n",
       "\n",
       "    .dataframe thead th {\n",
       "        text-align: right;\n",
       "    }\n",
       "</style>\n",
       "<table border=\"1\" class=\"dataframe\">\n",
       "  <thead>\n",
       "    <tr style=\"text-align: right;\">\n",
       "      <th></th>\n",
       "      <th>ARPPU</th>\n",
       "      <th>CR_%</th>\n",
       "      <th>ARPU</th>\n",
       "    </tr>\n",
       "  </thead>\n",
       "  <tbody>\n",
       "    <tr>\n",
       "      <th>A</th>\n",
       "      <td>933.59</td>\n",
       "      <td>5.07</td>\n",
       "      <td>47.35</td>\n",
       "    </tr>\n",
       "    <tr>\n",
       "      <th>B</th>\n",
       "      <td>1257.88</td>\n",
       "      <td>4.62</td>\n",
       "      <td>58.06</td>\n",
       "    </tr>\n",
       "  </tbody>\n",
       "</table>\n",
       "</div>"
      ],
      "text/plain": [
       "     ARPPU  CR_%   ARPU\n",
       "A   933.59  5.07  47.35\n",
       "B  1257.88  4.62  58.06"
      ]
     },
     "execution_count": 72,
     "metadata": {},
     "output_type": "execute_result"
    }
   ],
   "source": [
    "# это после\n",
    "metrics = fileAdd('https://disk.yandex.ru/d/3aARY-P9pfaksg', full_df)\n",
    "metrics"
   ]
  },
  {
   "cell_type": "markdown",
   "metadata": {},
   "source": [
    "##### 3.2 Реализуем функцию, которая будет строить графики по получаемым метрикам."
   ]
  },
  {
   "cell_type": "markdown",
   "metadata": {},
   "source": [
    "Тут все просто, функция metricsGraph() получает на вход датафрейм с метриками групп ARPPU, CR, ARPU(именно в такой последовательности) по группам тест и контроль, на выходе получаем визуализацию по группам"
   ]
  },
  {
   "cell_type": "code",
   "execution_count": 73,
   "metadata": {},
   "outputs": [],
   "source": [
    "def metricsGraph(metrics_df):\n",
    "    \n",
    "    fig, axes = plt.subplots(\n",
    "        nrows=1, \n",
    "        ncols=3, \n",
    "        figsize=(14, 6)\n",
    "    ) \n",
    "                                # Устанавливаем параметры отображения\n",
    "        \n",
    "    sns.barplot(\n",
    "        x=metrics_df.index, \n",
    "        y='ARPPU', \n",
    "        data=metrics_df, \n",
    "        ax=axes[0], \n",
    "        palette='seismic'\n",
    "    )\n",
    "    axes[0].set(title='ARPPU')\n",
    "                                # 1 барплот\n",
    "    \n",
    "    sns.barplot(\n",
    "        x=metrics_df.index, \n",
    "        y='CR_%', \n",
    "        data=metrics_df, \n",
    "        ax=axes[1], \n",
    "        palette='seismic'\n",
    "    )\n",
    "    axes[1].set(title='CR_to_pay')\n",
    "                                # 2 барплот\n",
    "    \n",
    "    sns.barplot(\n",
    "        x=metrics_df.index, \n",
    "        y='ARPU', \n",
    "        data=metrics_df, \n",
    "        ax=axes[2], \n",
    "        palette='seismic'\n",
    "    )\n",
    "    axes[2].set(title='ARPU')\n",
    "                                # 3 барплот\n",
    "    \n",
    "    \n",
    "    return plt.show()"
   ]
  },
  {
   "cell_type": "code",
   "execution_count": 74,
   "metadata": {},
   "outputs": [
    {
     "data": {
      "image/png": "[encoded data removed]",
      "text/plain": [
       "<Figure size 1008x432 with 3 Axes>"
      ]
     },
     "metadata": {},
     "output_type": "display_data"
    }
   ],
   "source": [
    "metricsGraph(metrics)"
   ]
  },
  {
   "cell_type": "code",
   "execution_count": null,
   "metadata": {},
   "outputs": [],
   "source": []
  }
 ],
 "metadata": {
  "kernelspec": {
   "display_name": "Python 3",
   "language": "python",
   "name": "python3"
  },
  "language_info": {
   "codemirror_mode": {
    "name": "ipython",
    "version": 3
   },
   "file_extension": ".py",
   "mimetype": "text/x-python",
   "name": "python",
   "nbconvert_exporter": "python",
   "pygments_lexer": "ipython3",
   "version": "3.7.3"
  }
 },
 "nbformat": 4,
 "nbformat_minor": 5
}
